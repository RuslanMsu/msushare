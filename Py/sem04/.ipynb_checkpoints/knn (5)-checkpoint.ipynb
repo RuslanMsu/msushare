{
 "cells": [
  {
   "cell_type": "markdown",
   "metadata": {},
   "source": [
    "### Задание"
   ]
  },
  {
   "cell_type": "markdown",
   "metadata": {},
   "source": [
    "Реализуйте алгоритм классификации метод k ближайших соседей.\n",
    "\n",
    "Требования к коду:\n",
    "* Код должен быть хорошо структурирован\n",
    "* Код должен быть эффективен\n",
    "* Имплементация должна быть максимально векторизованной и, где это возможно, не использовать циклы\n",
    "\n",
    "Необходимо реализовать класс KnnBruteClassifier, с реализацией прототипа, представленного ниже.\n",
    "\n",
    "Должна быть реализована поддержка метрики расстояния L2 (параметр metric) и параметр weights типа 'uniform' и 'distance'.\n",
    "\n",
    "В качестве входного файла необходимо использовать файл \"regr_data_XXX.npy\", полученный от бота командой /get seminar04\n",
    "\n",
    "В качестве решения необходимо отправить боту, указав seminar04 в поле caption,  следующие файлы:\n",
    "* knn.ipynb - содержит класс, реализующий ваш алгоритм\n",
    "* knn_results.npy - файл с результатами тестов, который можно будет сгенерировать с помощью этого ноутбука\n",
    "\n",
    "Для проверки решения после отправки необходимо отправить боту следующую команду:\n",
    "/check seminar04\n",
    "\n",
    "В случае возникновения вопросов по интерфейсу смотрите детали реализации класса sklearn.neighbors.KNeighborsClassifier\n",
    "https://scikit-learn.org/stable/modules/generated/sklearn.neighbors.KNeighborsClassifier.html"
   ]
  },
  {
   "cell_type": "code",
   "execution_count": null,
   "metadata": {},
   "outputs": [],
   "source": [
    "import numpy as np"
   ]
  },
  {
   "cell_type": "code",
   "execution_count": null,
   "metadata": {},
   "outputs": [],
   "source": [
    "class KnnBruteClassifier(object):\n",
    "    '''Классификатор реализует взвешенное голосование по ближайшим соседям. \n",
    "    Поиск ближайшего соседа осуществляется полным перебором.\n",
    "    Параметры\n",
    "    ----------\n",
    "    n_neighbors : int, optional\n",
    "        Число ближайших соседей, учитывающихся в голосовании\n",
    "    weights : str, optional (default = 'uniform')\n",
    "        веса, используемые в голосовании. Возможные значения:\n",
    "        - 'uniform' : все веса равны.\n",
    "        - 'distance' : веса обратно пропорциональны расстоянию до классифицируемого объекта\n",
    "        -  функция, которая получает на вход массив расстояний и возвращает массив весов\n",
    "    metric: функция подсчета расстояния (по умолчанию l2).\n",
    "    '''\n",
    "    def __init__(self, n_neighbors=1, weights='uniform', metric):\n",
    "        pass\n",
    "     \n",
    "    def fit(self, x, y):\n",
    "        '''Обучение модели.\n",
    "        Парметры\n",
    "        ----------\n",
    "        x : двумерным массив признаков размера n_queries x n_features\n",
    "        y : массив/список правильных меток размера n_queries\n",
    "        Выход\n",
    "        -------\n",
    "        Метод возвращает обученную модель\n",
    "        '''\n",
    "        pass\n",
    "        \n",
    "    def predict(self, x):\n",
    "        \"\"\" Предсказание класса для входных объектов\n",
    "        Параметры\n",
    "        ----------\n",
    "        X : двумерным массив признаков размера n_queries x n_features\n",
    "        Выход\n",
    "        -------\n",
    "        y : Массив размера n_queries\n",
    "        \"\"\"\n",
    "        pass\n",
    "        \n",
    "    def predict_proba(self, X):\n",
    "        \"\"\"Возвращает вероятности классов для входных объектов\n",
    "        Параметры\n",
    "        ----------\n",
    "        X : двумерным массив признаков размера n_queries x n_features\n",
    "        Выход\n",
    "        -------\n",
    "        p : массив размера n_queries x n_classes] c вероятностями принадлежности \n",
    "        объекта к каждому классу\n",
    "        \"\"\"\n",
    "        pass\n",
    "        \n",
    "    def kneighbors(self, x, n_neighbors):\n",
    "        \"\"\"Возвращает n_neighbors ближайших соседей для всех входных объектов и расстояния до них\n",
    "        Параметры\n",
    "        ----------\n",
    "        X : двумерным массив признаков размера n_queries x n_features\n",
    "        Выход\n",
    "        -------\n",
    "        neigh_dist массив размера n_queries х n_neighbors\n",
    "        расстояния до ближайших элементов\n",
    "        neigh_indarray, массив размера n_queries x n_neighbors\n",
    "        индексы ближайших элементов\n",
    "        \"\"\"\n",
    "        pass"
   ]
  },
  {
   "cell_type": "code",
   "execution_count": null,
   "metadata": {},
   "outputs": [],
   "source": [
    "def load_file(filename):\n",
    "    \"\"\"\n",
    "    TODO: Необходимо загрузить файл задания и вернуть словарь с ключами \"X_train\", \"X_test\", \"y_train\"\n",
    "    \"\"\"\n",
    "    pass"
   ]
  },
  {
   "cell_type": "code",
   "execution_count": null,
   "metadata": {},
   "outputs": [],
   "source": [
    "input_filename = \"\" #TODO задать путь к входному файлу\n",
    "data_dict = load_file(input_filename)"
   ]
  },
  {
   "cell_type": "code",
   "execution_count": null,
   "metadata": {},
   "outputs": [],
   "source": [
    "model = KnnBruteClassifier(n_neighbors=5, weights='uniform')\n",
    "model.fit(data_dict[\"X_train\"], data_dict[\"y_train\"])\n",
    "l2_uniform_n5_y_predict = model.predict(data_dict[\"X_test\"])"
   ]
  },
  {
   "cell_type": "code",
   "execution_count": null,
   "metadata": {},
   "outputs": [],
   "source": [
    "model = KnnBruteClassifier(n_neighbors=10, weights='uniform')\n",
    "model.fit(data_dict[\"X_train\"], data_dict[\"y_train\"])\n",
    "l2_uniform_10_y_predict = model.predict(data_dict[\"X_test\"])"
   ]
  },
  {
   "cell_type": "code",
   "execution_count": null,
   "metadata": {},
   "outputs": [],
   "source": [
    "model = KnnBruteClassifier(n_neighbors=5, weights='distance')\n",
    "model.fit(data_dict[\"X_train\"], data_dict[\"y_train\"])\n",
    "l2_distance_n5_y_predict = model.predict(data_dict[\"X_test\"])"
   ]
  },
  {
   "cell_type": "code",
   "execution_count": null,
   "metadata": {},
   "outputs": [],
   "source": [
    "output_filename = \"knn_results.npy\"\n",
    "result_dict = {\n",
    "    \"input_filename\": input_filename,\n",
    "    \"l2_uniform_n5_y_predict\": l2_uniform_n5_y_predict,\n",
    "    \"l2_uniform_10_y_predict\": l2_uniform_10_y_predict,\n",
    "    \"l2_distance_n5_y_predict\": l2_distance_n5_y_predict,\n",
    "}\n",
    "np.save(output_filename, result_dict)"
   ]
  }
 ],
 "metadata": {
  "kernelspec": {
   "display_name": "Python 3",
   "language": "python",
   "name": "python3"
  },
  "language_info": {
   "codemirror_mode": {
    "name": "ipython",
    "version": 3
   },
   "file_extension": ".py",
   "mimetype": "text/x-python",
   "name": "python",
   "nbconvert_exporter": "python",
   "pygments_lexer": "ipython3",
   "version": "3.8.8"
  }
 },
 "nbformat": 4,
 "nbformat_minor": 4
}
