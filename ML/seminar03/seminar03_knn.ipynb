{
 "cells": [
  {
   "cell_type": "code",
   "execution_count": 4,
   "metadata": {},
   "outputs": [],
   "source": [
    "import numpy as np\n",
    "import matplotlib.pyplot as plt\n",
    "import pickle"
   ]
  },
  {
   "cell_type": "code",
   "execution_count": 5,
   "metadata": {},
   "outputs": [
    {
     "name": "stdout",
     "output_type": "stream",
     "text": [
      "(60000, 28, 28) (60000,)\n"
     ]
    },
    {
     "data": {
      "text/plain": [
       "(60000,)"
      ]
     },
     "execution_count": 5,
     "metadata": {},
     "output_type": "execute_result"
    }
   ],
   "source": [
    "with np.load('mnist.npz', allow_pickle=True) as f: \n",
    "    train_x, train_y = f['x_train'], f['y_train']\n",
    "    test_x, test_y = f['x_test'], f['y_test']\n",
    "print(train_x.shape, train_y.shape)\n",
    "train_y.shape"
   ]
  },
  {
   "cell_type": "code",
   "execution_count": 6,
   "metadata": {},
   "outputs": [
    {
     "name": "stdout",
     "output_type": "stream",
     "text": [
      "label is 3\n"
     ]
    },
    {
     "data": {
      "image/png": "[encoded data removed]",
      "text/plain": [
       "<Figure size 432x288 with 1 Axes>"
      ]
     },
     "metadata": {
      "needs_background": "light"
     },
     "output_type": "display_data"
    }
   ],
   "source": [
    "index = 10\n",
    "print('label is %d' % train_y[index])\n",
    "plt.imshow(train_x[index])\n",
    "plt.show()"
   ]
  },
  {
   "cell_type": "code",
   "execution_count": 7,
   "metadata": {},
   "outputs": [
    {
     "data": {
      "text/plain": [
       "(0, 254, 36.41326530612245)"
      ]
     },
     "execution_count": 7,
     "metadata": {},
     "output_type": "execute_result"
    }
   ],
   "source": [
    "np.min(train_x[index]), np.max(train_x[index]), np.mean(train_x[index])"
   ]
  },
  {
   "cell_type": "code",
   "execution_count": 9,
   "metadata": {},
   "outputs": [
    {
     "name": "stdout",
     "output_type": "stream",
     "text": [
      "(60000, 784)\n",
      "(10000, 784)\n"
     ]
    }
   ],
   "source": [
    "train_x_1 = train_x.reshape(len(train_x), -1)\n",
    "print(train_x_1.shape)\n",
    "\n",
    "test_x_1 = test_x.reshape(len(test_x), -1)\n",
    "print(test_x_1.shape)"
   ]
  },
  {
   "cell_type": "code",
   "execution_count": 10,
   "metadata": {},
   "outputs": [],
   "source": [
    "class DummyClassifier(object):\n",
    "    def __init__(self):\n",
    "        self.name = 'Dummy'\n",
    "    def fit(self, train_x, train_y):\n",
    "        pass\n",
    "    def predict(self, test_x):\n",
    "        return np.random.randint(low=0, high=10, size=len(test_x))\n",
    "    \n",
    "    "
   ]
  },
  {
   "cell_type": "code",
   "execution_count": 14,
   "metadata": {},
   "outputs": [],
   "source": [
    "classifier = DummyClassifier()\n",
    "classifier.fit(train_x_1, train_y)\n",
    "pred = classifier.predict(test_x_1)"
   ]
  },
  {
   "cell_type": "code",
   "execution_count": 15,
   "metadata": {},
   "outputs": [],
   "source": [
    "def accuracy(pred, gt):\n",
    "    return np.sum(pred == gt)/len(gt)"
   ]
  },
  {
   "cell_type": "code",
   "execution_count": 16,
   "metadata": {},
   "outputs": [
    {
     "name": "stdout",
     "output_type": "stream",
     "text": [
      "10000\n",
      "0.098\n"
     ]
    }
   ],
   "source": [
    "acc = accuracy(pred, test_y)\n",
    "print(len(test_y))\n",
    "print(acc)"
   ]
  },
  {
   "cell_type": "code",
   "execution_count": 17,
   "metadata": {},
   "outputs": [],
   "source": [
    "from sklearn.metrics import accuracy_score"
   ]
  },
  {
   "cell_type": "code",
   "execution_count": 18,
   "metadata": {},
   "outputs": [
    {
     "data": {
      "text/plain": [
       "0.098"
      ]
     },
     "execution_count": 18,
     "metadata": {},
     "output_type": "execute_result"
    }
   ],
   "source": [
    "accuracy_score(pred, test_y)"
   ]
  },
  {
   "cell_type": "code",
   "execution_count": 19,
   "metadata": {},
   "outputs": [],
   "source": [
    "from sklearn.neighbors import KNeighborsClassifier"
   ]
  },
  {
   "cell_type": "code",
   "execution_count": 20,
   "metadata": {},
   "outputs": [
    {
     "name": "stdout",
     "output_type": "stream",
     "text": [
      "1 0.86\n",
      "3 0.9\n",
      "5 0.9\n",
      "7 0.89\n",
      "9 0.9\n"
     ]
    }
   ],
   "source": [
    "results = []\n",
    "for k in range(1,10, 2):\n",
    "    classifier = KNeighborsClassifier(n_neighbors=k)\n",
    "    classifier.fit(train_x_1[:2000], train_y[:2000])\n",
    "    pred = classifier.predict(test_x_1[:100])\n",
    "    acc = accuracy_score(pred, test_y[:100])\n",
    "    results.append(acc)\n",
    "    print(k, acc)"
   ]
  },
  {
   "cell_type": "code",
   "execution_count": 21,
   "metadata": {},
   "outputs": [
    {
     "name": "stdout",
     "output_type": "stream",
     "text": [
      "1 0.89\n",
      "3 0.94\n",
      "5 0.93\n",
      "7 0.9\n",
      "9 0.9\n"
     ]
    }
   ],
   "source": [
    "results = []\n",
    "for k in range(1,10, 2):\n",
    "    classifier = KNeighborsClassifier(n_neighbors=k)\n",
    "    classifier.fit(train_x_1[:3000], train_y[:3000])\n",
    "    pred = classifier.predict(test_x_1[:100])\n",
    "    acc = accuracy_score(pred, test_y[:100])\n",
    "    results.append(acc)\n",
    "    print(k, acc)"
   ]
  },
  {
   "cell_type": "code",
   "execution_count": 20,
   "metadata": {},
   "outputs": [
    {
     "name": "stdout",
     "output_type": "stream",
     "text": [
      "1 0.92\n",
      "3 0.95\n",
      "5 0.95\n",
      "7 0.94\n",
      "9 0.96\n"
     ]
    }
   ],
   "source": [
    "results = []\n",
    "for k in range(1,10, 2):\n",
    "    classifier = KNeighborsClassifier(n_neighbors=k)\n",
    "    classifier.fit(train_x_1[:10000], train_y[:10000])\n",
    "    pred = classifier.predict(test_x_1[:100])\n",
    "    acc = accuracy_score(pred, test_y[:100])\n",
    "    results.append(acc)\n",
    "    print(k, acc)"
   ]
  },
  {
   "cell_type": "code",
   "execution_count": 22,
   "metadata": {},
   "outputs": [],
   "source": [
    "from sklearn.cluster import KMeans"
   ]
  },
  {
   "cell_type": "code",
   "execution_count": 23,
   "metadata": {
    "scrolled": true
   },
   "outputs": [
    {
     "data": {
      "text/plain": [
       "KMeans(n_clusters=5)"
      ]
     },
     "execution_count": 23,
     "metadata": {},
     "output_type": "execute_result"
    }
   ],
   "source": [
    "km = KMeans(n_clusters=5)\n",
    "km.fit(train_x_1[:10000])\n"
   ]
  },
  {
   "cell_type": "code",
   "execution_count": 24,
   "metadata": {
    "scrolled": false
   },
   "outputs": [
    {
     "data": {
      "image/png": "[encoded data removed]",
      "text/plain": [
       "<Figure size 432x288 with 1 Axes>"
      ]
     },
     "metadata": {
      "needs_background": "light"
     },
     "output_type": "display_data"
    },
    {
     "data": {
      "image/png": "[encoded data removed]",
      "text/plain": [
       "<Figure size 432x288 with 1 Axes>"
      ]
     },
     "metadata": {
      "needs_background": "light"
     },
     "output_type": "display_data"
    },
    {
     "data": {
      "image/png": "[encoded data removed]",
      "text/plain": [
       "<Figure size 432x288 with 1 Axes>"
      ]
     },
     "metadata": {
      "needs_background": "light"
     },
     "output_type": "display_data"
    },
    {
     "data": {
      "image/png": "[encoded data removed]",
      "text/plain": [
       "<Figure size 432x288 with 1 Axes>"
      ]
     },
     "metadata": {
      "needs_background": "light"
     },
     "output_type": "display_data"
    },
    {
     "data": {
      "image/png": "[encoded data removed]",
      "text/plain": [
       "<Figure size 432x288 with 1 Axes>"
      ]
     },
     "metadata": {
      "needs_background": "light"
     },
     "output_type": "display_data"
    }
   ],
   "source": [
    "for cluster in km.cluster_centers_:\n",
    "    plt.imshow(cluster.reshape(28,28))\n",
    "    plt.show()"
   ]
  },
  {
   "cell_type": "markdown",
   "metadata": {},
   "source": [
    "#### Задача 1"
   ]
  },
  {
   "cell_type": "markdown",
   "metadata": {},
   "source": [
    "Подобрать оптимальные параметры для KNeighborsClassifier.\n",
    "В качестве решения необходимо отправить код подбора параметров в этом ноутбуке seminar03_knn.ipynb и параметры лучшего классификатора knn_best_params.pkl"
   ]
  },
  {
   "cell_type": "markdown",
   "metadata": {},
   "source": [
    "#### Задача 2"
   ]
  },
  {
   "cell_type": "markdown",
   "metadata": {},
   "source": [
    "Найти 10 эталонов, чтобы качество классификации было максимальным. (Преодолеть 70%)\n",
    "\n",
    "В качестве решения необходимо отправить код поиска эталонов в этом ноутбуке seminar03_knn.ipynb и файл с 10 эталонами knn_10_best.npy\n"
   ]
  },
  {
   "cell_type": "markdown",
   "metadata": {},
   "source": [
    "#### Задача 3*"
   ]
  },
  {
   "cell_type": "markdown",
   "metadata": {},
   "source": [
    "Сколько эталонов нужно, чтобы преодолеть 90% точность?\n",
    "Задача не является обязательной, в качестве решения необходимо предоставить код с решением"
   ]
  },
  {
   "cell_type": "markdown",
   "metadata": {},
   "source": [
    "#### Ноутбук с решением необходимо сдать отправить боту @ml2021sharebot c пометкой seminar03"
   ]
  },
  {
   "cell_type": "markdown",
   "metadata": {},
   "source": [
    "### Решение задачи 1"
   ]
  },
  {
   "cell_type": "code",
   "execution_count": 25,
   "metadata": {},
   "outputs": [
    {
     "name": "stdout",
     "output_type": "stream",
     "text": [
      "<generator object _BaseKFold.split at 0x0000022C63AA7740>\n"
     ]
    }
   ],
   "source": [
    "# ваше решение задачи 1\n",
    "from sklearn.model_selection import KFold\n",
    "kf = KFold(n_splits=2)\n",
    "kf.get_n_splits(train_x_1)\n",
    "print(kf.split(train_x_1))\n"
   ]
  },
  {
   "cell_type": "code",
   "execution_count": 159,
   "metadata": {},
   "outputs": [
    {
     "name": "stdout",
     "output_type": "stream",
     "text": [
      "TRAIN: [30000 30001 30002 ... 59997 59998 59999] TEST: [    0     1     2 ... 29997 29998 29999]\n",
      "TRAIN: [    0     1     2 ... 29997 29998 29999] TEST: [30000 30001 30002 ... 59997 59998 59999]\n"
     ]
    }
   ],
   "source": [
    "for train_index, test_index in kf.split(train_x_1):\n",
    "    print(\"TRAIN:\", train_index, \"TEST:\", test_index)\n",
    "    X_train, X_test = train_x_1[train_index], train_x_1[test_index]\n",
    "    y_train, y_test = train_y[train_index], train_y[test_index]"
   ]
  },
  {
   "cell_type": "code",
   "execution_count": 160,
   "metadata": {},
   "outputs": [
    {
     "name": "stdout",
     "output_type": "stream",
     "text": [
      "1\n",
      "2\n",
      "3\n",
      "4\n",
      "5\n",
      "6\n",
      "7\n",
      "8\n",
      "9\n",
      "10\n",
      "11\n",
      "12\n",
      "13\n",
      "14\n",
      "15\n",
      "16\n",
      "17\n",
      "18\n",
      "19\n",
      "[0.942, 0.942, 0.951, 0.956, 0.953, 0.948, 0.947, 0.947, 0.94, 0.937, 0.936, 0.937, 0.931, 0.934, 0.928, 0.927, 0.925, 0.926, 0.927]\n",
      "[0.942, 0.942, 0.951, 0.956, 0.953, 0.948, 0.947, 0.947, 0.94, 0.937, 0.936, 0.937, 0.931, 0.934, 0.928, 0.927, 0.925, 0.926, 0.927]\n",
      "[0.942, 0.935, 0.95, 0.955, 0.949, 0.944, 0.945, 0.937, 0.937, 0.933, 0.933, 0.933, 0.932, 0.931, 0.927, 0.923, 0.923, 0.924, 0.924]\n"
     ]
    },
    {
     "data": {
      "image/png": "[encoded data removed]",
      "text/plain": [
       "<Figure size 432x288 with 1 Axes>"
      ]
     },
     "metadata": {
      "needs_background": "light"
     },
     "output_type": "display_data"
    }
   ],
   "source": [
    "from sklearn.metrics import accuracy_score\n",
    "from sklearn.neighbors import KNeighborsClassifier\n",
    "    \n",
    "    \n",
    "neighbors = list(range(1,20))\n",
    "mod1 = []\n",
    "mod2 = []\n",
    "mod3 = []\n",
    "\n",
    "for n in neighbors:\n",
    "    print(n)\n",
    "    model1 = KNeighborsClassifier(n_neighbors=n, weights='distance',algorithm='kd_tree')\n",
    "    model2 = KNeighborsClassifier(n_neighbors=n, weights='distance',algorithm = 'ball_tree')\n",
    "    model3 = KNeighborsClassifier(n_neighbors=n)\n",
    "    \n",
    "    model1.fit(X_train[:10000], y_train[:10000])\n",
    "    y_pred = model1.predict(X_test[:1000])\n",
    "    mod1.append(np.sum(y_test[:1000] == y_pred[:1000])/len(y_test[:1000])) # append(accuracy_score(y_pred[:100], test_y[:100]))\n",
    "    \n",
    "    model2.fit(X_train[:10000], y_train[:10000])\n",
    "    y_pred = model2.predict(X_test[:1000])\n",
    "    mod2.append(np.sum(y_test[:1000] == y_pred[:1000])/len(y_test[:1000]))  #append(accuracy_score(y_pred[:100], test_y[:100]))\n",
    "    \n",
    "    model3.fit(X_train[:10000], y_train[:10000])\n",
    "    y_pred = model3.predict(X_test[:1000])\n",
    "    mod3.append(np.sum(y_test[:1000] == y_pred[:1000])/len(y_test[:1000]))  #append(accuracy_score(y_pred[:100], test_y[:100]))\n",
    "    \n",
    "    \n",
    "print(mod1)\n",
    "print(mod2)\n",
    "print(mod3)\n",
    "\n",
    "\n",
    "from matplotlib.legend_handler import HandlerLine2D\n",
    "line1, = plt.plot(neighbors, mod1, 'b', label='model1')\n",
    "line2, = plt.plot(neighbors, mod2, 'r', label='model2')\n",
    "line2, = plt.plot(neighbors, mod3, 'g', label='model3')\n",
    "plt.legend(handler_map={line1: HandlerLine2D(numpoints=2)})\n",
    "plt.ylabel('score')\n",
    "plt.xlabel('n_neighbors')\n",
    "plt.show()"
   ]
  },
  {
   "cell_type": "code",
   "execution_count": 23,
   "metadata": {},
   "outputs": [],
   "source": [
    "# сохраните параметры лучшего классификатора\n",
    "model = KNeighborsClassifier(n_neighbors=4, weights='distance',algorithm='kd_tree')\n",
    "\n",
    "with open(\"knn_best_params.pkl\", \"wb\") as f:\n",
    "    pickle.dump(model.get_params(), f)\n",
    "\n"
   ]
  },
  {
   "cell_type": "code",
   "execution_count": 24,
   "metadata": {},
   "outputs": [
    {
     "data": {
      "text/plain": [
       "{'algorithm': 'kd_tree',\n",
       " 'leaf_size': 30,\n",
       " 'metric': 'minkowski',\n",
       " 'metric_params': None,\n",
       " 'n_jobs': None,\n",
       " 'n_neighbors': 4,\n",
       " 'p': 2,\n",
       " 'weights': 'distance'}"
      ]
     },
     "execution_count": 24,
     "metadata": {},
     "output_type": "execute_result"
    }
   ],
   "source": [
    "import pickle\n",
    "with open('knn_best_params.pkl', 'rb') as f:\n",
    "    data = pickle.load(f)\n",
    "data"
   ]
  },
  {
   "cell_type": "markdown",
   "metadata": {},
   "source": [
    "### Решение задачи 2"
   ]
  },
  {
   "cell_type": "code",
   "execution_count": 146,
   "metadata": {},
   "outputs": [
    {
     "name": "stdout",
     "output_type": "stream",
     "text": [
      "(10, 784)\n"
     ]
    }
   ],
   "source": [
    "# ваше решение задачи 2\n",
    "list_num = []\n",
    "for i in range(0,10):\n",
    "    itemindex = np.where(y_train==i)\n",
    "    new_1 = np.array(train_x)[itemindex] \n",
    "    new_1 = new_1.reshape(len(new_1), -1)\n",
    "    km = KMeans(n_clusters=1)\n",
    "    km.fit(new_1)\n",
    "    list_num.append(km.cluster_centers_[0])\n",
    "list_num = np.array(list_num)\n",
    "print(list_num.shape)"
   ]
  },
  {
   "cell_type": "code",
   "execution_count": 147,
   "metadata": {},
   "outputs": [
    {
     "data": {
      "image/png": "[encoded data removed]",
      "text/plain": [
       "<Figure size 432x288 with 1 Axes>"
      ]
     },
     "metadata": {
      "needs_background": "light"
     },
     "output_type": "display_data"
    },
    {
     "data": {
      "image/png": "[encoded data removed]",
      "text/plain": [
       "<Figure size 432x288 with 1 Axes>"
      ]
     },
     "metadata": {
      "needs_background": "light"
     },
     "output_type": "display_data"
    },
    {
     "data": {
      "image/png": "[encoded data removed]",
      "text/plain": [
       "<Figure size 432x288 with 1 Axes>"
      ]
     },
     "metadata": {
      "needs_background": "light"
     },
     "output_type": "display_data"
    },
    {
     "data": {
      "image/png": "[encoded data removed]",
      "text/plain": [
       "<Figure size 432x288 with 1 Axes>"
      ]
     },
     "metadata": {
      "needs_background": "light"
     },
     "output_type": "display_data"
    },
    {
     "data": {
      "image/png": "[encoded data removed]",
      "text/plain": [
       "<Figure size 432x288 with 1 Axes>"
      ]
     },
     "metadata": {
      "needs_background": "light"
     },
     "output_type": "display_data"
    },
    {
     "data": {
      "image/png": "[encoded data removed]",
      "text/plain": [
       "<Figure size 432x288 with 1 Axes>"
      ]
     },
     "metadata": {
      "needs_background": "light"
     },
     "output_type": "display_data"
    },
    {
     "data": {
      "image/png": "[encoded data removed]",
      "text/plain": [
       "<Figure size 432x288 with 1 Axes>"
      ]
     },
     "metadata": {
      "needs_background": "light"
     },
     "output_type": "display_data"
    },
    {
     "data": {
      "image/png": "[encoded data removed]",
      "text/plain": [
       "<Figure size 432x288 with 1 Axes>"
      ]
     },
     "metadata": {
      "needs_background": "light"
     },
     "output_type": "display_data"
    },
    {
     "data": {
      "image/png": "[encoded data removed]",
      "text/plain": [
       "<Figure size 432x288 with 1 Axes>"
      ]
     },
     "metadata": {
      "needs_background": "light"
     },
     "output_type": "display_data"
    },
    {
     "data": {
      "image/png": "[encoded data removed]",
      "text/plain": [
       "<Figure size 432x288 with 1 Axes>"
      ]
     },
     "metadata": {
      "needs_background": "light"
     },
     "output_type": "display_data"
    }
   ],
   "source": [
    "for cluster in list_num:\n",
    "    plt.imshow(cluster.reshape(28,28))\n",
    "    plt.show()"
   ]
  },
  {
   "cell_type": "code",
   "execution_count": 148,
   "metadata": {},
   "outputs": [
    {
     "name": "stdout",
     "output_type": "stream",
     "text": [
      "0.8116333333333333\n"
     ]
    }
   ],
   "source": [
    "model_with_et = KNeighborsClassifier(n_neighbors=1, weights='distance',algorithm='kd_tree')\n",
    "model_with_et.fit(list_num, [0,1,2,3,4,5,6,7,8,9])\n",
    "y_pred = model_with_et.predict(X_test)\n",
    "print(np.sum(y_test == y_pred)/len(y_test))"
   ]
  },
  {
   "cell_type": "code",
   "execution_count": 104,
   "metadata": {},
   "outputs": [],
   "source": [
    "np.save('knn_10_best', list_num)"
   ]
  },
  {
   "cell_type": "markdown",
   "metadata": {},
   "source": [
    "### Решение задачи 3"
   ]
  },
  {
   "cell_type": "code",
   "execution_count": 149,
   "metadata": {},
   "outputs": [
    {
     "name": "stdout",
     "output_type": "stream",
     "text": [
      "(60, 784)\n"
     ]
    }
   ],
   "source": [
    "# ваше решение задачи 3\n",
    "list_num = []\n",
    "for i in range(0,10):\n",
    "    itemindex = np.where(y_train==i)\n",
    "    new_1 = np.array(train_x)[itemindex] \n",
    "    new_1 = new_1.reshape(len(new_1), -1)\n",
    "    km = KMeans(n_clusters=6)\n",
    "    km.fit(new_1)\n",
    "    list_num.append(km.cluster_centers_[0])\n",
    "    list_num.append(km.cluster_centers_[1])\n",
    "    list_num.append(km.cluster_centers_[2])\n",
    "    list_num.append(km.cluster_centers_[3])\n",
    "    list_num.append(km.cluster_centers_[4])\n",
    "    list_num.append(km.cluster_centers_[5])\n",
    "list_num = np.array(list_num)\n",
    "print(list_num.shape)"
   ]
  },
  {
   "cell_type": "code",
   "execution_count": 150,
   "metadata": {},
   "outputs": [
    {
     "name": "stdout",
     "output_type": "stream",
     "text": [
      "0.9045666666666666\n"
     ]
    }
   ],
   "source": [
    "model_with_et = KNeighborsClassifier(n_neighbors=1)\n",
    "model_with_et.fit(list_num, [0,0,0,0,0,0,1,1,1,1,1,1,2,2,2,2,2,2,3,3,3,3,3,3,4,4,4,4,4,4,5,5,5,5,5,5,6,6,6,6,6,6,7,7,7,7,7,7,8,8,8,8,8,8,9,9,9,9,9,9])\n",
    "y_pred = model_with_et.predict(X_test)\n",
    "print(np.sum(y_test == y_pred)/len(y_test))"
   ]
  }
 ],
 "metadata": {
  "kernelspec": {
   "display_name": "Python 3",
   "language": "python",
   "name": "python3"
  },
  "language_info": {
   "codemirror_mode": {
    "name": "ipython",
    "version": 3
   },
   "file_extension": ".py",
   "mimetype": "text/x-python",
   "name": "python",
   "nbconvert_exporter": "python",
   "pygments_lexer": "ipython3",
   "version": "3.8.8"
  }
 },
 "nbformat": 4,
 "nbformat_minor": 2
}
