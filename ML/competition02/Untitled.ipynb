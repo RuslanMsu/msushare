{
 "cells": [
  {
   "cell_type": "code",
   "execution_count": 1,
   "id": "699154eb",
   "metadata": {},
   "outputs": [],
   "source": [
    "import numpy as np\n",
    "import matplotlib.pyplot as plt\n",
    "from sklearn.preprocessing import StandardScaler\n",
    "from sklearn.model_selection import train_test_split\n",
    "from sklearn.linear_model import LogisticRegression\n",
    "from sklearn.model_selection import KFold\n",
    "from sklearn.neighbors import KNeighborsClassifier\n",
    "from sklearn.cluster import KMeans\n",
    "import pandas as pd\n"
   ]
  },
  {
   "cell_type": "code",
   "execution_count": 23,
   "id": "04cc61af",
   "metadata": {},
   "outputs": [],
   "source": [
    "data = pd.read_csv('train.csv')\n",
    "data = data.drop(columns=['id'])"
   ]
  },
  {
   "cell_type": "code",
   "execution_count": 25,
   "id": "1a99119a",
   "metadata": {
    "scrolled": true
   },
   "outputs": [
    {
     "data": {
      "text/html": [
       "<div>\n",
       "<style scoped>\n",
       "    .dataframe tbody tr th:only-of-type {\n",
       "        vertical-align: middle;\n",
       "    }\n",
       "\n",
       "    .dataframe tbody tr th {\n",
       "        vertical-align: top;\n",
       "    }\n",
       "\n",
       "    .dataframe thead th {\n",
       "        text-align: right;\n",
       "    }\n",
       "</style>\n",
       "<table border=\"1\" class=\"dataframe\">\n",
       "  <thead>\n",
       "    <tr style=\"text-align: right;\">\n",
       "      <th></th>\n",
       "      <th>f1</th>\n",
       "      <th>f2</th>\n",
       "      <th>f3</th>\n",
       "      <th>f4</th>\n",
       "      <th>f5</th>\n",
       "      <th>f6</th>\n",
       "      <th>f7</th>\n",
       "      <th>f8</th>\n",
       "      <th>f9</th>\n",
       "      <th>f10</th>\n",
       "      <th>...</th>\n",
       "      <th>f282</th>\n",
       "      <th>f283</th>\n",
       "      <th>f284</th>\n",
       "      <th>f285</th>\n",
       "      <th>f286</th>\n",
       "      <th>f287</th>\n",
       "      <th>f288</th>\n",
       "      <th>f289</th>\n",
       "      <th>f290</th>\n",
       "      <th>target</th>\n",
       "    </tr>\n",
       "  </thead>\n",
       "  <tbody>\n",
       "    <tr>\n",
       "      <th>0</th>\n",
       "      <td>2014-01-29</td>\n",
       "      <td>69</td>\n",
       "      <td>38.0</td>\n",
       "      <td>7.0</td>\n",
       "      <td>10.0</td>\n",
       "      <td>1.0</td>\n",
       "      <td>2001.0</td>\n",
       "      <td>2.0</td>\n",
       "      <td>11.0</td>\n",
       "      <td>2.0</td>\n",
       "      <td>...</td>\n",
       "      <td>1</td>\n",
       "      <td>0</td>\n",
       "      <td>0</td>\n",
       "      <td>2</td>\n",
       "      <td>8</td>\n",
       "      <td>1</td>\n",
       "      <td>0</td>\n",
       "      <td>19</td>\n",
       "      <td>2</td>\n",
       "      <td>9500000</td>\n",
       "    </tr>\n",
       "    <tr>\n",
       "      <th>1</th>\n",
       "      <td>2014-04-07</td>\n",
       "      <td>55</td>\n",
       "      <td>NaN</td>\n",
       "      <td>2.0</td>\n",
       "      <td>1.0</td>\n",
       "      <td>4.0</td>\n",
       "      <td>NaN</td>\n",
       "      <td>2.0</td>\n",
       "      <td>10.0</td>\n",
       "      <td>NaN</td>\n",
       "      <td>...</td>\n",
       "      <td>0</td>\n",
       "      <td>0</td>\n",
       "      <td>0</td>\n",
       "      <td>0</td>\n",
       "      <td>4</td>\n",
       "      <td>0</td>\n",
       "      <td>0</td>\n",
       "      <td>2</td>\n",
       "      <td>0</td>\n",
       "      <td>3837949</td>\n",
       "    </tr>\n",
       "    <tr>\n",
       "      <th>2</th>\n",
       "      <td>2012-05-18</td>\n",
       "      <td>30</td>\n",
       "      <td>16.0</td>\n",
       "      <td>2.0</td>\n",
       "      <td>NaN</td>\n",
       "      <td>NaN</td>\n",
       "      <td>NaN</td>\n",
       "      <td>NaN</td>\n",
       "      <td>NaN</td>\n",
       "      <td>NaN</td>\n",
       "      <td>...</td>\n",
       "      <td>46</td>\n",
       "      <td>9</td>\n",
       "      <td>2</td>\n",
       "      <td>11</td>\n",
       "      <td>38</td>\n",
       "      <td>1</td>\n",
       "      <td>8</td>\n",
       "      <td>97</td>\n",
       "      <td>11</td>\n",
       "      <td>6250000</td>\n",
       "    </tr>\n",
       "    <tr>\n",
       "      <th>3</th>\n",
       "      <td>2013-02-08</td>\n",
       "      <td>44</td>\n",
       "      <td>43.0</td>\n",
       "      <td>1.0</td>\n",
       "      <td>NaN</td>\n",
       "      <td>NaN</td>\n",
       "      <td>NaN</td>\n",
       "      <td>NaN</td>\n",
       "      <td>NaN</td>\n",
       "      <td>NaN</td>\n",
       "      <td>...</td>\n",
       "      <td>17</td>\n",
       "      <td>4</td>\n",
       "      <td>1</td>\n",
       "      <td>12</td>\n",
       "      <td>12</td>\n",
       "      <td>0</td>\n",
       "      <td>1</td>\n",
       "      <td>55</td>\n",
       "      <td>7</td>\n",
       "      <td>2000000</td>\n",
       "    </tr>\n",
       "    <tr>\n",
       "      <th>4</th>\n",
       "      <td>2014-01-10</td>\n",
       "      <td>45</td>\n",
       "      <td>28.0</td>\n",
       "      <td>3.0</td>\n",
       "      <td>5.0</td>\n",
       "      <td>2.0</td>\n",
       "      <td>1960.0</td>\n",
       "      <td>2.0</td>\n",
       "      <td>5.0</td>\n",
       "      <td>NaN</td>\n",
       "      <td>...</td>\n",
       "      <td>20</td>\n",
       "      <td>2</td>\n",
       "      <td>0</td>\n",
       "      <td>4</td>\n",
       "      <td>16</td>\n",
       "      <td>1</td>\n",
       "      <td>4</td>\n",
       "      <td>47</td>\n",
       "      <td>5</td>\n",
       "      <td>6700000</td>\n",
       "    </tr>\n",
       "  </tbody>\n",
       "</table>\n",
       "<p>5 rows × 291 columns</p>\n",
       "</div>"
      ],
      "text/plain": [
       "           f1  f2    f3   f4    f5   f6      f7   f8    f9  f10  ... f282  \\\n",
       "0  2014-01-29  69  38.0  7.0  10.0  1.0  2001.0  2.0  11.0  2.0  ...    1   \n",
       "1  2014-04-07  55   NaN  2.0   1.0  4.0     NaN  2.0  10.0  NaN  ...    0   \n",
       "2  2012-05-18  30  16.0  2.0   NaN  NaN     NaN  NaN   NaN  NaN  ...   46   \n",
       "3  2013-02-08  44  43.0  1.0   NaN  NaN     NaN  NaN   NaN  NaN  ...   17   \n",
       "4  2014-01-10  45  28.0  3.0   5.0  2.0  1960.0  2.0   5.0  NaN  ...   20   \n",
       "\n",
       "  f283  f284  f285  f286  f287  f288  f289  f290   target  \n",
       "0    0     0     2     8     1     0    19     2  9500000  \n",
       "1    0     0     0     4     0     0     2     0  3837949  \n",
       "2    9     2    11    38     1     8    97    11  6250000  \n",
       "3    4     1    12    12     0     1    55     7  2000000  \n",
       "4    2     0     4    16     1     4    47     5  6700000  \n",
       "\n",
       "[5 rows x 291 columns]"
      ]
     },
     "execution_count": 25,
     "metadata": {},
     "output_type": "execute_result"
    }
   ],
   "source": [
    "data.head(5)"
   ]
  },
  {
   "cell_type": "code",
   "execution_count": 26,
   "id": "bab611f2",
   "metadata": {
    "scrolled": false
   },
   "outputs": [
    {
     "name": "stdout",
     "output_type": "stream",
     "text": [
      "<class 'pandas.core.frame.DataFrame'>\n",
      "RangeIndex: 24376 entries, 0 to 24375\n",
      "Columns: 291 entries, f1 to target\n",
      "dtypes: float64(119), int64(156), object(16)\n",
      "memory usage: 54.1+ MB\n",
      "None\n"
     ]
    }
   ],
   "source": [
    "print(data.info())"
   ]
  },
  {
   "cell_type": "code",
   "execution_count": null,
   "id": "876c97ee",
   "metadata": {},
   "outputs": [],
   "source": []
  },
  {
   "cell_type": "markdown",
   "id": "466ada6a",
   "metadata": {},
   "source": [
    "# Категориальные признаки"
   ]
  },
  {
   "cell_type": "code",
   "execution_count": 138,
   "id": "09cce94b",
   "metadata": {},
   "outputs": [],
   "source": [
    "tfm_data = data.copy()\n",
    "tfm_data = tfm_data.drop(columns=['f1'])"
   ]
  },
  {
   "cell_type": "markdown",
   "id": "9f708bdc",
   "metadata": {},
   "source": [
    "##### Признаки 'f11','f29','f33','f34','f35','f36','f37','f38','f39','f40','f106','f114','f118' - не являются порядковыми. Преобразуем с помощью one-hot encoding "
   ]
  },
  {
   "cell_type": "code",
   "execution_count": 140,
   "id": "c8081e44",
   "metadata": {
    "scrolled": false
   },
   "outputs": [
    {
     "data": {
      "text/html": [
       "<div>\n",
       "<style scoped>\n",
       "    .dataframe tbody tr th:only-of-type {\n",
       "        vertical-align: middle;\n",
       "    }\n",
       "\n",
       "    .dataframe tbody tr th {\n",
       "        vertical-align: top;\n",
       "    }\n",
       "\n",
       "    .dataframe thead th {\n",
       "        text-align: right;\n",
       "    }\n",
       "</style>\n",
       "<table border=\"1\" class=\"dataframe\">\n",
       "  <thead>\n",
       "    <tr style=\"text-align: right;\">\n",
       "      <th></th>\n",
       "      <th>f2</th>\n",
       "      <th>f3</th>\n",
       "      <th>f4</th>\n",
       "      <th>f5</th>\n",
       "      <th>f6</th>\n",
       "      <th>f7</th>\n",
       "      <th>f8</th>\n",
       "      <th>f9</th>\n",
       "      <th>f10</th>\n",
       "      <th>f12</th>\n",
       "      <th>...</th>\n",
       "      <th>f39_no</th>\n",
       "      <th>f39_yes</th>\n",
       "      <th>f40_no</th>\n",
       "      <th>f40_yes</th>\n",
       "      <th>f106_no</th>\n",
       "      <th>f106_yes</th>\n",
       "      <th>f114_no</th>\n",
       "      <th>f114_yes</th>\n",
       "      <th>f118_no</th>\n",
       "      <th>f118_yes</th>\n",
       "    </tr>\n",
       "  </thead>\n",
       "  <tbody>\n",
       "    <tr>\n",
       "      <th>0</th>\n",
       "      <td>69</td>\n",
       "      <td>38.0</td>\n",
       "      <td>7.0</td>\n",
       "      <td>10.0</td>\n",
       "      <td>1.0</td>\n",
       "      <td>2001.0</td>\n",
       "      <td>2.0</td>\n",
       "      <td>11.0</td>\n",
       "      <td>2.0</td>\n",
       "      <td>Juzhnoe Butovo</td>\n",
       "      <td>...</td>\n",
       "      <td>1</td>\n",
       "      <td>0</td>\n",
       "      <td>1</td>\n",
       "      <td>0</td>\n",
       "      <td>1</td>\n",
       "      <td>0</td>\n",
       "      <td>1</td>\n",
       "      <td>0</td>\n",
       "      <td>1</td>\n",
       "      <td>0</td>\n",
       "    </tr>\n",
       "    <tr>\n",
       "      <th>1</th>\n",
       "      <td>55</td>\n",
       "      <td>NaN</td>\n",
       "      <td>2.0</td>\n",
       "      <td>1.0</td>\n",
       "      <td>4.0</td>\n",
       "      <td>NaN</td>\n",
       "      <td>2.0</td>\n",
       "      <td>10.0</td>\n",
       "      <td>NaN</td>\n",
       "      <td>Poselenie Filimonkovskoe</td>\n",
       "      <td>...</td>\n",
       "      <td>1</td>\n",
       "      <td>0</td>\n",
       "      <td>1</td>\n",
       "      <td>0</td>\n",
       "      <td>1</td>\n",
       "      <td>0</td>\n",
       "      <td>1</td>\n",
       "      <td>0</td>\n",
       "      <td>1</td>\n",
       "      <td>0</td>\n",
       "    </tr>\n",
       "    <tr>\n",
       "      <th>2</th>\n",
       "      <td>30</td>\n",
       "      <td>16.0</td>\n",
       "      <td>2.0</td>\n",
       "      <td>NaN</td>\n",
       "      <td>NaN</td>\n",
       "      <td>NaN</td>\n",
       "      <td>NaN</td>\n",
       "      <td>NaN</td>\n",
       "      <td>NaN</td>\n",
       "      <td>Lomonosovskoe</td>\n",
       "      <td>...</td>\n",
       "      <td>1</td>\n",
       "      <td>0</td>\n",
       "      <td>1</td>\n",
       "      <td>0</td>\n",
       "      <td>1</td>\n",
       "      <td>0</td>\n",
       "      <td>1</td>\n",
       "      <td>0</td>\n",
       "      <td>1</td>\n",
       "      <td>0</td>\n",
       "    </tr>\n",
       "    <tr>\n",
       "      <th>3</th>\n",
       "      <td>44</td>\n",
       "      <td>43.0</td>\n",
       "      <td>1.0</td>\n",
       "      <td>NaN</td>\n",
       "      <td>NaN</td>\n",
       "      <td>NaN</td>\n",
       "      <td>NaN</td>\n",
       "      <td>NaN</td>\n",
       "      <td>NaN</td>\n",
       "      <td>Juzhnoe Tushino</td>\n",
       "      <td>...</td>\n",
       "      <td>1</td>\n",
       "      <td>0</td>\n",
       "      <td>1</td>\n",
       "      <td>0</td>\n",
       "      <td>1</td>\n",
       "      <td>0</td>\n",
       "      <td>1</td>\n",
       "      <td>0</td>\n",
       "      <td>1</td>\n",
       "      <td>0</td>\n",
       "    </tr>\n",
       "    <tr>\n",
       "      <th>4</th>\n",
       "      <td>45</td>\n",
       "      <td>28.0</td>\n",
       "      <td>3.0</td>\n",
       "      <td>5.0</td>\n",
       "      <td>2.0</td>\n",
       "      <td>1960.0</td>\n",
       "      <td>2.0</td>\n",
       "      <td>5.0</td>\n",
       "      <td>NaN</td>\n",
       "      <td>Ochakovo-Matveevskoe</td>\n",
       "      <td>...</td>\n",
       "      <td>1</td>\n",
       "      <td>0</td>\n",
       "      <td>1</td>\n",
       "      <td>0</td>\n",
       "      <td>1</td>\n",
       "      <td>0</td>\n",
       "      <td>1</td>\n",
       "      <td>0</td>\n",
       "      <td>1</td>\n",
       "      <td>0</td>\n",
       "    </tr>\n",
       "  </tbody>\n",
       "</table>\n",
       "<p>5 rows × 303 columns</p>\n",
       "</div>"
      ],
      "text/plain": [
       "   f2    f3   f4    f5   f6      f7   f8    f9  f10                       f12  \\\n",
       "0  69  38.0  7.0  10.0  1.0  2001.0  2.0  11.0  2.0            Juzhnoe Butovo   \n",
       "1  55   NaN  2.0   1.0  4.0     NaN  2.0  10.0  NaN  Poselenie Filimonkovskoe   \n",
       "2  30  16.0  2.0   NaN  NaN     NaN  NaN   NaN  NaN             Lomonosovskoe   \n",
       "3  44  43.0  1.0   NaN  NaN     NaN  NaN   NaN  NaN           Juzhnoe Tushino   \n",
       "4  45  28.0  3.0   5.0  2.0  1960.0  2.0   5.0  NaN      Ochakovo-Matveevskoe   \n",
       "\n",
       "   ...  f39_no  f39_yes  f40_no  f40_yes  f106_no  f106_yes  f114_no  \\\n",
       "0  ...       1        0       1        0        1         0        1   \n",
       "1  ...       1        0       1        0        1         0        1   \n",
       "2  ...       1        0       1        0        1         0        1   \n",
       "3  ...       1        0       1        0        1         0        1   \n",
       "4  ...       1        0       1        0        1         0        1   \n",
       "\n",
       "   f114_yes  f118_no  f118_yes  \n",
       "0         0        1         0  \n",
       "1         0        1         0  \n",
       "2         0        1         0  \n",
       "3         0        1         0  \n",
       "4         0        1         0  \n",
       "\n",
       "[5 rows x 303 columns]"
      ]
     },
     "execution_count": 140,
     "metadata": {},
     "output_type": "execute_result"
    }
   ],
   "source": [
    "tfm_data = pd.get_dummies(tfm_data, columns=['f11','f29','f33','f34','f35',\n",
    "                                                               'f36','f37','f38','f39','f40','f106','f114','f118'], \n",
    "                                 prefix = ['f11','f29','f33','f34','f35',\n",
    "                                                               'f36','f37','f38','f39','f40','f106','f114','f118'])\n",
    "tfm_data.head()"
   ]
  },
  {
   "cell_type": "markdown",
   "id": "ff704344",
   "metadata": {},
   "source": [
    "##### признак f12 содержит информацию о райноне объекта. Заметим, что все объекты можно разделить на две группы: по числу обьектов из определеной группы районов."
   ]
  },
  {
   "cell_type": "code",
   "execution_count": 162,
   "id": "0c775a34",
   "metadata": {},
   "outputs": [
    {
     "name": "stderr",
     "output_type": "stream",
     "text": [
      "C:\\Users\\ostap\\anaconda3\\lib\\site-packages\\seaborn\\_decorators.py:36: FutureWarning: Pass the following variables as keyword args: x, y. From version 0.12, the only valid positional argument will be `data`, and passing other arguments without an explicit keyword will result in an error or misinterpretation.\n",
      "  warnings.warn(\n"
     ]
    },
    {
     "data": {
      "image/png": "[encoded data removed]",
      "text/plain": [
       "<Figure size 432x288 with 1 Axes>"
      ]
     },
     "metadata": {
      "needs_background": "light"
     },
     "output_type": "display_data"
    }
   ],
   "source": [
    "%matplotlib inline\n",
    "import seaborn as sns\n",
    "import matplotlib.pyplot as plt\n",
    "carrier_count = tfm_data['f12'].value_counts()\n",
    "sns.barplot(carrier_count.index, carrier_count.values, alpha=0.9)\n",
    "plt.show()"
   ]
  },
  {
   "cell_type": "code",
   "execution_count": 177,
   "id": "9c1e1313",
   "metadata": {},
   "outputs": [],
   "source": [
    "gran = tfm_data['f12'].value_counts().mean() + 2*tfm_data['f12'].value_counts().std()"
   ]
  },
  {
   "cell_type": "code",
   "execution_count": null,
   "id": "5401f568",
   "metadata": {},
   "outputs": [],
   "source": [
    "Poselenie Sosenskoe                \n",
    "Nekrasovka                         \n",
    "Poselenie Vnukovskoe               \n",
    "Poselenie Moskovskij  "
   ]
  },
  {
   "cell_type": "code",
   "execution_count": 198,
   "id": "d89702b7",
   "metadata": {
    "scrolled": true
   },
   "outputs": [
    {
     "data": {
      "text/plain": [
       "0        False\n",
       "1        False\n",
       "2        False\n",
       "3        False\n",
       "4        False\n",
       "         ...  \n",
       "24371     True\n",
       "24372    False\n",
       "24373    False\n",
       "24374    False\n",
       "24375     True\n",
       "Name: f12, Length: 24376, dtype: bool"
      ]
     },
     "execution_count": 198,
     "metadata": {},
     "output_type": "execute_result"
    }
   ],
   "source": [
    "tfm_data['f12'].apply(lambda x : \n",
    "                               x in ['Poselenie Sosenskoe','Nekrasovka','Poselenie Vnukovskoe','Poselenie Moskovskij'])"
   ]
  },
  {
   "cell_type": "code",
   "execution_count": 251,
   "id": "1412512c",
   "metadata": {},
   "outputs": [],
   "source": [
    "tfm_data[\"first\"] = (tfm_data['f12'].apply(lambda x : \n",
    "                               x in ['Poselenie Sosenskoe','Nekrasovka','Poselenie Vnukovskoe','Poselenie Moskovskij'])).apply(int)\n",
    "tfm_data[\"second\"] = tfm_data['f12'].apply(lambda x : \n",
    "                               x not in ['Poselenie Sosenskoe','Nekrasovka','Poselenie Vnukovskoe','Poselenie Moskovskij']).apply(int)\n",
    "tfm_data = tfm_data.drop(columns=['f12'])"
   ]
  },
  {
   "cell_type": "code",
   "execution_count": 262,
   "id": "36f9fdcd",
   "metadata": {},
   "outputs": [],
   "source": [
    "rep_map = {'f152': {'excellent': 5, 'good': 4, 'satisfactory': 3, 'poor': 2,'no data': 1}}"
   ]
  },
  {
   "cell_type": "code",
   "execution_count": 268,
   "id": "fc09c085",
   "metadata": {
    "scrolled": false
   },
   "outputs": [
    {
     "name": "stdout",
     "output_type": "stream",
     "text": [
      "<class 'pandas.core.frame.DataFrame'>\n",
      "RangeIndex: 24376 entries, 0 to 24375\n",
      "Columns: 304 entries, f2 to second\n",
      "dtypes: float64(119), int64(159), uint8(26)\n",
      "memory usage: 52.3 MB\n"
     ]
    }
   ],
   "source": [
    "tfm_data = tfm_data.replace(rep_map)\n",
    "\n",
    "tfm_data.info()"
   ]
  },
  {
   "cell_type": "code",
   "execution_count": 284,
   "id": "5ac24e95",
   "metadata": {},
   "outputs": [
    {
     "data": {
      "text/html": [
       "<div>\n",
       "<style scoped>\n",
       "    .dataframe tbody tr th:only-of-type {\n",
       "        vertical-align: middle;\n",
       "    }\n",
       "\n",
       "    .dataframe tbody tr th {\n",
       "        vertical-align: top;\n",
       "    }\n",
       "\n",
       "    .dataframe thead th {\n",
       "        text-align: right;\n",
       "    }\n",
       "</style>\n",
       "<table border=\"1\" class=\"dataframe\">\n",
       "  <thead>\n",
       "    <tr style=\"text-align: right;\">\n",
       "      <th></th>\n",
       "      <th>f2</th>\n",
       "      <th>f3</th>\n",
       "      <th>f4</th>\n",
       "      <th>f5</th>\n",
       "      <th>f6</th>\n",
       "      <th>f7</th>\n",
       "      <th>f8</th>\n",
       "      <th>f9</th>\n",
       "      <th>f10</th>\n",
       "      <th>f13</th>\n",
       "      <th>...</th>\n",
       "      <th>f40_no</th>\n",
       "      <th>f40_yes</th>\n",
       "      <th>f106_no</th>\n",
       "      <th>f106_yes</th>\n",
       "      <th>f114_no</th>\n",
       "      <th>f114_yes</th>\n",
       "      <th>f118_no</th>\n",
       "      <th>f118_yes</th>\n",
       "      <th>first</th>\n",
       "      <th>second</th>\n",
       "    </tr>\n",
       "  </thead>\n",
       "  <tbody>\n",
       "    <tr>\n",
       "      <th>0</th>\n",
       "      <td>69</td>\n",
       "      <td>38.0</td>\n",
       "      <td>7.0</td>\n",
       "      <td>10.0</td>\n",
       "      <td>1.0</td>\n",
       "      <td>2001.0</td>\n",
       "      <td>2.0</td>\n",
       "      <td>11.0</td>\n",
       "      <td>2.0</td>\n",
       "      <td>2.615514e+07</td>\n",
       "      <td>...</td>\n",
       "      <td>1</td>\n",
       "      <td>0</td>\n",
       "      <td>1</td>\n",
       "      <td>0</td>\n",
       "      <td>1</td>\n",
       "      <td>0</td>\n",
       "      <td>1</td>\n",
       "      <td>0</td>\n",
       "      <td>0</td>\n",
       "      <td>1</td>\n",
       "    </tr>\n",
       "    <tr>\n",
       "      <th>1</th>\n",
       "      <td>55</td>\n",
       "      <td>NaN</td>\n",
       "      <td>2.0</td>\n",
       "      <td>1.0</td>\n",
       "      <td>4.0</td>\n",
       "      <td>NaN</td>\n",
       "      <td>2.0</td>\n",
       "      <td>10.0</td>\n",
       "      <td>NaN</td>\n",
       "      <td>3.574795e+07</td>\n",
       "      <td>...</td>\n",
       "      <td>1</td>\n",
       "      <td>0</td>\n",
       "      <td>1</td>\n",
       "      <td>0</td>\n",
       "      <td>1</td>\n",
       "      <td>0</td>\n",
       "      <td>1</td>\n",
       "      <td>0</td>\n",
       "      <td>0</td>\n",
       "      <td>1</td>\n",
       "    </tr>\n",
       "    <tr>\n",
       "      <th>2</th>\n",
       "      <td>30</td>\n",
       "      <td>16.0</td>\n",
       "      <td>2.0</td>\n",
       "      <td>NaN</td>\n",
       "      <td>NaN</td>\n",
       "      <td>NaN</td>\n",
       "      <td>NaN</td>\n",
       "      <td>NaN</td>\n",
       "      <td>NaN</td>\n",
       "      <td>3.326419e+06</td>\n",
       "      <td>...</td>\n",
       "      <td>1</td>\n",
       "      <td>0</td>\n",
       "      <td>1</td>\n",
       "      <td>0</td>\n",
       "      <td>1</td>\n",
       "      <td>0</td>\n",
       "      <td>1</td>\n",
       "      <td>0</td>\n",
       "      <td>0</td>\n",
       "      <td>1</td>\n",
       "    </tr>\n",
       "    <tr>\n",
       "      <th>3</th>\n",
       "      <td>44</td>\n",
       "      <td>43.0</td>\n",
       "      <td>1.0</td>\n",
       "      <td>NaN</td>\n",
       "      <td>NaN</td>\n",
       "      <td>NaN</td>\n",
       "      <td>NaN</td>\n",
       "      <td>NaN</td>\n",
       "      <td>NaN</td>\n",
       "      <td>7.887684e+06</td>\n",
       "      <td>...</td>\n",
       "      <td>1</td>\n",
       "      <td>0</td>\n",
       "      <td>1</td>\n",
       "      <td>0</td>\n",
       "      <td>1</td>\n",
       "      <td>0</td>\n",
       "      <td>1</td>\n",
       "      <td>0</td>\n",
       "      <td>0</td>\n",
       "      <td>1</td>\n",
       "    </tr>\n",
       "    <tr>\n",
       "      <th>4</th>\n",
       "      <td>45</td>\n",
       "      <td>28.0</td>\n",
       "      <td>3.0</td>\n",
       "      <td>5.0</td>\n",
       "      <td>2.0</td>\n",
       "      <td>1960.0</td>\n",
       "      <td>2.0</td>\n",
       "      <td>5.0</td>\n",
       "      <td>NaN</td>\n",
       "      <td>1.752651e+07</td>\n",
       "      <td>...</td>\n",
       "      <td>1</td>\n",
       "      <td>0</td>\n",
       "      <td>1</td>\n",
       "      <td>0</td>\n",
       "      <td>1</td>\n",
       "      <td>0</td>\n",
       "      <td>1</td>\n",
       "      <td>0</td>\n",
       "      <td>0</td>\n",
       "      <td>1</td>\n",
       "    </tr>\n",
       "    <tr>\n",
       "      <th>...</th>\n",
       "      <td>...</td>\n",
       "      <td>...</td>\n",
       "      <td>...</td>\n",
       "      <td>...</td>\n",
       "      <td>...</td>\n",
       "      <td>...</td>\n",
       "      <td>...</td>\n",
       "      <td>...</td>\n",
       "      <td>...</td>\n",
       "      <td>...</td>\n",
       "      <td>...</td>\n",
       "      <td>...</td>\n",
       "      <td>...</td>\n",
       "      <td>...</td>\n",
       "      <td>...</td>\n",
       "      <td>...</td>\n",
       "      <td>...</td>\n",
       "      <td>...</td>\n",
       "      <td>...</td>\n",
       "      <td>...</td>\n",
       "      <td>...</td>\n",
       "    </tr>\n",
       "    <tr>\n",
       "      <th>24371</th>\n",
       "      <td>55</td>\n",
       "      <td>NaN</td>\n",
       "      <td>7.0</td>\n",
       "      <td>17.0</td>\n",
       "      <td>1.0</td>\n",
       "      <td>NaN</td>\n",
       "      <td>2.0</td>\n",
       "      <td>1.0</td>\n",
       "      <td>1.0</td>\n",
       "      <td>2.553630e+07</td>\n",
       "      <td>...</td>\n",
       "      <td>1</td>\n",
       "      <td>0</td>\n",
       "      <td>1</td>\n",
       "      <td>0</td>\n",
       "      <td>1</td>\n",
       "      <td>0</td>\n",
       "      <td>1</td>\n",
       "      <td>0</td>\n",
       "      <td>1</td>\n",
       "      <td>0</td>\n",
       "    </tr>\n",
       "    <tr>\n",
       "      <th>24372</th>\n",
       "      <td>43</td>\n",
       "      <td>28.0</td>\n",
       "      <td>2.0</td>\n",
       "      <td>NaN</td>\n",
       "      <td>NaN</td>\n",
       "      <td>NaN</td>\n",
       "      <td>NaN</td>\n",
       "      <td>NaN</td>\n",
       "      <td>NaN</td>\n",
       "      <td>7.887684e+06</td>\n",
       "      <td>...</td>\n",
       "      <td>1</td>\n",
       "      <td>0</td>\n",
       "      <td>1</td>\n",
       "      <td>0</td>\n",
       "      <td>1</td>\n",
       "      <td>0</td>\n",
       "      <td>1</td>\n",
       "      <td>0</td>\n",
       "      <td>0</td>\n",
       "      <td>1</td>\n",
       "    </tr>\n",
       "    <tr>\n",
       "      <th>24373</th>\n",
       "      <td>85</td>\n",
       "      <td>NaN</td>\n",
       "      <td>16.0</td>\n",
       "      <td>17.0</td>\n",
       "      <td>1.0</td>\n",
       "      <td>1.0</td>\n",
       "      <td>3.0</td>\n",
       "      <td>1.0</td>\n",
       "      <td>NaN</td>\n",
       "      <td>8.591335e+06</td>\n",
       "      <td>...</td>\n",
       "      <td>1</td>\n",
       "      <td>0</td>\n",
       "      <td>1</td>\n",
       "      <td>0</td>\n",
       "      <td>1</td>\n",
       "      <td>0</td>\n",
       "      <td>1</td>\n",
       "      <td>0</td>\n",
       "      <td>0</td>\n",
       "      <td>1</td>\n",
       "    </tr>\n",
       "    <tr>\n",
       "      <th>24374</th>\n",
       "      <td>47</td>\n",
       "      <td>27.0</td>\n",
       "      <td>2.0</td>\n",
       "      <td>10.0</td>\n",
       "      <td>2.0</td>\n",
       "      <td>1958.0</td>\n",
       "      <td>2.0</td>\n",
       "      <td>6.0</td>\n",
       "      <td>4.0</td>\n",
       "      <td>1.249544e+07</td>\n",
       "      <td>...</td>\n",
       "      <td>1</td>\n",
       "      <td>0</td>\n",
       "      <td>1</td>\n",
       "      <td>0</td>\n",
       "      <td>1</td>\n",
       "      <td>0</td>\n",
       "      <td>1</td>\n",
       "      <td>0</td>\n",
       "      <td>0</td>\n",
       "      <td>1</td>\n",
       "    </tr>\n",
       "    <tr>\n",
       "      <th>24375</th>\n",
       "      <td>85</td>\n",
       "      <td>60.0</td>\n",
       "      <td>10.0</td>\n",
       "      <td>22.0</td>\n",
       "      <td>4.0</td>\n",
       "      <td>2015.0</td>\n",
       "      <td>3.0</td>\n",
       "      <td>10.0</td>\n",
       "      <td>1.0</td>\n",
       "      <td>2.553630e+07</td>\n",
       "      <td>...</td>\n",
       "      <td>1</td>\n",
       "      <td>0</td>\n",
       "      <td>1</td>\n",
       "      <td>0</td>\n",
       "      <td>1</td>\n",
       "      <td>0</td>\n",
       "      <td>1</td>\n",
       "      <td>0</td>\n",
       "      <td>1</td>\n",
       "      <td>0</td>\n",
       "    </tr>\n",
       "  </tbody>\n",
       "</table>\n",
       "<p>24376 rows × 304 columns</p>\n",
       "</div>"
      ],
      "text/plain": [
       "       f2    f3    f4    f5   f6      f7   f8    f9  f10           f13  ...  \\\n",
       "0      69  38.0   7.0  10.0  1.0  2001.0  2.0  11.0  2.0  2.615514e+07  ...   \n",
       "1      55   NaN   2.0   1.0  4.0     NaN  2.0  10.0  NaN  3.574795e+07  ...   \n",
       "2      30  16.0   2.0   NaN  NaN     NaN  NaN   NaN  NaN  3.326419e+06  ...   \n",
       "3      44  43.0   1.0   NaN  NaN     NaN  NaN   NaN  NaN  7.887684e+06  ...   \n",
       "4      45  28.0   3.0   5.0  2.0  1960.0  2.0   5.0  NaN  1.752651e+07  ...   \n",
       "...    ..   ...   ...   ...  ...     ...  ...   ...  ...           ...  ...   \n",
       "24371  55   NaN   7.0  17.0  1.0     NaN  2.0   1.0  1.0  2.553630e+07  ...   \n",
       "24372  43  28.0   2.0   NaN  NaN     NaN  NaN   NaN  NaN  7.887684e+06  ...   \n",
       "24373  85   NaN  16.0  17.0  1.0     1.0  3.0   1.0  NaN  8.591335e+06  ...   \n",
       "24374  47  27.0   2.0  10.0  2.0  1958.0  2.0   6.0  4.0  1.249544e+07  ...   \n",
       "24375  85  60.0  10.0  22.0  4.0  2015.0  3.0  10.0  1.0  2.553630e+07  ...   \n",
       "\n",
       "       f40_no  f40_yes  f106_no  f106_yes  f114_no  f114_yes  f118_no  \\\n",
       "0           1        0        1         0        1         0        1   \n",
       "1           1        0        1         0        1         0        1   \n",
       "2           1        0        1         0        1         0        1   \n",
       "3           1        0        1         0        1         0        1   \n",
       "4           1        0        1         0        1         0        1   \n",
       "...       ...      ...      ...       ...      ...       ...      ...   \n",
       "24371       1        0        1         0        1         0        1   \n",
       "24372       1        0        1         0        1         0        1   \n",
       "24373       1        0        1         0        1         0        1   \n",
       "24374       1        0        1         0        1         0        1   \n",
       "24375       1        0        1         0        1         0        1   \n",
       "\n",
       "       f118_yes  first  second  \n",
       "0             0      0       1  \n",
       "1             0      0       1  \n",
       "2             0      0       1  \n",
       "3             0      0       1  \n",
       "4             0      0       1  \n",
       "...         ...    ...     ...  \n",
       "24371         0      1       0  \n",
       "24372         0      0       1  \n",
       "24373         0      0       1  \n",
       "24374         0      0       1  \n",
       "24375         0      1       0  \n",
       "\n",
       "[24376 rows x 304 columns]"
      ]
     },
     "execution_count": 284,
     "metadata": {},
     "output_type": "execute_result"
    }
   ],
   "source": [
    "tfm_data"
   ]
  },
  {
   "cell_type": "code",
   "execution_count": 287,
   "id": "a4b4a907",
   "metadata": {},
   "outputs": [
    {
     "data": {
      "text/plain": [
       "0         0.859306\n",
       "1        12.654386\n",
       "2         1.570647\n",
       "3         0.834644\n",
       "4         0.566241\n",
       "           ...    \n",
       "24371     2.285812\n",
       "24372     2.318061\n",
       "24373     2.077953\n",
       "24374     1.096273\n",
       "24375     2.285812\n",
       "Name: f88, Length: 24376, dtype: float64"
      ]
     },
     "execution_count": 287,
     "metadata": {},
     "output_type": "execute_result"
    }
   ],
   "source": [
    "tfm_data['f88']"
   ]
  },
  {
   "cell_type": "code",
   "execution_count": 300,
   "id": "31600cfb",
   "metadata": {
    "scrolled": false
   },
   "outputs": [
    {
     "data": {
      "text/plain": [
       "count    24354.000000\n",
       "mean         3.568633\n",
       "std          5.805452\n",
       "min          0.000000\n",
       "25%          0.951530\n",
       "50%          1.700082\n",
       "75%          3.776836\n",
       "max         59.267984\n",
       "Name: f88, dtype: float64"
      ]
     },
     "execution_count": 300,
     "metadata": {},
     "output_type": "execute_result"
    }
   ],
   "source": [
    "tfm_data.describe()['f88']"
   ]
  },
  {
   "cell_type": "code",
   "execution_count": 309,
   "id": "bb3d3312",
   "metadata": {},
   "outputs": [
    {
     "data": {
      "text/plain": [
       "<AxesSubplot:>"
      ]
     },
     "execution_count": 309,
     "metadata": {},
     "output_type": "execute_result"
    },
    {
     "data": {
      "image/png": "[encoded data removed]",
      "text/plain": [
       "<Figure size 432x288 with 1 Axes>"
      ]
     },
     "metadata": {
      "needs_background": "light"
     },
     "output_type": "display_data"
    }
   ],
   "source": [
    "tfm_data['f98'].hist(bins=100)"
   ]
  },
  {
   "cell_type": "code",
   "execution_count": 332,
   "id": "cdb6f92e",
   "metadata": {},
   "outputs": [
    {
     "data": {
      "text/plain": [
       "[<matplotlib.lines.Line2D at 0x1af73a288e0>]"
      ]
     },
     "execution_count": 332,
     "metadata": {},
     "output_type": "execute_result"
    },
    {
     "data": {
      "image/png": "[encoded data removed]",
      "text/plain": [
       "<Figure size 432x288 with 1 Axes>"
      ]
     },
     "metadata": {
      "needs_background": "light"
     },
     "output_type": "display_data"
    }
   ],
   "source": [
    "plt.plot(sorted(np.array(tfm_data.isnull().sum(axis=0)[tfm_data.isnull().sum(axis=0)>=1])/24376))"
   ]
  },
  {
   "cell_type": "code",
   "execution_count": 327,
   "id": "1e9af7bc",
   "metadata": {},
   "outputs": [
    {
     "data": {
      "text/plain": [
       "[<matplotlib.lines.Line2D at 0x1af71f32f40>]"
      ]
     },
     "execution_count": 327,
     "metadata": {},
     "output_type": "execute_result"
    },
    {
     "data": {
      "image/png": "[encoded data removed]",
      "text/plain": [
       "<Figure size 432x288 with 1 Axes>"
      ]
     },
     "metadata": {
      "needs_background": "light"
     },
     "output_type": "display_data"
    }
   ],
   "source": [
    "plt.plot(sorted(list(tfm_data.isnull().sum(axis=1))))"
   ]
  },
  {
   "cell_type": "code",
   "execution_count": 335,
   "id": "069dc1d4",
   "metadata": {},
   "outputs": [],
   "source": [
    "from sklearn.impute import SimpleImputer\n",
    "imp = SimpleImputer(missing_values=np.nan, strategy='mean')\n",
    "imp.fit(tfm_data.to_numpy())\n",
    "\n",
    "tfm_data_nan = imp.transform(tfm_data.to_numpy())\n"
   ]
  },
  {
   "cell_type": "code",
   "execution_count": 340,
   "id": "c73f8e0e",
   "metadata": {},
   "outputs": [
    {
     "data": {
      "text/plain": [
       "275"
      ]
     },
     "execution_count": 340,
     "metadata": {},
     "output_type": "execute_result"
    }
   ],
   "source": [
    "tfm_data.columns.get_loc(\"target\")"
   ]
  },
  {
   "cell_type": "code",
   "execution_count": 351,
   "id": "8383157a",
   "metadata": {},
   "outputs": [],
   "source": [
    "y = tfm_data_nan[:,275]"
   ]
  },
  {
   "cell_type": "code",
   "execution_count": 352,
   "id": "3a6772d2",
   "metadata": {},
   "outputs": [],
   "source": [
    "X =np.delete(tfm_data_nan, 275, 1)\n"
   ]
  },
  {
   "cell_type": "code",
   "execution_count": 346,
   "id": "aba023ee",
   "metadata": {
    "scrolled": true
   },
   "outputs": [
    {
     "data": {
      "text/plain": [
       "(24376, 304)"
      ]
     },
     "execution_count": 346,
     "metadata": {},
     "output_type": "execute_result"
    }
   ],
   "source": [
    "tfm_data_nan.shape"
   ]
  },
  {
   "cell_type": "code",
   "execution_count": 353,
   "id": "005c572d",
   "metadata": {},
   "outputs": [
    {
     "data": {
      "text/plain": [
       "(24376, 303)"
      ]
     },
     "execution_count": 353,
     "metadata": {},
     "output_type": "execute_result"
    }
   ],
   "source": [
    "X.shape"
   ]
  },
  {
   "cell_type": "code",
   "execution_count": 354,
   "id": "c84534fc",
   "metadata": {},
   "outputs": [],
   "source": [
    "from sklearn.model_selection import train_test_split\n",
    "X_train, X_test, y_train, y_test = train_test_split(X, y, test_size=0.4, random_state=0)"
   ]
  },
  {
   "cell_type": "code",
   "execution_count": 359,
   "id": "84589c0b",
   "metadata": {},
   "outputs": [
    {
     "data": {
      "text/plain": [
       "[<matplotlib.lines.Line2D at 0x1af0243fdf0>]"
      ]
     },
     "execution_count": 359,
     "metadata": {},
     "output_type": "execute_result"
    },
    {
     "data": {
      "image/png": "[encoded data removed]",
      "text/plain": [
       "<Figure size 432x288 with 1 Axes>"
      ]
     },
     "metadata": {
      "needs_background": "light"
     },
     "output_type": "display_data"
    }
   ],
   "source": []
  },
  {
   "cell_type": "code",
   "execution_count": 422,
   "id": "1b8999fb",
   "metadata": {},
   "outputs": [],
   "source": [
    "def funn(X,y,count):\n",
    "    mean = np.log(y).mean()\n",
    "    std = np.log(y).std()\n",
    "    a = mean - count*std\n",
    "    b = mean + count*std\n",
    "    \n",
    "    return X[np.where((np.log(y)<b)&(np.log(y)>a))], y[(np.where((np.log(y)<b)&(np.log(y)>a)))]\n",
    "\n",
    "    \n",
    "    "
   ]
  },
  {
   "cell_type": "code",
   "execution_count": 458,
   "id": "e4ba2b24",
   "metadata": {},
   "outputs": [],
   "source": [
    "new_x, new_y =funn(X,y,2)"
   ]
  },
  {
   "cell_type": "code",
   "execution_count": 426,
   "id": "55ead220",
   "metadata": {},
   "outputs": [
    {
     "data": {
      "text/plain": [
       "(13766, 303)"
      ]
     },
     "execution_count": 426,
     "metadata": {},
     "output_type": "execute_result"
    }
   ],
   "source": [
    "new_x.shape"
   ]
  },
  {
   "cell_type": "code",
   "execution_count": 427,
   "id": "77173fb1",
   "metadata": {},
   "outputs": [
    {
     "data": {
      "text/plain": [
       "(13766,)"
      ]
     },
     "execution_count": 427,
     "metadata": {},
     "output_type": "execute_result"
    }
   ],
   "source": [
    "new_y.shape"
   ]
  },
  {
   "cell_type": "code",
   "execution_count": 465,
   "id": "618df2f7",
   "metadata": {},
   "outputs": [],
   "source": [
    "t = pd.read_csv('test.csv')\n",
    "t = t.drop(columns=['id'])"
   ]
  },
  {
   "cell_type": "code",
   "execution_count": 466,
   "id": "0c1c8a43",
   "metadata": {},
   "outputs": [
    {
     "data": {
      "text/html": [
       "<div>\n",
       "<style scoped>\n",
       "    .dataframe tbody tr th:only-of-type {\n",
       "        vertical-align: middle;\n",
       "    }\n",
       "\n",
       "    .dataframe tbody tr th {\n",
       "        vertical-align: top;\n",
       "    }\n",
       "\n",
       "    .dataframe thead th {\n",
       "        text-align: right;\n",
       "    }\n",
       "</style>\n",
       "<table border=\"1\" class=\"dataframe\">\n",
       "  <thead>\n",
       "    <tr style=\"text-align: right;\">\n",
       "      <th></th>\n",
       "      <th>f1</th>\n",
       "      <th>f2</th>\n",
       "      <th>f3</th>\n",
       "      <th>f4</th>\n",
       "      <th>f5</th>\n",
       "      <th>f6</th>\n",
       "      <th>f7</th>\n",
       "      <th>f8</th>\n",
       "      <th>f9</th>\n",
       "      <th>f10</th>\n",
       "      <th>...</th>\n",
       "      <th>f281</th>\n",
       "      <th>f282</th>\n",
       "      <th>f283</th>\n",
       "      <th>f284</th>\n",
       "      <th>f285</th>\n",
       "      <th>f286</th>\n",
       "      <th>f287</th>\n",
       "      <th>f288</th>\n",
       "      <th>f289</th>\n",
       "      <th>f290</th>\n",
       "    </tr>\n",
       "  </thead>\n",
       "  <tbody>\n",
       "    <tr>\n",
       "      <th>0</th>\n",
       "      <td>2014-03-29</td>\n",
       "      <td>63</td>\n",
       "      <td>63.0</td>\n",
       "      <td>11.0</td>\n",
       "      <td>17.0</td>\n",
       "      <td>1.0</td>\n",
       "      <td>NaN</td>\n",
       "      <td>2.0</td>\n",
       "      <td>1.0</td>\n",
       "      <td>NaN</td>\n",
       "      <td>...</td>\n",
       "      <td>5</td>\n",
       "      <td>1</td>\n",
       "      <td>1</td>\n",
       "      <td>0</td>\n",
       "      <td>2</td>\n",
       "      <td>12</td>\n",
       "      <td>0</td>\n",
       "      <td>1</td>\n",
       "      <td>10</td>\n",
       "      <td>0</td>\n",
       "    </tr>\n",
       "    <tr>\n",
       "      <th>1</th>\n",
       "      <td>2013-02-19</td>\n",
       "      <td>64</td>\n",
       "      <td>NaN</td>\n",
       "      <td>2.0</td>\n",
       "      <td>NaN</td>\n",
       "      <td>NaN</td>\n",
       "      <td>NaN</td>\n",
       "      <td>NaN</td>\n",
       "      <td>NaN</td>\n",
       "      <td>NaN</td>\n",
       "      <td>...</td>\n",
       "      <td>5</td>\n",
       "      <td>1</td>\n",
       "      <td>1</td>\n",
       "      <td>0</td>\n",
       "      <td>2</td>\n",
       "      <td>12</td>\n",
       "      <td>0</td>\n",
       "      <td>0</td>\n",
       "      <td>9</td>\n",
       "      <td>0</td>\n",
       "    </tr>\n",
       "    <tr>\n",
       "      <th>2</th>\n",
       "      <td>2013-09-18</td>\n",
       "      <td>40</td>\n",
       "      <td>NaN</td>\n",
       "      <td>4.0</td>\n",
       "      <td>17.0</td>\n",
       "      <td>1.0</td>\n",
       "      <td>NaN</td>\n",
       "      <td>1.0</td>\n",
       "      <td>1.0</td>\n",
       "      <td>NaN</td>\n",
       "      <td>...</td>\n",
       "      <td>636</td>\n",
       "      <td>371</td>\n",
       "      <td>141</td>\n",
       "      <td>26</td>\n",
       "      <td>150</td>\n",
       "      <td>249</td>\n",
       "      <td>2</td>\n",
       "      <td>105</td>\n",
       "      <td>203</td>\n",
       "      <td>13</td>\n",
       "    </tr>\n",
       "    <tr>\n",
       "      <th>3</th>\n",
       "      <td>2014-07-04</td>\n",
       "      <td>37</td>\n",
       "      <td>1.0</td>\n",
       "      <td>25.0</td>\n",
       "      <td>1.0</td>\n",
       "      <td>1.0</td>\n",
       "      <td>1.0</td>\n",
       "      <td>1.0</td>\n",
       "      <td>1.0</td>\n",
       "      <td>1.0</td>\n",
       "      <td>...</td>\n",
       "      <td>28</td>\n",
       "      <td>17</td>\n",
       "      <td>6</td>\n",
       "      <td>2</td>\n",
       "      <td>4</td>\n",
       "      <td>16</td>\n",
       "      <td>0</td>\n",
       "      <td>0</td>\n",
       "      <td>47</td>\n",
       "      <td>3</td>\n",
       "    </tr>\n",
       "    <tr>\n",
       "      <th>4</th>\n",
       "      <td>2014-09-24</td>\n",
       "      <td>127</td>\n",
       "      <td>58.0</td>\n",
       "      <td>11.0</td>\n",
       "      <td>20.0</td>\n",
       "      <td>1.0</td>\n",
       "      <td>2006.0</td>\n",
       "      <td>3.0</td>\n",
       "      <td>33.0</td>\n",
       "      <td>4.0</td>\n",
       "      <td>...</td>\n",
       "      <td>95</td>\n",
       "      <td>37</td>\n",
       "      <td>5</td>\n",
       "      <td>1</td>\n",
       "      <td>5</td>\n",
       "      <td>33</td>\n",
       "      <td>1</td>\n",
       "      <td>6</td>\n",
       "      <td>85</td>\n",
       "      <td>5</td>\n",
       "    </tr>\n",
       "    <tr>\n",
       "      <th>...</th>\n",
       "      <td>...</td>\n",
       "      <td>...</td>\n",
       "      <td>...</td>\n",
       "      <td>...</td>\n",
       "      <td>...</td>\n",
       "      <td>...</td>\n",
       "      <td>...</td>\n",
       "      <td>...</td>\n",
       "      <td>...</td>\n",
       "      <td>...</td>\n",
       "      <td>...</td>\n",
       "      <td>...</td>\n",
       "      <td>...</td>\n",
       "      <td>...</td>\n",
       "      <td>...</td>\n",
       "      <td>...</td>\n",
       "      <td>...</td>\n",
       "      <td>...</td>\n",
       "      <td>...</td>\n",
       "      <td>...</td>\n",
       "      <td>...</td>\n",
       "    </tr>\n",
       "    <tr>\n",
       "      <th>6090</th>\n",
       "      <td>2014-12-16</td>\n",
       "      <td>59</td>\n",
       "      <td>36.0</td>\n",
       "      <td>14.0</td>\n",
       "      <td>1.0</td>\n",
       "      <td>1.0</td>\n",
       "      <td>NaN</td>\n",
       "      <td>2.0</td>\n",
       "      <td>9.0</td>\n",
       "      <td>NaN</td>\n",
       "      <td>...</td>\n",
       "      <td>3</td>\n",
       "      <td>1</td>\n",
       "      <td>0</td>\n",
       "      <td>0</td>\n",
       "      <td>1</td>\n",
       "      <td>6</td>\n",
       "      <td>0</td>\n",
       "      <td>0</td>\n",
       "      <td>6</td>\n",
       "      <td>1</td>\n",
       "    </tr>\n",
       "    <tr>\n",
       "      <th>6091</th>\n",
       "      <td>2014-06-28</td>\n",
       "      <td>65</td>\n",
       "      <td>43.0</td>\n",
       "      <td>10.0</td>\n",
       "      <td>12.0</td>\n",
       "      <td>1.0</td>\n",
       "      <td>1974.0</td>\n",
       "      <td>3.0</td>\n",
       "      <td>7.0</td>\n",
       "      <td>3.0</td>\n",
       "      <td>...</td>\n",
       "      <td>389</td>\n",
       "      <td>249</td>\n",
       "      <td>85</td>\n",
       "      <td>18</td>\n",
       "      <td>78</td>\n",
       "      <td>150</td>\n",
       "      <td>1</td>\n",
       "      <td>68</td>\n",
       "      <td>163</td>\n",
       "      <td>12</td>\n",
       "    </tr>\n",
       "    <tr>\n",
       "      <th>6092</th>\n",
       "      <td>2015-04-02</td>\n",
       "      <td>53</td>\n",
       "      <td>30.0</td>\n",
       "      <td>11.0</td>\n",
       "      <td>12.0</td>\n",
       "      <td>1.0</td>\n",
       "      <td>1984.0</td>\n",
       "      <td>2.0</td>\n",
       "      <td>8.0</td>\n",
       "      <td>3.0</td>\n",
       "      <td>...</td>\n",
       "      <td>46</td>\n",
       "      <td>10</td>\n",
       "      <td>4</td>\n",
       "      <td>0</td>\n",
       "      <td>15</td>\n",
       "      <td>20</td>\n",
       "      <td>1</td>\n",
       "      <td>0</td>\n",
       "      <td>55</td>\n",
       "      <td>4</td>\n",
       "    </tr>\n",
       "    <tr>\n",
       "      <th>6093</th>\n",
       "      <td>2014-07-31</td>\n",
       "      <td>37</td>\n",
       "      <td>18.0</td>\n",
       "      <td>5.0</td>\n",
       "      <td>5.0</td>\n",
       "      <td>1.0</td>\n",
       "      <td>2009.0</td>\n",
       "      <td>1.0</td>\n",
       "      <td>7.0</td>\n",
       "      <td>3.0</td>\n",
       "      <td>...</td>\n",
       "      <td>3</td>\n",
       "      <td>1</td>\n",
       "      <td>0</td>\n",
       "      <td>0</td>\n",
       "      <td>1</td>\n",
       "      <td>3</td>\n",
       "      <td>0</td>\n",
       "      <td>0</td>\n",
       "      <td>5</td>\n",
       "      <td>1</td>\n",
       "    </tr>\n",
       "    <tr>\n",
       "      <th>6094</th>\n",
       "      <td>2014-10-07</td>\n",
       "      <td>74</td>\n",
       "      <td>46.0</td>\n",
       "      <td>2.0</td>\n",
       "      <td>16.0</td>\n",
       "      <td>1.0</td>\n",
       "      <td>1980.0</td>\n",
       "      <td>3.0</td>\n",
       "      <td>10.0</td>\n",
       "      <td>2.0</td>\n",
       "      <td>...</td>\n",
       "      <td>45</td>\n",
       "      <td>9</td>\n",
       "      <td>4</td>\n",
       "      <td>0</td>\n",
       "      <td>13</td>\n",
       "      <td>23</td>\n",
       "      <td>1</td>\n",
       "      <td>0</td>\n",
       "      <td>64</td>\n",
       "      <td>4</td>\n",
       "    </tr>\n",
       "  </tbody>\n",
       "</table>\n",
       "<p>6095 rows × 290 columns</p>\n",
       "</div>"
      ],
      "text/plain": [
       "              f1   f2    f3    f4    f5   f6      f7   f8    f9  f10  ...  \\\n",
       "0     2014-03-29   63  63.0  11.0  17.0  1.0     NaN  2.0   1.0  NaN  ...   \n",
       "1     2013-02-19   64   NaN   2.0   NaN  NaN     NaN  NaN   NaN  NaN  ...   \n",
       "2     2013-09-18   40   NaN   4.0  17.0  1.0     NaN  1.0   1.0  NaN  ...   \n",
       "3     2014-07-04   37   1.0  25.0   1.0  1.0     1.0  1.0   1.0  1.0  ...   \n",
       "4     2014-09-24  127  58.0  11.0  20.0  1.0  2006.0  3.0  33.0  4.0  ...   \n",
       "...          ...  ...   ...   ...   ...  ...     ...  ...   ...  ...  ...   \n",
       "6090  2014-12-16   59  36.0  14.0   1.0  1.0     NaN  2.0   9.0  NaN  ...   \n",
       "6091  2014-06-28   65  43.0  10.0  12.0  1.0  1974.0  3.0   7.0  3.0  ...   \n",
       "6092  2015-04-02   53  30.0  11.0  12.0  1.0  1984.0  2.0   8.0  3.0  ...   \n",
       "6093  2014-07-31   37  18.0   5.0   5.0  1.0  2009.0  1.0   7.0  3.0  ...   \n",
       "6094  2014-10-07   74  46.0   2.0  16.0  1.0  1980.0  3.0  10.0  2.0  ...   \n",
       "\n",
       "     f281 f282  f283  f284  f285  f286  f287  f288  f289  f290  \n",
       "0       5    1     1     0     2    12     0     1    10     0  \n",
       "1       5    1     1     0     2    12     0     0     9     0  \n",
       "2     636  371   141    26   150   249     2   105   203    13  \n",
       "3      28   17     6     2     4    16     0     0    47     3  \n",
       "4      95   37     5     1     5    33     1     6    85     5  \n",
       "...   ...  ...   ...   ...   ...   ...   ...   ...   ...   ...  \n",
       "6090    3    1     0     0     1     6     0     0     6     1  \n",
       "6091  389  249    85    18    78   150     1    68   163    12  \n",
       "6092   46   10     4     0    15    20     1     0    55     4  \n",
       "6093    3    1     0     0     1     3     0     0     5     1  \n",
       "6094   45    9     4     0    13    23     1     0    64     4  \n",
       "\n",
       "[6095 rows x 290 columns]"
      ]
     },
     "execution_count": 466,
     "metadata": {},
     "output_type": "execute_result"
    }
   ],
   "source": [
    "t."
   ]
  },
  {
   "cell_type": "code",
   "execution_count": 439,
   "id": "0ba8a3fe",
   "metadata": {},
   "outputs": [],
   "source": [
    "scaler = StandardScaler()\n",
    "scaler.fit(new_x)\n",
    "new_x = scaler.transform(new_x)\n",
    "X_test = scaler.transform(X_test)"
   ]
  },
  {
   "cell_type": "code",
   "execution_count": 440,
   "id": "f777cccd",
   "metadata": {},
   "outputs": [],
   "source": [
    "from sklearn import svm\n",
    "regr = svm.SVR()\n",
    "regr.fit(new_x, new_y)\n",
    "answer = regr.predict(X_test)\n"
   ]
  },
  {
   "cell_type": "code",
   "execution_count": 443,
   "id": "0c1df2c7",
   "metadata": {},
   "outputs": [],
   "source": [
    "from sklearn.ensemble import RandomForestRegressor\n",
    "regr = RandomForestRegressor(random_state=0)\n",
    "regr.fit(new_x, new_y)\n",
    "answer = regr.predict(X_test)\n"
   ]
  },
  {
   "cell_type": "code",
   "execution_count": 456,
   "id": "5bf05158",
   "metadata": {},
   "outputs": [
    {
     "name": "stdout",
     "output_type": "stream",
     "text": [
      "3580760.468417256\n",
      "7146636.962773049\n",
      "4894792.246486398\n",
      "392637.10226207034\n"
     ]
    }
   ],
   "source": [
    "print((answer).mean())\n",
    "print((y_test).mean())\n",
    "print((y_test).std())\n",
    "print((answer).std())\n",
    "\n",
    "\n"
   ]
  },
  {
   "cell_type": "code",
   "execution_count": 452,
   "id": "7313be9a",
   "metadata": {},
   "outputs": [
    {
     "data": {
      "text/plain": [
       "4888080.779639253"
      ]
     },
     "execution_count": 452,
     "metadata": {},
     "output_type": "execute_result"
    }
   ],
   "source": [
    "(answer-y_test).std()"
   ]
  },
  {
   "cell_type": "code",
   "execution_count": 448,
   "id": "b13924de",
   "metadata": {},
   "outputs": [
    {
     "data": {
      "text/plain": [
       "array([11000000., 11450000.,  8650000., ...,  5150000.,  5658929.,\n",
       "        6600000.])"
      ]
     },
     "execution_count": 448,
     "metadata": {},
     "output_type": "execute_result"
    }
   ],
   "source": [
    "y_test"
   ]
  },
  {
   "cell_type": "code",
   "execution_count": 444,
   "id": "1d4183db",
   "metadata": {},
   "outputs": [
    {
     "data": {
      "text/plain": [
       "36608808881277.84"
      ]
     },
     "execution_count": 444,
     "metadata": {},
     "output_type": "execute_result"
    }
   ],
   "source": [
    "np.sum((answer - y_test)**2)/len(y_test)"
   ]
  },
  {
   "cell_type": "code",
   "execution_count": 457,
   "id": "2e4027de",
   "metadata": {},
   "outputs": [
    {
     "data": {
      "text/plain": [
       "[<matplotlib.lines.Line2D at 0x1af0285f970>]"
      ]
     },
     "execution_count": 457,
     "metadata": {},
     "output_type": "execute_result"
    },
    {
     "data": {
      "image/png": "[encoded data removed]",
      "text/plain": [
       "<Figure size 432x288 with 1 Axes>"
      ]
     },
     "metadata": {
      "needs_background": "light"
     },
     "output_type": "display_data"
    }
   ],
   "source": [
    "plt.plot((answer))\n",
    "plt.plot((y_test))"
   ]
  },
  {
   "cell_type": "code",
   "execution_count": 467,
   "id": "0b6079ff",
   "metadata": {},
   "outputs": [
    {
     "data": {
      "text/plain": [
       "[<matplotlib.lines.Line2D at 0x1af02fa6dc0>]"
      ]
     },
     "execution_count": 467,
     "metadata": {},
     "output_type": "execute_result"
    },
    {
     "data": {
      "image/png": "[encoded data removed]",
      "text/plain": [
       "<Figure size 432x288 with 1 Axes>"
      ]
     },
     "metadata": {
      "needs_background": "light"
     },
     "output_type": "display_data"
    }
   ],
   "source": [
    "plt.plot(sorted(answer))"
   ]
  },
  {
   "cell_type": "code",
   "execution_count": 468,
   "id": "f2f1cccd",
   "metadata": {},
   "outputs": [
    {
     "data": {
      "text/plain": [
       "0.8055714198076108"
      ]
     },
     "execution_count": 468,
     "metadata": {},
     "output_type": "execute_result"
    }
   ],
   "source": [
    "from sklearn.metrics import mean_squared_log_error\n",
    "np.sqrt(mean_squared_log_error(y_test, answer))"
   ]
  },
  {
   "cell_type": "code",
   "execution_count": null,
   "id": "2a9ee0df",
   "metadata": {},
   "outputs": [],
   "source": []
  },
  {
   "cell_type": "code",
   "execution_count": null,
   "id": "eab40984",
   "metadata": {},
   "outputs": [],
   "source": []
  },
  {
   "cell_type": "code",
   "execution_count": 27,
   "id": "324f49fe",
   "metadata": {},
   "outputs": [],
   "source": [
    "#категориальные признаки\n",
    "cat_data= data.select_dtypes(include=['object']).copy()"
   ]
  },
  {
   "cell_type": "code",
   "execution_count": 29,
   "id": "d83b7e20",
   "metadata": {
    "scrolled": true
   },
   "outputs": [
    {
     "data": {
      "text/html": [
       "<div>\n",
       "<style scoped>\n",
       "    .dataframe tbody tr th:only-of-type {\n",
       "        vertical-align: middle;\n",
       "    }\n",
       "\n",
       "    .dataframe tbody tr th {\n",
       "        vertical-align: top;\n",
       "    }\n",
       "\n",
       "    .dataframe thead th {\n",
       "        text-align: right;\n",
       "    }\n",
       "</style>\n",
       "<table border=\"1\" class=\"dataframe\">\n",
       "  <thead>\n",
       "    <tr style=\"text-align: right;\">\n",
       "      <th></th>\n",
       "      <th>f1</th>\n",
       "      <th>f11</th>\n",
       "      <th>f12</th>\n",
       "      <th>f29</th>\n",
       "      <th>f33</th>\n",
       "      <th>f34</th>\n",
       "      <th>f35</th>\n",
       "      <th>f36</th>\n",
       "      <th>f37</th>\n",
       "      <th>f38</th>\n",
       "      <th>f39</th>\n",
       "      <th>f40</th>\n",
       "      <th>f106</th>\n",
       "      <th>f114</th>\n",
       "      <th>f118</th>\n",
       "      <th>f152</th>\n",
       "    </tr>\n",
       "  </thead>\n",
       "  <tbody>\n",
       "    <tr>\n",
       "      <th>0</th>\n",
       "      <td>2014-01-29</td>\n",
       "      <td>Investment</td>\n",
       "      <td>Juzhnoe Butovo</td>\n",
       "      <td>no</td>\n",
       "      <td>no</td>\n",
       "      <td>no</td>\n",
       "      <td>no</td>\n",
       "      <td>no</td>\n",
       "      <td>no</td>\n",
       "      <td>no</td>\n",
       "      <td>no</td>\n",
       "      <td>no</td>\n",
       "      <td>no</td>\n",
       "      <td>no</td>\n",
       "      <td>no</td>\n",
       "      <td>good</td>\n",
       "    </tr>\n",
       "    <tr>\n",
       "      <th>1</th>\n",
       "      <td>2014-04-07</td>\n",
       "      <td>OwnerOccupier</td>\n",
       "      <td>Poselenie Filimonkovskoe</td>\n",
       "      <td>no</td>\n",
       "      <td>no</td>\n",
       "      <td>no</td>\n",
       "      <td>no</td>\n",
       "      <td>no</td>\n",
       "      <td>no</td>\n",
       "      <td>no</td>\n",
       "      <td>no</td>\n",
       "      <td>no</td>\n",
       "      <td>no</td>\n",
       "      <td>no</td>\n",
       "      <td>no</td>\n",
       "      <td>no data</td>\n",
       "    </tr>\n",
       "    <tr>\n",
       "      <th>2</th>\n",
       "      <td>2012-05-18</td>\n",
       "      <td>Investment</td>\n",
       "      <td>Lomonosovskoe</td>\n",
       "      <td>no</td>\n",
       "      <td>no</td>\n",
       "      <td>no</td>\n",
       "      <td>no</td>\n",
       "      <td>no</td>\n",
       "      <td>no</td>\n",
       "      <td>no</td>\n",
       "      <td>no</td>\n",
       "      <td>no</td>\n",
       "      <td>no</td>\n",
       "      <td>no</td>\n",
       "      <td>no</td>\n",
       "      <td>satisfactory</td>\n",
       "    </tr>\n",
       "    <tr>\n",
       "      <th>3</th>\n",
       "      <td>2013-02-08</td>\n",
       "      <td>Investment</td>\n",
       "      <td>Juzhnoe Tushino</td>\n",
       "      <td>no</td>\n",
       "      <td>no</td>\n",
       "      <td>no</td>\n",
       "      <td>no</td>\n",
       "      <td>no</td>\n",
       "      <td>no</td>\n",
       "      <td>no</td>\n",
       "      <td>no</td>\n",
       "      <td>no</td>\n",
       "      <td>no</td>\n",
       "      <td>no</td>\n",
       "      <td>no</td>\n",
       "      <td>poor</td>\n",
       "    </tr>\n",
       "    <tr>\n",
       "      <th>4</th>\n",
       "      <td>2014-01-10</td>\n",
       "      <td>Investment</td>\n",
       "      <td>Ochakovo-Matveevskoe</td>\n",
       "      <td>no</td>\n",
       "      <td>yes</td>\n",
       "      <td>no</td>\n",
       "      <td>no</td>\n",
       "      <td>no</td>\n",
       "      <td>no</td>\n",
       "      <td>no</td>\n",
       "      <td>no</td>\n",
       "      <td>no</td>\n",
       "      <td>no</td>\n",
       "      <td>no</td>\n",
       "      <td>no</td>\n",
       "      <td>satisfactory</td>\n",
       "    </tr>\n",
       "  </tbody>\n",
       "</table>\n",
       "</div>"
      ],
      "text/plain": [
       "           f1            f11                       f12 f29  f33 f34 f35 f36  \\\n",
       "0  2014-01-29     Investment            Juzhnoe Butovo  no   no  no  no  no   \n",
       "1  2014-04-07  OwnerOccupier  Poselenie Filimonkovskoe  no   no  no  no  no   \n",
       "2  2012-05-18     Investment             Lomonosovskoe  no   no  no  no  no   \n",
       "3  2013-02-08     Investment           Juzhnoe Tushino  no   no  no  no  no   \n",
       "4  2014-01-10     Investment      Ochakovo-Matveevskoe  no  yes  no  no  no   \n",
       "\n",
       "  f37 f38 f39 f40 f106 f114 f118          f152  \n",
       "0  no  no  no  no   no   no   no          good  \n",
       "1  no  no  no  no   no   no   no       no data  \n",
       "2  no  no  no  no   no   no   no  satisfactory  \n",
       "3  no  no  no  no   no   no   no          poor  \n",
       "4  no  no  no  no   no   no   no  satisfactory  "
      ]
     },
     "execution_count": 29,
     "metadata": {},
     "output_type": "execute_result"
    }
   ],
   "source": [
    "cat_data.head()"
   ]
  },
  {
   "cell_type": "code",
   "execution_count": 30,
   "id": "0163b592",
   "metadata": {
    "scrolled": false
   },
   "outputs": [
    {
     "name": "stdout",
     "output_type": "stream",
     "text": [
      "f1      0\n",
      "f11     0\n",
      "f12     0\n",
      "f29     0\n",
      "f33     0\n",
      "f34     0\n",
      "f35     0\n",
      "f36     0\n",
      "f37     0\n",
      "f38     0\n",
      "f39     0\n",
      "f40     0\n",
      "f106    0\n",
      "f114    0\n",
      "f118    0\n",
      "f152    0\n",
      "dtype: int64\n"
     ]
    }
   ],
   "source": [
    "# Распределение NaN по столбцам\n",
    "print(cat_data.isnull().sum())"
   ]
  },
  {
   "cell_type": "code",
   "execution_count": 96,
   "id": "d2aa18c3",
   "metadata": {},
   "outputs": [
    {
     "data": {
      "text/plain": [
       "0         True\n",
       "1         True\n",
       "2        False\n",
       "3        False\n",
       "4         True\n",
       "         ...  \n",
       "24371     True\n",
       "24372    False\n",
       "24373    False\n",
       "24374     True\n",
       "24375    False\n",
       "Name: f1, Length: 24376, dtype: bool"
      ]
     },
     "execution_count": 96,
     "metadata": {},
     "output_type": "execute_result"
    }
   ],
   "source": [
    "(pd.to_datetime(cat_data['f1']).apply(lambda x : x.year==2014))"
   ]
  },
  {
   "cell_type": "code",
   "execution_count": 124,
   "id": "c5b495d2",
   "metadata": {
    "scrolled": true
   },
   "outputs": [
    {
     "data": {
      "text/plain": [
       "Int64Index([    0,     1,     4,     5,     6,     9,    10,    12,    13,\n",
       "               14,\n",
       "            ...\n",
       "            24359, 24360, 24362, 24364, 24365, 24366, 24368, 24369, 24371,\n",
       "            24374],\n",
       "           dtype='int64', length=10955)"
      ]
     },
     "execution_count": 124,
     "metadata": {},
     "output_type": "execute_result"
    }
   ],
   "source": [
    "cat_data.loc[(pd.to_datetime(cat_data['f1']).apply(lambda x : x.year==2014)),['f1']].index"
   ]
  },
  {
   "cell_type": "code",
   "execution_count": 137,
   "id": "4a3bb270",
   "metadata": {
    "scrolled": true
   },
   "outputs": [
    {
     "data": {
      "text/plain": [
       "<AxesSubplot:>"
      ]
     },
     "execution_count": 137,
     "metadata": {},
     "output_type": "execute_result"
    },
    {
     "data": {
      "image/png": "[encoded data removed]",
      "text/plain": [
       "<Figure size 432x288 with 1 Axes>"
      ]
     },
     "metadata": {
      "needs_background": "light"
     },
     "output_type": "display_data"
    }
   ],
   "source": [
    "data.loc[cat_data.loc[(pd.to_datetime(cat_data['f1']).apply(lambda x : x.year==2014)),['f1']].index,'target'].hist(bins=100)"
   ]
  },
  {
   "cell_type": "code",
   "execution_count": 136,
   "id": "dd649b07",
   "metadata": {},
   "outputs": [
    {
     "data": {
      "text/plain": [
       "<AxesSubplot:>"
      ]
     },
     "execution_count": 136,
     "metadata": {},
     "output_type": "execute_result"
    },
    {
     "data": {
      "image/png": "[encoded data removed]",
      "text/plain": [
       "<Figure size 432x288 with 1 Axes>"
      ]
     },
     "metadata": {
      "needs_background": "light"
     },
     "output_type": "display_data"
    }
   ],
   "source": [
    "data.loc[cat_data.loc[(pd.to_datetime(cat_data['f1']).apply(lambda x : x.year==2011)),['f1']].index,'target'].hist(bins=100)"
   ]
  },
  {
   "cell_type": "code",
   "execution_count": 67,
   "id": "35b8c61d",
   "metadata": {
    "scrolled": true
   },
   "outputs": [
    {
     "name": "stdout",
     "output_type": "stream",
     "text": [
      "2014-12-09    120\n",
      "2014-12-16    117\n",
      "2014-06-30    109\n",
      "2014-12-18     99\n",
      "2014-09-30     77\n",
      "             ... \n",
      "2014-04-13      1\n",
      "2013-08-11      1\n",
      "2013-11-10      1\n",
      "2014-11-03      1\n",
      "2011-12-24      1\n",
      "Name: f1, Length: 1156, dtype: int64\n"
     ]
    }
   ],
   "source": [
    "print(cat_data['f1'].value_counts())"
   ]
  },
  {
   "cell_type": "code",
   "execution_count": 70,
   "id": "39909544",
   "metadata": {
    "scrolled": true
   },
   "outputs": [
    {
     "data": {
      "text/plain": [
       "'2011-08-20'"
      ]
     },
     "execution_count": 70,
     "metadata": {},
     "output_type": "execute_result"
    }
   ],
   "source": [
    "sorted(cat_data['f1'])[0]"
   ]
  },
  {
   "cell_type": "code",
   "execution_count": 71,
   "id": "cdc11fe9",
   "metadata": {},
   "outputs": [
    {
     "data": {
      "text/plain": [
       "'2015-06-30'"
      ]
     },
     "execution_count": 71,
     "metadata": {},
     "output_type": "execute_result"
    }
   ],
   "source": [
    "sorted(cat_data['f1'])[-1]"
   ]
  },
  {
   "cell_type": "code",
   "execution_count": 72,
   "id": "6d5ed4db",
   "metadata": {},
   "outputs": [
    {
     "ename": "TypeError",
     "evalue": "unsupported operand type(s) for -: 'str' and 'str'",
     "output_type": "error",
     "traceback": [
      "\u001b[1;31m---------------------------------------------------------------------------\u001b[0m",
      "\u001b[1;31mTypeError\u001b[0m                                 Traceback (most recent call last)",
      "\u001b[1;32m<ipython-input-72-4532a3a93ea8>\u001b[0m in \u001b[0;36m<module>\u001b[1;34m\u001b[0m\n\u001b[1;32m----> 1\u001b[1;33m \u001b[0msorted\u001b[0m\u001b[1;33m(\u001b[0m\u001b[0mcat_data\u001b[0m\u001b[1;33m[\u001b[0m\u001b[1;34m'f1'\u001b[0m\u001b[1;33m]\u001b[0m\u001b[1;33m)\u001b[0m\u001b[1;33m[\u001b[0m\u001b[1;33m-\u001b[0m\u001b[1;36m1\u001b[0m\u001b[1;33m]\u001b[0m\u001b[1;33m-\u001b[0m\u001b[0msorted\u001b[0m\u001b[1;33m(\u001b[0m\u001b[0mcat_data\u001b[0m\u001b[1;33m[\u001b[0m\u001b[1;34m'f1'\u001b[0m\u001b[1;33m]\u001b[0m\u001b[1;33m)\u001b[0m\u001b[1;33m[\u001b[0m\u001b[1;36m0\u001b[0m\u001b[1;33m]\u001b[0m\u001b[1;33m\u001b[0m\u001b[1;33m\u001b[0m\u001b[0m\n\u001b[0m",
      "\u001b[1;31mTypeError\u001b[0m: unsupported operand type(s) for -: 'str' and 'str'"
     ]
    }
   ],
   "source": [
    "sorted(cat_data['f1'])[-1]-sorted(cat_data['f1'])[0]"
   ]
  },
  {
   "cell_type": "code",
   "execution_count": 58,
   "id": "78981f54",
   "metadata": {},
   "outputs": [
    {
     "name": "stderr",
     "output_type": "stream",
     "text": [
      "C:\\Users\\ostap\\anaconda3\\lib\\site-packages\\seaborn\\_decorators.py:36: FutureWarning: Pass the following variables as keyword args: x, y. From version 0.12, the only valid positional argument will be `data`, and passing other arguments without an explicit keyword will result in an error or misinterpretation.\n",
      "  warnings.warn(\n"
     ]
    },
    {
     "data": {
      "image/png": "[encoded data removed]",
      "text/plain": [
       "<Figure size 432x288 with 1 Axes>"
      ]
     },
     "metadata": {
      "needs_background": "light"
     },
     "output_type": "display_data"
    }
   ],
   "source": []
  },
  {
   "cell_type": "code",
   "execution_count": 64,
   "id": "2639652b",
   "metadata": {},
   "outputs": [
    {
     "data": {
      "text/html": [
       "<div>\n",
       "<style scoped>\n",
       "    .dataframe tbody tr th:only-of-type {\n",
       "        vertical-align: middle;\n",
       "    }\n",
       "\n",
       "    .dataframe tbody tr th {\n",
       "        vertical-align: top;\n",
       "    }\n",
       "\n",
       "    .dataframe thead th {\n",
       "        text-align: right;\n",
       "    }\n",
       "</style>\n",
       "<table border=\"1\" class=\"dataframe\">\n",
       "  <thead>\n",
       "    <tr style=\"text-align: right;\">\n",
       "      <th></th>\n",
       "      <th>f1</th>\n",
       "      <th>f12</th>\n",
       "      <th>f152</th>\n",
       "      <th>f11_Investment</th>\n",
       "      <th>f11_OwnerOccupier</th>\n",
       "      <th>f29_no</th>\n",
       "      <th>f29_yes</th>\n",
       "      <th>f33_no</th>\n",
       "      <th>f33_yes</th>\n",
       "      <th>f34_no</th>\n",
       "      <th>...</th>\n",
       "      <th>f39_no</th>\n",
       "      <th>f39_yes</th>\n",
       "      <th>f40_no</th>\n",
       "      <th>f40_yes</th>\n",
       "      <th>f106_no</th>\n",
       "      <th>f106_yes</th>\n",
       "      <th>f114_no</th>\n",
       "      <th>f114_yes</th>\n",
       "      <th>f118_no</th>\n",
       "      <th>f118_yes</th>\n",
       "    </tr>\n",
       "  </thead>\n",
       "  <tbody>\n",
       "    <tr>\n",
       "      <th>0</th>\n",
       "      <td>2014-01-29</td>\n",
       "      <td>Juzhnoe Butovo</td>\n",
       "      <td>good</td>\n",
       "      <td>1</td>\n",
       "      <td>0</td>\n",
       "      <td>1</td>\n",
       "      <td>0</td>\n",
       "      <td>1</td>\n",
       "      <td>0</td>\n",
       "      <td>1</td>\n",
       "      <td>...</td>\n",
       "      <td>1</td>\n",
       "      <td>0</td>\n",
       "      <td>1</td>\n",
       "      <td>0</td>\n",
       "      <td>1</td>\n",
       "      <td>0</td>\n",
       "      <td>1</td>\n",
       "      <td>0</td>\n",
       "      <td>1</td>\n",
       "      <td>0</td>\n",
       "    </tr>\n",
       "    <tr>\n",
       "      <th>1</th>\n",
       "      <td>2014-04-07</td>\n",
       "      <td>Poselenie Filimonkovskoe</td>\n",
       "      <td>no data</td>\n",
       "      <td>0</td>\n",
       "      <td>1</td>\n",
       "      <td>1</td>\n",
       "      <td>0</td>\n",
       "      <td>1</td>\n",
       "      <td>0</td>\n",
       "      <td>1</td>\n",
       "      <td>...</td>\n",
       "      <td>1</td>\n",
       "      <td>0</td>\n",
       "      <td>1</td>\n",
       "      <td>0</td>\n",
       "      <td>1</td>\n",
       "      <td>0</td>\n",
       "      <td>1</td>\n",
       "      <td>0</td>\n",
       "      <td>1</td>\n",
       "      <td>0</td>\n",
       "    </tr>\n",
       "    <tr>\n",
       "      <th>2</th>\n",
       "      <td>2012-05-18</td>\n",
       "      <td>Lomonosovskoe</td>\n",
       "      <td>satisfactory</td>\n",
       "      <td>1</td>\n",
       "      <td>0</td>\n",
       "      <td>1</td>\n",
       "      <td>0</td>\n",
       "      <td>1</td>\n",
       "      <td>0</td>\n",
       "      <td>1</td>\n",
       "      <td>...</td>\n",
       "      <td>1</td>\n",
       "      <td>0</td>\n",
       "      <td>1</td>\n",
       "      <td>0</td>\n",
       "      <td>1</td>\n",
       "      <td>0</td>\n",
       "      <td>1</td>\n",
       "      <td>0</td>\n",
       "      <td>1</td>\n",
       "      <td>0</td>\n",
       "    </tr>\n",
       "    <tr>\n",
       "      <th>3</th>\n",
       "      <td>2013-02-08</td>\n",
       "      <td>Juzhnoe Tushino</td>\n",
       "      <td>poor</td>\n",
       "      <td>1</td>\n",
       "      <td>0</td>\n",
       "      <td>1</td>\n",
       "      <td>0</td>\n",
       "      <td>1</td>\n",
       "      <td>0</td>\n",
       "      <td>1</td>\n",
       "      <td>...</td>\n",
       "      <td>1</td>\n",
       "      <td>0</td>\n",
       "      <td>1</td>\n",
       "      <td>0</td>\n",
       "      <td>1</td>\n",
       "      <td>0</td>\n",
       "      <td>1</td>\n",
       "      <td>0</td>\n",
       "      <td>1</td>\n",
       "      <td>0</td>\n",
       "    </tr>\n",
       "    <tr>\n",
       "      <th>4</th>\n",
       "      <td>2014-01-10</td>\n",
       "      <td>Ochakovo-Matveevskoe</td>\n",
       "      <td>satisfactory</td>\n",
       "      <td>1</td>\n",
       "      <td>0</td>\n",
       "      <td>1</td>\n",
       "      <td>0</td>\n",
       "      <td>0</td>\n",
       "      <td>1</td>\n",
       "      <td>1</td>\n",
       "      <td>...</td>\n",
       "      <td>1</td>\n",
       "      <td>0</td>\n",
       "      <td>1</td>\n",
       "      <td>0</td>\n",
       "      <td>1</td>\n",
       "      <td>0</td>\n",
       "      <td>1</td>\n",
       "      <td>0</td>\n",
       "      <td>1</td>\n",
       "      <td>0</td>\n",
       "    </tr>\n",
       "  </tbody>\n",
       "</table>\n",
       "<p>5 rows × 29 columns</p>\n",
       "</div>"
      ],
      "text/plain": [
       "           f1                       f12          f152  f11_Investment  \\\n",
       "0  2014-01-29            Juzhnoe Butovo          good               1   \n",
       "1  2014-04-07  Poselenie Filimonkovskoe       no data               0   \n",
       "2  2012-05-18             Lomonosovskoe  satisfactory               1   \n",
       "3  2013-02-08           Juzhnoe Tushino          poor               1   \n",
       "4  2014-01-10      Ochakovo-Matveevskoe  satisfactory               1   \n",
       "\n",
       "   f11_OwnerOccupier  f29_no  f29_yes  f33_no  f33_yes  f34_no  ...  f39_no  \\\n",
       "0                  0       1        0       1        0       1  ...       1   \n",
       "1                  1       1        0       1        0       1  ...       1   \n",
       "2                  0       1        0       1        0       1  ...       1   \n",
       "3                  0       1        0       1        0       1  ...       1   \n",
       "4                  0       1        0       0        1       1  ...       1   \n",
       "\n",
       "   f39_yes  f40_no  f40_yes  f106_no  f106_yes  f114_no  f114_yes  f118_no  \\\n",
       "0        0       1        0        1         0        1         0        1   \n",
       "1        0       1        0        1         0        1         0        1   \n",
       "2        0       1        0        1         0        1         0        1   \n",
       "3        0       1        0        1         0        1         0        1   \n",
       "4        0       1        0        1         0        1         0        1   \n",
       "\n",
       "   f118_yes  \n",
       "0         0  \n",
       "1         0  \n",
       "2         0  \n",
       "3         0  \n",
       "4         0  \n",
       "\n",
       "[5 rows x 29 columns]"
      ]
     },
     "execution_count": 64,
     "metadata": {},
     "output_type": "execute_result"
    }
   ],
   "source": [
    "cat_data_onehot = cat_data.copy()\n",
    "cat_data_onehot = pd.get_dummies(cat_data_onehot, columns=['f11','f29','f33','f34','f35',\n",
    "                                                               'f36','f37','f38','f39','f40','f106','f114','f118'], \n",
    "                                 prefix = ['f11','f29','f33','f34','f35',\n",
    "                                                               'f36','f37','f38','f39','f40','f106','f114','f118'])\n",
    "cat_data_onehot.head()"
   ]
  },
  {
   "cell_type": "code",
   "execution_count": null,
   "id": "136b85b5",
   "metadata": {},
   "outputs": [],
   "source": []
  },
  {
   "cell_type": "code",
   "execution_count": null,
   "id": "55580b3e",
   "metadata": {},
   "outputs": [],
   "source": []
  },
  {
   "cell_type": "code",
   "execution_count": null,
   "id": "25e8d44b",
   "metadata": {},
   "outputs": [],
   "source": []
  },
  {
   "cell_type": "code",
   "execution_count": 312,
   "id": "31a8fa52",
   "metadata": {},
   "outputs": [],
   "source": [
    "tfm_datajjj =  clean_log_target(tfm_data,2)"
   ]
  },
  {
   "cell_type": "code",
   "execution_count": 323,
   "id": "6daab2b4",
   "metadata": {},
   "outputs": [
    {
     "data": {
      "text/plain": [
       "<AxesSubplot:>"
      ]
     },
     "execution_count": 323,
     "metadata": {},
     "output_type": "execute_result"
    },
    {
     "data": {
      "image/png": "[encoded data removed]",
      "text/plain": [
       "<Figure size 432x288 with 1 Axes>"
      ]
     },
     "metadata": {
      "needs_background": "light"
     },
     "output_type": "display_data"
    }
   ],
   "source": [
    "tfm_datajjj['f99'].hist(bins = 100)"
   ]
  },
  {
   "cell_type": "code",
   "execution_count": null,
   "id": "710fd2cc",
   "metadata": {},
   "outputs": [],
   "source": []
  },
  {
   "cell_type": "code",
   "execution_count": null,
   "id": "4b0bd774",
   "metadata": {},
   "outputs": [],
   "source": []
  },
  {
   "cell_type": "code",
   "execution_count": null,
   "id": "30c05726",
   "metadata": {},
   "outputs": [],
   "source": [
    "plt.plot(range(0,len(data)), sorted(data['target']))"
   ]
  },
  {
   "cell_type": "code",
   "execution_count": null,
   "id": "56ba52a7",
   "metadata": {
    "scrolled": false
   },
   "outputs": [],
   "source": [
    "data.hist('target',bins =500)"
   ]
  },
  {
   "cell_type": "code",
   "execution_count": null,
   "id": "30bb054b",
   "metadata": {
    "scrolled": true
   },
   "outputs": [],
   "source": [
    "np.log(data.target).hist(bins = 100)"
   ]
  },
  {
   "cell_type": "code",
   "execution_count": 311,
   "id": "efbf60e6",
   "metadata": {},
   "outputs": [],
   "source": [
    "def clean_log_target(data,count):\n",
    "    mean = np.log(data.target).mean()\n",
    "    std = np.log(data.target).std()\n",
    "    a = mean - count*std\n",
    "    b = mean + count*std\n",
    "    return data[(np.log(data.target) > a)&(np.log(data.target) < b)]\n",
    "\n",
    "    \n",
    "    \n",
    "    "
   ]
  },
  {
   "cell_type": "code",
   "execution_count": null,
   "id": "f019b9e8",
   "metadata": {},
   "outputs": [],
   "source": [
    "def clean_target(data,count):\n",
    "    mean = data.target.mean()\n",
    "    std = data.target.std()\n",
    "    a = mean - count*std\n",
    "    b = mean + count*std\n",
    "    return data[((data.target) > a)&((data.target) < b)]\n",
    "    \n",
    "    \n",
    "    "
   ]
  },
  {
   "cell_type": "code",
   "execution_count": null,
   "id": "a448364e",
   "metadata": {
    "scrolled": true
   },
   "outputs": [],
   "source": [
    "ndata_log = clean_log_target(data,2)\n",
    "ndata = clean_target(data,2)"
   ]
  },
  {
   "cell_type": "code",
   "execution_count": null,
   "id": "24013a25",
   "metadata": {},
   "outputs": [],
   "source": [
    "len(ndata_log)/len(data)"
   ]
  },
  {
   "cell_type": "code",
   "execution_count": null,
   "id": "ad9d969e",
   "metadata": {},
   "outputs": [],
   "source": [
    "len(ndata)/len(data)"
   ]
  },
  {
   "cell_type": "code",
   "execution_count": null,
   "id": "7139efef",
   "metadata": {
    "scrolled": true
   },
   "outputs": [],
   "source": [
    "plt.plot(range(0,len(ndata)), sorted(ndata['target']))"
   ]
  },
  {
   "cell_type": "code",
   "execution_count": null,
   "id": "f08c3e71",
   "metadata": {},
   "outputs": [],
   "source": [
    "ndata.hist('target',bins =100)\n"
   ]
  },
  {
   "cell_type": "code",
   "execution_count": null,
   "id": "3dab1346",
   "metadata": {},
   "outputs": [],
   "source": [
    "np.log(ndata.target).hist(bins = 100)"
   ]
  },
  {
   "cell_type": "code",
   "execution_count": null,
   "id": "de1f349a",
   "metadata": {
    "scrolled": true
   },
   "outputs": [],
   "source": [
    "plt.plot(range(0,len(ndata_log)), sorted(ndata_log['target']))"
   ]
  },
  {
   "cell_type": "code",
   "execution_count": null,
   "id": "0c58c57f",
   "metadata": {
    "scrolled": true
   },
   "outputs": [],
   "source": [
    "ndata_log.hist('target',bins =100)"
   ]
  },
  {
   "cell_type": "code",
   "execution_count": null,
   "id": "aa7acec4",
   "metadata": {
    "scrolled": true
   },
   "outputs": [],
   "source": [
    "np.log(ndata_log.target).hist(bins = 100)"
   ]
  },
  {
   "cell_type": "code",
   "execution_count": null,
   "id": "b9b1a0d7",
   "metadata": {},
   "outputs": [],
   "source": []
  },
  {
   "cell_type": "code",
   "execution_count": null,
   "id": "a075d778",
   "metadata": {},
   "outputs": [],
   "source": [
    "ndata_log['f152']"
   ]
  },
  {
   "cell_type": "code",
   "execution_count": null,
   "id": "99fd74fd",
   "metadata": {},
   "outputs": [],
   "source": [
    "ndata_log.groupby('f40')['id'].nunique()"
   ]
  },
  {
   "cell_type": "code",
   "execution_count": null,
   "id": "2a5c499f",
   "metadata": {
    "scrolled": false
   },
   "outputs": [],
   "source": [
    "ndata_log.replace('no', 0).replace('yes', 1).loc[:, ndata_log.dtypes == object ]"
   ]
  },
  {
   "cell_type": "code",
   "execution_count": null,
   "id": "817940df",
   "metadata": {},
   "outputs": [],
   "source": [
    "ndata_log['f12']"
   ]
  },
  {
   "cell_type": "code",
   "execution_count": null,
   "id": "addc7996",
   "metadata": {},
   "outputs": [],
   "source": [
    "ndata_log.loc[ndata_log['f12']]"
   ]
  },
  {
   "cell_type": "code",
   "execution_count": null,
   "id": "3793e9e6",
   "metadata": {},
   "outputs": [],
   "source": [
    "ndata_log.info('f1')"
   ]
  },
  {
   "cell_type": "code",
   "execution_count": null,
   "id": "aa655121",
   "metadata": {
    "scrolled": true
   },
   "outputs": [],
   "source": [
    "ndata_log.groupby('f1')['id'].nunique().sort_values()\n"
   ]
  },
  {
   "cell_type": "code",
   "execution_count": null,
   "id": "b497da88",
   "metadata": {},
   "outputs": [],
   "source": [
    "ndata_log.value_counts(ndata_log['f1']).plot.bar()"
   ]
  },
  {
   "cell_type": "code",
   "execution_count": null,
   "id": "e70cdb04",
   "metadata": {
    "scrolled": true
   },
   "outputs": [],
   "source": [
    "ndata_log.f1"
   ]
  },
  {
   "cell_type": "code",
   "execution_count": null,
   "id": "12fd4780",
   "metadata": {},
   "outputs": [],
   "source": [
    "ndata['f24']"
   ]
  },
  {
   "cell_type": "code",
   "execution_count": null,
   "id": "fb1aa821",
   "metadata": {},
   "outputs": [],
   "source": [
    "ndata.isnull().sum(axis=0)[ndata.isnull().sum(axis=0)>=1]"
   ]
  },
  {
   "cell_type": "code",
   "execution_count": null,
   "id": "3ff8ab06",
   "metadata": {
    "scrolled": true
   },
   "outputs": [],
   "source": [
    "ndata[ndata.isnull().sum(axis=1)>10] "
   ]
  },
  {
   "cell_type": "code",
   "execution_count": null,
   "id": "c0c86929",
   "metadata": {},
   "outputs": [],
   "source": [
    "ndata.isnull().sum(axis=1)"
   ]
  }
 ],
 "metadata": {
  "kernelspec": {
   "display_name": "Python 3",
   "language": "python",
   "name": "python3"
  },
  "language_info": {
   "codemirror_mode": {
    "name": "ipython",
    "version": 3
   },
   "file_extension": ".py",
   "mimetype": "text/x-python",
   "name": "python",
   "nbconvert_exporter": "python",
   "pygments_lexer": "ipython3",
   "version": "3.8.8"
  }
 },
 "nbformat": 4,
 "nbformat_minor": 5
}
