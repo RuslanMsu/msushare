{
 "cells": [
  {
   "cell_type": "code",
   "execution_count": 1,
   "id": "b9814410",
   "metadata": {},
   "outputs": [],
   "source": [
    "import numpy as np\n",
    "import matplotlib.pyplot as plt\n",
    "import pandas as pd\n",
    "import seaborn as sns"
   ]
  },
  {
   "cell_type": "code",
   "execution_count": 2,
   "id": "bae55395",
   "metadata": {},
   "outputs": [],
   "source": [
    "df_train = pd.read_csv('train.csv')\n",
    "df_train = df_train.drop(columns=['id']) \n",
    "\n",
    "df_test = pd.read_csv('test.csv')\n",
    "df_test = df_test.drop(columns=['id'])"
   ]
  },
  {
   "cell_type": "code",
   "execution_count": 3,
   "id": "641520f0",
   "metadata": {
    "scrolled": false
   },
   "outputs": [
    {
     "data": {
      "text/html": [
       "<div>\n",
       "<style scoped>\n",
       "    .dataframe tbody tr th:only-of-type {\n",
       "        vertical-align: middle;\n",
       "    }\n",
       "\n",
       "    .dataframe tbody tr th {\n",
       "        vertical-align: top;\n",
       "    }\n",
       "\n",
       "    .dataframe thead th {\n",
       "        text-align: right;\n",
       "    }\n",
       "</style>\n",
       "<table border=\"1\" class=\"dataframe\">\n",
       "  <thead>\n",
       "    <tr style=\"text-align: right;\">\n",
       "      <th></th>\n",
       "      <th>f1</th>\n",
       "      <th>f2</th>\n",
       "      <th>f3</th>\n",
       "      <th>f4</th>\n",
       "      <th>f5</th>\n",
       "      <th>f6</th>\n",
       "      <th>f7</th>\n",
       "      <th>f8</th>\n",
       "      <th>f9</th>\n",
       "      <th>f10</th>\n",
       "      <th>...</th>\n",
       "      <th>f282</th>\n",
       "      <th>f283</th>\n",
       "      <th>f284</th>\n",
       "      <th>f285</th>\n",
       "      <th>f286</th>\n",
       "      <th>f287</th>\n",
       "      <th>f288</th>\n",
       "      <th>f289</th>\n",
       "      <th>f290</th>\n",
       "      <th>target</th>\n",
       "    </tr>\n",
       "  </thead>\n",
       "  <tbody>\n",
       "    <tr>\n",
       "      <th>0</th>\n",
       "      <td>2014-01-29</td>\n",
       "      <td>69</td>\n",
       "      <td>38.0</td>\n",
       "      <td>7.0</td>\n",
       "      <td>10.0</td>\n",
       "      <td>1.0</td>\n",
       "      <td>2001.0</td>\n",
       "      <td>2.0</td>\n",
       "      <td>11.0</td>\n",
       "      <td>2.0</td>\n",
       "      <td>...</td>\n",
       "      <td>1</td>\n",
       "      <td>0</td>\n",
       "      <td>0</td>\n",
       "      <td>2</td>\n",
       "      <td>8</td>\n",
       "      <td>1</td>\n",
       "      <td>0</td>\n",
       "      <td>19</td>\n",
       "      <td>2</td>\n",
       "      <td>9500000</td>\n",
       "    </tr>\n",
       "    <tr>\n",
       "      <th>1</th>\n",
       "      <td>2014-04-07</td>\n",
       "      <td>55</td>\n",
       "      <td>NaN</td>\n",
       "      <td>2.0</td>\n",
       "      <td>1.0</td>\n",
       "      <td>4.0</td>\n",
       "      <td>NaN</td>\n",
       "      <td>2.0</td>\n",
       "      <td>10.0</td>\n",
       "      <td>NaN</td>\n",
       "      <td>...</td>\n",
       "      <td>0</td>\n",
       "      <td>0</td>\n",
       "      <td>0</td>\n",
       "      <td>0</td>\n",
       "      <td>4</td>\n",
       "      <td>0</td>\n",
       "      <td>0</td>\n",
       "      <td>2</td>\n",
       "      <td>0</td>\n",
       "      <td>3837949</td>\n",
       "    </tr>\n",
       "    <tr>\n",
       "      <th>2</th>\n",
       "      <td>2012-05-18</td>\n",
       "      <td>30</td>\n",
       "      <td>16.0</td>\n",
       "      <td>2.0</td>\n",
       "      <td>NaN</td>\n",
       "      <td>NaN</td>\n",
       "      <td>NaN</td>\n",
       "      <td>NaN</td>\n",
       "      <td>NaN</td>\n",
       "      <td>NaN</td>\n",
       "      <td>...</td>\n",
       "      <td>46</td>\n",
       "      <td>9</td>\n",
       "      <td>2</td>\n",
       "      <td>11</td>\n",
       "      <td>38</td>\n",
       "      <td>1</td>\n",
       "      <td>8</td>\n",
       "      <td>97</td>\n",
       "      <td>11</td>\n",
       "      <td>6250000</td>\n",
       "    </tr>\n",
       "    <tr>\n",
       "      <th>3</th>\n",
       "      <td>2013-02-08</td>\n",
       "      <td>44</td>\n",
       "      <td>43.0</td>\n",
       "      <td>1.0</td>\n",
       "      <td>NaN</td>\n",
       "      <td>NaN</td>\n",
       "      <td>NaN</td>\n",
       "      <td>NaN</td>\n",
       "      <td>NaN</td>\n",
       "      <td>NaN</td>\n",
       "      <td>...</td>\n",
       "      <td>17</td>\n",
       "      <td>4</td>\n",
       "      <td>1</td>\n",
       "      <td>12</td>\n",
       "      <td>12</td>\n",
       "      <td>0</td>\n",
       "      <td>1</td>\n",
       "      <td>55</td>\n",
       "      <td>7</td>\n",
       "      <td>2000000</td>\n",
       "    </tr>\n",
       "    <tr>\n",
       "      <th>4</th>\n",
       "      <td>2014-01-10</td>\n",
       "      <td>45</td>\n",
       "      <td>28.0</td>\n",
       "      <td>3.0</td>\n",
       "      <td>5.0</td>\n",
       "      <td>2.0</td>\n",
       "      <td>1960.0</td>\n",
       "      <td>2.0</td>\n",
       "      <td>5.0</td>\n",
       "      <td>NaN</td>\n",
       "      <td>...</td>\n",
       "      <td>20</td>\n",
       "      <td>2</td>\n",
       "      <td>0</td>\n",
       "      <td>4</td>\n",
       "      <td>16</td>\n",
       "      <td>1</td>\n",
       "      <td>4</td>\n",
       "      <td>47</td>\n",
       "      <td>5</td>\n",
       "      <td>6700000</td>\n",
       "    </tr>\n",
       "  </tbody>\n",
       "</table>\n",
       "<p>5 rows × 291 columns</p>\n",
       "</div>"
      ],
      "text/plain": [
       "           f1  f2    f3   f4    f5   f6      f7   f8    f9  f10  ... f282  \\\n",
       "0  2014-01-29  69  38.0  7.0  10.0  1.0  2001.0  2.0  11.0  2.0  ...    1   \n",
       "1  2014-04-07  55   NaN  2.0   1.0  4.0     NaN  2.0  10.0  NaN  ...    0   \n",
       "2  2012-05-18  30  16.0  2.0   NaN  NaN     NaN  NaN   NaN  NaN  ...   46   \n",
       "3  2013-02-08  44  43.0  1.0   NaN  NaN     NaN  NaN   NaN  NaN  ...   17   \n",
       "4  2014-01-10  45  28.0  3.0   5.0  2.0  1960.0  2.0   5.0  NaN  ...   20   \n",
       "\n",
       "  f283  f284  f285  f286  f287  f288  f289  f290   target  \n",
       "0    0     0     2     8     1     0    19     2  9500000  \n",
       "1    0     0     0     4     0     0     2     0  3837949  \n",
       "2    9     2    11    38     1     8    97    11  6250000  \n",
       "3    4     1    12    12     0     1    55     7  2000000  \n",
       "4    2     0     4    16     1     4    47     5  6700000  \n",
       "\n",
       "[5 rows x 291 columns]"
      ]
     },
     "execution_count": 3,
     "metadata": {},
     "output_type": "execute_result"
    }
   ],
   "source": [
    "df_train.head()"
   ]
  },
  {
   "cell_type": "code",
   "execution_count": 4,
   "id": "975c39d5",
   "metadata": {},
   "outputs": [],
   "source": [
    "y = df_train['target']\n",
    "df_train = df_train.drop(columns=['target']) "
   ]
  },
  {
   "cell_type": "code",
   "execution_count": 5,
   "id": "b3d81ae9",
   "metadata": {},
   "outputs": [
    {
     "name": "stdout",
     "output_type": "stream",
     "text": [
      "len_train 24376\n",
      "len_test 6095\n"
     ]
    }
   ],
   "source": [
    "len_train = len(df_train)\n",
    "len_test = len(df_test)\n",
    "print('len_train',len_train)\n",
    "print('len_test',len_test)"
   ]
  },
  {
   "cell_type": "code",
   "execution_count": 6,
   "id": "4cb55102",
   "metadata": {},
   "outputs": [],
   "source": [
    "all_data = pd.concat([df_train, df_test])"
   ]
  },
  {
   "cell_type": "code",
   "execution_count": 7,
   "id": "c717e178",
   "metadata": {
    "scrolled": true
   },
   "outputs": [
    {
     "name": "stdout",
     "output_type": "stream",
     "text": [
      "<class 'pandas.core.frame.DataFrame'>\n",
      "Int64Index: 30471 entries, 0 to 6094\n",
      "Columns: 290 entries, f1 to f290\n",
      "dtypes: float64(119), int64(155), object(16)\n",
      "memory usage: 67.7+ MB\n"
     ]
    }
   ],
   "source": [
    "all_data.info()"
   ]
  },
  {
   "cell_type": "markdown",
   "id": "b8788733",
   "metadata": {},
   "source": [
    "float64(119), \n",
    "\n",
    "int64(156), \n",
    "\n",
    "object(16)"
   ]
  },
  {
   "cell_type": "code",
   "execution_count": 8,
   "id": "8b34ed02",
   "metadata": {
    "scrolled": true
   },
   "outputs": [
    {
     "data": {
      "text/plain": [
       "Text(0.5, 1.0, 'Percent missing data by feature')"
      ]
     },
     "execution_count": 8,
     "metadata": {},
     "output_type": "execute_result"
    },
    {
     "data": {
      "image/png": "[encoded data removed]",
      "text/plain": [
       "<Figure size 1080x864 with 1 Axes>"
      ]
     },
     "metadata": {
      "needs_background": "light"
     },
     "output_type": "display_data"
    }
   ],
   "source": [
    "train_missing = df_test.isnull().sum(axis = 0)[all_data.isnull().sum(axis = 0) > 0]/len(all_data)\n",
    "missing_data = pd.DataFrame({'Missing Ratio' :train_missing})\n",
    "missing_data = missing_data['Missing Ratio'].sort_values(ascending=False)\n",
    "f, ax = plt.subplots(figsize=(15, 12))\n",
    "plt.xticks(rotation='90')\n",
    "sns.barplot(x=missing_data.index, y=missing_data)\n",
    "plt.xlabel('Features', fontsize=15)\n",
    "plt.ylabel('Percent of missing values', fontsize=15)\n",
    "plt.title('Percent missing data by feature', fontsize=15)"
   ]
  },
  {
   "cell_type": "markdown",
   "id": "5509485b",
   "metadata": {},
   "source": [
    "## Target"
   ]
  },
  {
   "cell_type": "code",
   "execution_count": 9,
   "id": "cd78aa18",
   "metadata": {},
   "outputs": [],
   "source": [
    "y = np.array(y)"
   ]
  },
  {
   "cell_type": "code",
   "execution_count": 10,
   "id": "ac62d8be",
   "metadata": {
    "scrolled": true
   },
   "outputs": [
    {
     "data": {
      "text/plain": [
       "<BarContainer object of 300 artists>"
      ]
     },
     "execution_count": 10,
     "metadata": {},
     "output_type": "execute_result"
    },
    {
     "data": {
      "image/png": "[encoded data removed]",
      "text/plain": [
       "<Figure size 432x288 with 1 Axes>"
      ]
     },
     "metadata": {
      "needs_background": "light"
     },
     "output_type": "display_data"
    }
   ],
   "source": [
    "plt.hist(y,bins = 300)[2]"
   ]
  },
  {
   "cell_type": "code",
   "execution_count": 11,
   "id": "90d069c0",
   "metadata": {
    "scrolled": true
   },
   "outputs": [
    {
     "data": {
      "text/plain": [
       "[<matplotlib.lines.Line2D at 0x1e3efc5f7c0>]"
      ]
     },
     "execution_count": 11,
     "metadata": {},
     "output_type": "execute_result"
    },
    {
     "data": {
      "image/png": "[encoded data removed]",
      "text/plain": [
       "<Figure size 432x288 with 1 Axes>"
      ]
     },
     "metadata": {
      "needs_background": "light"
     },
     "output_type": "display_data"
    }
   ],
   "source": [
    "plt.plot(sorted(y))"
   ]
  },
  {
   "cell_type": "code",
   "execution_count": 12,
   "id": "79a4606d",
   "metadata": {
    "scrolled": true
   },
   "outputs": [
    {
     "data": {
      "text/plain": [
       "<BarContainer object of 300 artists>"
      ]
     },
     "execution_count": 12,
     "metadata": {},
     "output_type": "execute_result"
    },
    {
     "data": {
      "image/png": "[encoded data removed]",
      "text/plain": [
       "<Figure size 432x288 with 1 Axes>"
      ]
     },
     "metadata": {
      "needs_background": "light"
     },
     "output_type": "display_data"
    }
   ],
   "source": [
    "plt.hist(np.log(y),bins = 300)[2]"
   ]
  },
  {
   "cell_type": "markdown",
   "id": "f1cc533d",
   "metadata": {},
   "source": [
    "## Object"
   ]
  },
  {
   "cell_type": "code",
   "execution_count": 18,
   "id": "037f68a4",
   "metadata": {},
   "outputs": [],
   "source": [
    "index_object = all_data.dtypes[all_data.dtypes == object].index"
   ]
  },
  {
   "cell_type": "code",
   "execution_count": 19,
   "id": "fac16191",
   "metadata": {
    "scrolled": true
   },
   "outputs": [
    {
     "data": {
      "text/html": [
       "<div>\n",
       "<style scoped>\n",
       "    .dataframe tbody tr th:only-of-type {\n",
       "        vertical-align: middle;\n",
       "    }\n",
       "\n",
       "    .dataframe tbody tr th {\n",
       "        vertical-align: top;\n",
       "    }\n",
       "\n",
       "    .dataframe thead th {\n",
       "        text-align: right;\n",
       "    }\n",
       "</style>\n",
       "<table border=\"1\" class=\"dataframe\">\n",
       "  <thead>\n",
       "    <tr style=\"text-align: right;\">\n",
       "      <th></th>\n",
       "      <th>f1</th>\n",
       "      <th>f11</th>\n",
       "      <th>f12</th>\n",
       "      <th>f29</th>\n",
       "      <th>f33</th>\n",
       "      <th>f34</th>\n",
       "      <th>f35</th>\n",
       "      <th>f36</th>\n",
       "      <th>f37</th>\n",
       "      <th>f38</th>\n",
       "      <th>f39</th>\n",
       "      <th>f40</th>\n",
       "      <th>f106</th>\n",
       "      <th>f114</th>\n",
       "      <th>f118</th>\n",
       "      <th>f152</th>\n",
       "    </tr>\n",
       "  </thead>\n",
       "  <tbody>\n",
       "    <tr>\n",
       "      <th>0</th>\n",
       "      <td>2014-01-29</td>\n",
       "      <td>Investment</td>\n",
       "      <td>Juzhnoe Butovo</td>\n",
       "      <td>no</td>\n",
       "      <td>no</td>\n",
       "      <td>no</td>\n",
       "      <td>no</td>\n",
       "      <td>no</td>\n",
       "      <td>no</td>\n",
       "      <td>no</td>\n",
       "      <td>no</td>\n",
       "      <td>no</td>\n",
       "      <td>no</td>\n",
       "      <td>no</td>\n",
       "      <td>no</td>\n",
       "      <td>good</td>\n",
       "    </tr>\n",
       "    <tr>\n",
       "      <th>1</th>\n",
       "      <td>2014-04-07</td>\n",
       "      <td>OwnerOccupier</td>\n",
       "      <td>Poselenie Filimonkovskoe</td>\n",
       "      <td>no</td>\n",
       "      <td>no</td>\n",
       "      <td>no</td>\n",
       "      <td>no</td>\n",
       "      <td>no</td>\n",
       "      <td>no</td>\n",
       "      <td>no</td>\n",
       "      <td>no</td>\n",
       "      <td>no</td>\n",
       "      <td>no</td>\n",
       "      <td>no</td>\n",
       "      <td>no</td>\n",
       "      <td>no data</td>\n",
       "    </tr>\n",
       "    <tr>\n",
       "      <th>2</th>\n",
       "      <td>2012-05-18</td>\n",
       "      <td>Investment</td>\n",
       "      <td>Lomonosovskoe</td>\n",
       "      <td>no</td>\n",
       "      <td>no</td>\n",
       "      <td>no</td>\n",
       "      <td>no</td>\n",
       "      <td>no</td>\n",
       "      <td>no</td>\n",
       "      <td>no</td>\n",
       "      <td>no</td>\n",
       "      <td>no</td>\n",
       "      <td>no</td>\n",
       "      <td>no</td>\n",
       "      <td>no</td>\n",
       "      <td>satisfactory</td>\n",
       "    </tr>\n",
       "    <tr>\n",
       "      <th>3</th>\n",
       "      <td>2013-02-08</td>\n",
       "      <td>Investment</td>\n",
       "      <td>Juzhnoe Tushino</td>\n",
       "      <td>no</td>\n",
       "      <td>no</td>\n",
       "      <td>no</td>\n",
       "      <td>no</td>\n",
       "      <td>no</td>\n",
       "      <td>no</td>\n",
       "      <td>no</td>\n",
       "      <td>no</td>\n",
       "      <td>no</td>\n",
       "      <td>no</td>\n",
       "      <td>no</td>\n",
       "      <td>no</td>\n",
       "      <td>poor</td>\n",
       "    </tr>\n",
       "    <tr>\n",
       "      <th>4</th>\n",
       "      <td>2014-01-10</td>\n",
       "      <td>Investment</td>\n",
       "      <td>Ochakovo-Matveevskoe</td>\n",
       "      <td>no</td>\n",
       "      <td>yes</td>\n",
       "      <td>no</td>\n",
       "      <td>no</td>\n",
       "      <td>no</td>\n",
       "      <td>no</td>\n",
       "      <td>no</td>\n",
       "      <td>no</td>\n",
       "      <td>no</td>\n",
       "      <td>no</td>\n",
       "      <td>no</td>\n",
       "      <td>no</td>\n",
       "      <td>satisfactory</td>\n",
       "    </tr>\n",
       "  </tbody>\n",
       "</table>\n",
       "</div>"
      ],
      "text/plain": [
       "           f1            f11                       f12 f29  f33 f34 f35 f36  \\\n",
       "0  2014-01-29     Investment            Juzhnoe Butovo  no   no  no  no  no   \n",
       "1  2014-04-07  OwnerOccupier  Poselenie Filimonkovskoe  no   no  no  no  no   \n",
       "2  2012-05-18     Investment             Lomonosovskoe  no   no  no  no  no   \n",
       "3  2013-02-08     Investment           Juzhnoe Tushino  no   no  no  no  no   \n",
       "4  2014-01-10     Investment      Ochakovo-Matveevskoe  no  yes  no  no  no   \n",
       "\n",
       "  f37 f38 f39 f40 f106 f114 f118          f152  \n",
       "0  no  no  no  no   no   no   no          good  \n",
       "1  no  no  no  no   no   no   no       no data  \n",
       "2  no  no  no  no   no   no   no  satisfactory  \n",
       "3  no  no  no  no   no   no   no          poor  \n",
       "4  no  no  no  no   no   no   no  satisfactory  "
      ]
     },
     "execution_count": 19,
     "metadata": {},
     "output_type": "execute_result"
    }
   ],
   "source": [
    "all_data[index_object].head()"
   ]
  },
  {
   "cell_type": "code",
   "execution_count": 20,
   "id": "db691e82",
   "metadata": {
    "scrolled": true
   },
   "outputs": [
    {
     "data": {
      "text/plain": [
       "f1      0\n",
       "f11     0\n",
       "f12     0\n",
       "f29     0\n",
       "f33     0\n",
       "f34     0\n",
       "f35     0\n",
       "f36     0\n",
       "f37     0\n",
       "f38     0\n",
       "f39     0\n",
       "f40     0\n",
       "f106    0\n",
       "f114    0\n",
       "f118    0\n",
       "f152    0\n",
       "dtype: int64"
      ]
     },
     "execution_count": 20,
     "metadata": {},
     "output_type": "execute_result"
    }
   ],
   "source": [
    "all_data[index_object].isnull().sum()"
   ]
  },
  {
   "cell_type": "markdown",
   "id": "262cfcb7",
   "metadata": {},
   "source": [
    "## Районы"
   ]
  },
  {
   "cell_type": "code",
   "execution_count": 41,
   "id": "78005629",
   "metadata": {},
   "outputs": [],
   "source": [
    "popular = list(all_data.f12.value_counts()[0:10].keys())"
   ]
  },
  {
   "cell_type": "code",
   "execution_count": 42,
   "id": "1d4a8e17",
   "metadata": {},
   "outputs": [
    {
     "data": {
      "text/plain": [
       "['Poselenie Sosenskoe',\n",
       " 'Nekrasovka',\n",
       " 'Poselenie Vnukovskoe',\n",
       " 'Poselenie Moskovskij',\n",
       " 'Poselenie Voskresenskoe',\n",
       " 'Mitino',\n",
       " 'Tverskoe',\n",
       " 'Krjukovo',\n",
       " \"Mar'ino\",\n",
       " 'Poselenie Filimonkovskoe']"
      ]
     },
     "execution_count": 42,
     "metadata": {},
     "output_type": "execute_result"
    }
   ],
   "source": [
    "popular"
   ]
  },
  {
   "cell_type": "code",
   "execution_count": 22,
   "id": "fcd536ce",
   "metadata": {
    "scrolled": false
   },
   "outputs": [
    {
     "data": {
      "text/plain": [
       "[<matplotlib.lines.Line2D at 0x1e3e056a100>]"
      ]
     },
     "execution_count": 22,
     "metadata": {},
     "output_type": "execute_result"
    },
    {
     "data": {
      "image/png": "[encoded data removed]",
      "text/plain": [
       "<Figure size 432x288 with 1 Axes>"
      ]
     },
     "metadata": {
      "needs_background": "light"
     },
     "output_type": "display_data"
    }
   ],
   "source": [
    "plt.plot(all_data.f12.value_counts())"
   ]
  },
  {
   "cell_type": "code",
   "execution_count": null,
   "id": "c44f20d0",
   "metadata": {},
   "outputs": [],
   "source": []
  },
  {
   "cell_type": "code",
   "execution_count": null,
   "id": "72273ca2",
   "metadata": {},
   "outputs": [],
   "source": []
  },
  {
   "cell_type": "code",
   "execution_count": 26,
   "id": "d97842bc",
   "metadata": {},
   "outputs": [],
   "source": [
    "def transform(data):\n",
    "    tfm_data = data.copy()\n",
    "    tfm_data['f1'] = pd.to_datetime(tfm_data['f1'])\n",
    "    tfm_data['f1_year'] = tfm_data['f1'].dt.year\n",
    "    tfm_data['f1_month'] = tfm_data['f1'].dt.month\n",
    "    tfm_data['f1_day'] = tfm_data['f1'].dt.day\n",
    "    tfm_data = tfm_data.drop(columns=['f1'])\n",
    "    \n",
    "    tfm_data = pd.get_dummies(tfm_data, columns=['f11','f29','f33','f34','f35',\n",
    "                                                               'f36','f37','f38','f39','f40','f106','f114','f118','f152'], \n",
    "                                 prefix = ['f11','f29','f33','f34','f35',\n",
    "                                                               'f36','f37','f38','f39','f40','f106','f114','f118','f152'])\n",
    "    tfm_data[\"first\"] = (tfm_data['f12'].apply(lambda x : \n",
    "                               x in popular)).apply(int)\n",
    "    tfm_data[\"second\"] = tfm_data['f12'].apply(lambda x : \n",
    "                               x not in popular).apply(int)\n",
    "    tfm_data = tfm_data.drop(columns=['f12'])\n",
    "    \n",
    "    #rep_map = {'f152': {'excellent': 5, 'good': 4, 'satisfactory': 3, 'poor': 2,'no data': 1}}\n",
    "    #tfm_data = tfm_data.replace(rep_map)\n",
    "    return tfm_data"
   ]
  },
  {
   "cell_type": "code",
   "execution_count": 27,
   "id": "78aa80f8",
   "metadata": {},
   "outputs": [],
   "source": [
    "def missing(data):\n",
    "    tfm_data = data.copy()\n",
    "    # много пропусков\n",
    "    #tfm_data = tfm_data.drop(columns=['f7'])\n",
    "    #tfm_data = tfm_data.drop(columns=['f10'])\n",
    "    #tfm_data = tfm_data.drop(columns=['f24'])\n",
    "    #tfm_data = tfm_data.drop(columns=['f160'])\n",
    "    #tfm_data = tfm_data.drop(columns=['f161'])\n",
    "    #tfm_data = tfm_data.drop(columns=['f162'])\n",
    "    \n",
    "    #удалить f6      7650 \n",
    "    #        f8      7650\n",
    "    #tfm_data = tfm_data.drop(columns=['f6'])\n",
    "    #tfm_data = tfm_data.drop(columns=['f8'])\n",
    "    \n",
    "    tfm_data['f77'] = tfm_data['f77'].fillna(0)\n",
    "    \n",
    "    tfm_data = tfm_data.fillna(tfm_data.median())\n",
    "    #print(tfm_data.median())\n",
    "    \n",
    "    \n",
    "    \n",
    "    return tfm_data  "
   ]
  },
  {
   "cell_type": "code",
   "execution_count": 28,
   "id": "9519b5fc",
   "metadata": {},
   "outputs": [],
   "source": [
    "train_data = df_train.copy()\n",
    "test_data = df_test.copy()"
   ]
  },
  {
   "cell_type": "code",
   "execution_count": 29,
   "id": "7ed1a21b",
   "metadata": {},
   "outputs": [],
   "source": [
    "train_data_tf = transform(train_data)\n",
    "test_data_tf = transform(test_data)"
   ]
  },
  {
   "cell_type": "code",
   "execution_count": 30,
   "id": "9fe8307a",
   "metadata": {},
   "outputs": [],
   "source": [
    "ftest_data = missing(test_data_tf)\n",
    "ftrain_data = missing(train_data_tf)\n"
   ]
  },
  {
   "cell_type": "code",
   "execution_count": 31,
   "id": "ed0f9f58",
   "metadata": {},
   "outputs": [],
   "source": [
    "from sklearn.metrics import mean_squared_log_error\n",
    "from sklearn.model_selection import cross_val_score\n",
    "from sklearn.ensemble import AdaBoostRegressor\n",
    "from catboost import CatBoostRegressor\n",
    "from sklearn.ensemble import RandomForestRegressor\n",
    "\n"
   ]
  },
  {
   "cell_type": "markdown",
   "id": "db4b2179",
   "metadata": {},
   "source": [
    "### Random Forest"
   ]
  },
  {
   "cell_type": "code",
   "execution_count": 33,
   "id": "f0698a0e",
   "metadata": {
    "scrolled": true
   },
   "outputs": [
    {
     "name": "stdout",
     "output_type": "stream",
     "text": [
      "[-0.1978618  -0.21737032 -0.21877169 -0.20392999 -0.21723559 -0.22325771\n",
      " -0.22536116 -0.22053712 -0.23247237 -0.23207449]\n",
      "SCORE: -0.22 (0.01)\n"
     ]
    }
   ],
   "source": [
    "RandomForest = RandomForestRegressor(random_state=0,max_features = 100 )\n",
    "n_scores = cross_val_score(RandomForest, ftrain_data, y, cv=10, n_jobs=-1,scoring='neg_mean_squared_log_error')\n",
    "print(n_scores)\n",
    "print('SCORE: %.2f (%.2f)' % (np.mean(n_scores), np.std(n_scores)))"
   ]
  },
  {
   "cell_type": "markdown",
   "id": "e50fec6d",
   "metadata": {},
   "source": [
    "### AdaBoostRegressor\n"
   ]
  },
  {
   "cell_type": "markdown",
   "id": "e1692e45",
   "metadata": {},
   "source": [
    "### CatBoostRegressor"
   ]
  },
  {
   "cell_type": "code",
   "execution_count": 39,
   "id": "629fcc5c",
   "metadata": {},
   "outputs": [
    {
     "name": "stdout",
     "output_type": "stream",
     "text": [
      "[-0.2073117  -0.21463507         nan]\n",
      "SCORE: nan (nan)\n"
     ]
    }
   ],
   "source": [
    "CatBoost = CatBoostRegressor(random_state=0)\n",
    "n_scores = cross_val_score(CatBoost, ftrain_data, y, cv=3, n_jobs=-1,scoring='neg_mean_squared_log_error')\n",
    "print(n_scores)\n",
    "print('SCORE: %.2f (%.2f)' % (np.mean(n_scores), np.std(n_scores)))"
   ]
  },
  {
   "cell_type": "code",
   "execution_count": null,
   "id": "98624314",
   "metadata": {},
   "outputs": [],
   "source": [
    "CatBoost = CatBoostRegressor(random_state=0)\n",
    "CatBoost.fit(ftrain_data,y)\n",
    "res = CatBoost.predict(ftest_data)"
   ]
  },
  {
   "cell_type": "code",
   "execution_count": null,
   "id": "86db4547",
   "metadata": {},
   "outputs": [],
   "source": []
  },
  {
   "cell_type": "code",
   "execution_count": null,
   "id": "4a196a11",
   "metadata": {},
   "outputs": [],
   "source": []
  },
  {
   "cell_type": "code",
   "execution_count": null,
   "id": "f350c23c",
   "metadata": {},
   "outputs": [],
   "source": [
    "res.shape"
   ]
  },
  {
   "cell_type": "code",
   "execution_count": null,
   "id": "ca7f8931",
   "metadata": {},
   "outputs": [],
   "source": [
    "col = np.array(range(1,len(res)+1))\n",
    "result = np.c_[col,res]\n",
    "print(result)\n",
    "with open(\"sample_sabmission.csv\", \"wb\") as f:\n",
    "    f.write(b'id,prediction\\n')\n",
    "    np.savetxt(f, result, fmt='%i', delimiter=\",\")"
   ]
  },
  {
   "cell_type": "code",
   "execution_count": null,
   "id": "e45dbf78",
   "metadata": {},
   "outputs": [],
   "source": []
  },
  {
   "cell_type": "code",
   "execution_count": 44,
   "id": "f00ad8a8",
   "metadata": {},
   "outputs": [
    {
     "ename": "IndentationError",
     "evalue": "expected an indented block (<ipython-input-44-0a0d70ede589>, line 3)",
     "output_type": "error",
     "traceback": [
      "\u001b[1;36m  File \u001b[1;32m\"<ipython-input-44-0a0d70ede589>\"\u001b[1;36m, line \u001b[1;32m3\u001b[0m\n\u001b[1;33m    twoSum([1,2],4)\u001b[0m\n\u001b[1;37m                   ^\u001b[0m\n\u001b[1;31mIndentationError\u001b[0m\u001b[1;31m:\u001b[0m expected an indented block\n"
     ]
    }
   ],
   "source": [
    "class Solution:\n",
    "    def twoSum(self, nums: List[int], target: int) -> List[int]:\n",
    "        \n",
    "__main__:\n",
    "twoSum([1,2],4)"
   ]
  }
 ],
 "metadata": {
  "kernelspec": {
   "display_name": "Python 3",
   "language": "python",
   "name": "python3"
  },
  "language_info": {
   "codemirror_mode": {
    "name": "ipython",
    "version": 3
   },
   "file_extension": ".py",
   "mimetype": "text/x-python",
   "name": "python",
   "nbconvert_exporter": "python",
   "pygments_lexer": "ipython3",
   "version": "3.8.8"
  }
 },
 "nbformat": 4,
 "nbformat_minor": 5
}
