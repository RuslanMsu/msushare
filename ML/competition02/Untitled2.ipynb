{
 "cells": [
  {
   "cell_type": "code",
   "execution_count": 1,
   "id": "8c35a1f7",
   "metadata": {},
   "outputs": [],
   "source": [
    "import numpy as np\n",
    "import matplotlib.pyplot as plt\n",
    "from sklearn.preprocessing import StandardScaler\n",
    "from sklearn.model_selection import train_test_split\n",
    "from sklearn.linear_model import LogisticRegression\n",
    "from sklearn.model_selection import KFold\n",
    "from sklearn.neighbors import KNeighborsClassifier\n",
    "from sklearn.cluster import KMeans\n",
    "import pandas as pd\n",
    "from sklearn.ensemble import RandomForestRegressor\n",
    "from sklearn.metrics import mean_squared_log_error\n",
    "import seaborn as sns\n",
    "\n"
   ]
  },
  {
   "cell_type": "code",
   "execution_count": 2,
   "id": "bf2c36c5",
   "metadata": {},
   "outputs": [],
   "source": [
    "df_train = pd.read_csv('train.csv')\n",
    "df_train = df_train.drop(columns=['id'])\n",
    "\n",
    "df_test = pd.read_csv('test.csv')\n",
    "df_test = df_test.drop(columns=['id'])"
   ]
  },
  {
   "cell_type": "code",
   "execution_count": 3,
   "id": "393e3941",
   "metadata": {
    "scrolled": true
   },
   "outputs": [
    {
     "data": {
      "text/html": [
       "<div>\n",
       "<style scoped>\n",
       "    .dataframe tbody tr th:only-of-type {\n",
       "        vertical-align: middle;\n",
       "    }\n",
       "\n",
       "    .dataframe tbody tr th {\n",
       "        vertical-align: top;\n",
       "    }\n",
       "\n",
       "    .dataframe thead th {\n",
       "        text-align: right;\n",
       "    }\n",
       "</style>\n",
       "<table border=\"1\" class=\"dataframe\">\n",
       "  <thead>\n",
       "    <tr style=\"text-align: right;\">\n",
       "      <th></th>\n",
       "      <th>f1</th>\n",
       "      <th>f2</th>\n",
       "      <th>f3</th>\n",
       "      <th>f4</th>\n",
       "      <th>f5</th>\n",
       "      <th>f6</th>\n",
       "      <th>f7</th>\n",
       "      <th>f8</th>\n",
       "      <th>f9</th>\n",
       "      <th>f10</th>\n",
       "      <th>...</th>\n",
       "      <th>f282</th>\n",
       "      <th>f283</th>\n",
       "      <th>f284</th>\n",
       "      <th>f285</th>\n",
       "      <th>f286</th>\n",
       "      <th>f287</th>\n",
       "      <th>f288</th>\n",
       "      <th>f289</th>\n",
       "      <th>f290</th>\n",
       "      <th>target</th>\n",
       "    </tr>\n",
       "  </thead>\n",
       "  <tbody>\n",
       "    <tr>\n",
       "      <th>0</th>\n",
       "      <td>2014-01-29</td>\n",
       "      <td>69</td>\n",
       "      <td>38.0</td>\n",
       "      <td>7.0</td>\n",
       "      <td>10.0</td>\n",
       "      <td>1.0</td>\n",
       "      <td>2001.0</td>\n",
       "      <td>2.0</td>\n",
       "      <td>11.0</td>\n",
       "      <td>2.0</td>\n",
       "      <td>...</td>\n",
       "      <td>1</td>\n",
       "      <td>0</td>\n",
       "      <td>0</td>\n",
       "      <td>2</td>\n",
       "      <td>8</td>\n",
       "      <td>1</td>\n",
       "      <td>0</td>\n",
       "      <td>19</td>\n",
       "      <td>2</td>\n",
       "      <td>9500000</td>\n",
       "    </tr>\n",
       "    <tr>\n",
       "      <th>1</th>\n",
       "      <td>2014-04-07</td>\n",
       "      <td>55</td>\n",
       "      <td>NaN</td>\n",
       "      <td>2.0</td>\n",
       "      <td>1.0</td>\n",
       "      <td>4.0</td>\n",
       "      <td>NaN</td>\n",
       "      <td>2.0</td>\n",
       "      <td>10.0</td>\n",
       "      <td>NaN</td>\n",
       "      <td>...</td>\n",
       "      <td>0</td>\n",
       "      <td>0</td>\n",
       "      <td>0</td>\n",
       "      <td>0</td>\n",
       "      <td>4</td>\n",
       "      <td>0</td>\n",
       "      <td>0</td>\n",
       "      <td>2</td>\n",
       "      <td>0</td>\n",
       "      <td>3837949</td>\n",
       "    </tr>\n",
       "    <tr>\n",
       "      <th>2</th>\n",
       "      <td>2012-05-18</td>\n",
       "      <td>30</td>\n",
       "      <td>16.0</td>\n",
       "      <td>2.0</td>\n",
       "      <td>NaN</td>\n",
       "      <td>NaN</td>\n",
       "      <td>NaN</td>\n",
       "      <td>NaN</td>\n",
       "      <td>NaN</td>\n",
       "      <td>NaN</td>\n",
       "      <td>...</td>\n",
       "      <td>46</td>\n",
       "      <td>9</td>\n",
       "      <td>2</td>\n",
       "      <td>11</td>\n",
       "      <td>38</td>\n",
       "      <td>1</td>\n",
       "      <td>8</td>\n",
       "      <td>97</td>\n",
       "      <td>11</td>\n",
       "      <td>6250000</td>\n",
       "    </tr>\n",
       "    <tr>\n",
       "      <th>3</th>\n",
       "      <td>2013-02-08</td>\n",
       "      <td>44</td>\n",
       "      <td>43.0</td>\n",
       "      <td>1.0</td>\n",
       "      <td>NaN</td>\n",
       "      <td>NaN</td>\n",
       "      <td>NaN</td>\n",
       "      <td>NaN</td>\n",
       "      <td>NaN</td>\n",
       "      <td>NaN</td>\n",
       "      <td>...</td>\n",
       "      <td>17</td>\n",
       "      <td>4</td>\n",
       "      <td>1</td>\n",
       "      <td>12</td>\n",
       "      <td>12</td>\n",
       "      <td>0</td>\n",
       "      <td>1</td>\n",
       "      <td>55</td>\n",
       "      <td>7</td>\n",
       "      <td>2000000</td>\n",
       "    </tr>\n",
       "    <tr>\n",
       "      <th>4</th>\n",
       "      <td>2014-01-10</td>\n",
       "      <td>45</td>\n",
       "      <td>28.0</td>\n",
       "      <td>3.0</td>\n",
       "      <td>5.0</td>\n",
       "      <td>2.0</td>\n",
       "      <td>1960.0</td>\n",
       "      <td>2.0</td>\n",
       "      <td>5.0</td>\n",
       "      <td>NaN</td>\n",
       "      <td>...</td>\n",
       "      <td>20</td>\n",
       "      <td>2</td>\n",
       "      <td>0</td>\n",
       "      <td>4</td>\n",
       "      <td>16</td>\n",
       "      <td>1</td>\n",
       "      <td>4</td>\n",
       "      <td>47</td>\n",
       "      <td>5</td>\n",
       "      <td>6700000</td>\n",
       "    </tr>\n",
       "  </tbody>\n",
       "</table>\n",
       "<p>5 rows × 291 columns</p>\n",
       "</div>"
      ],
      "text/plain": [
       "           f1  f2    f3   f4    f5   f6      f7   f8    f9  f10  ... f282  \\\n",
       "0  2014-01-29  69  38.0  7.0  10.0  1.0  2001.0  2.0  11.0  2.0  ...    1   \n",
       "1  2014-04-07  55   NaN  2.0   1.0  4.0     NaN  2.0  10.0  NaN  ...    0   \n",
       "2  2012-05-18  30  16.0  2.0   NaN  NaN     NaN  NaN   NaN  NaN  ...   46   \n",
       "3  2013-02-08  44  43.0  1.0   NaN  NaN     NaN  NaN   NaN  NaN  ...   17   \n",
       "4  2014-01-10  45  28.0  3.0   5.0  2.0  1960.0  2.0   5.0  NaN  ...   20   \n",
       "\n",
       "  f283  f284  f285  f286  f287  f288  f289  f290   target  \n",
       "0    0     0     2     8     1     0    19     2  9500000  \n",
       "1    0     0     0     4     0     0     2     0  3837949  \n",
       "2    9     2    11    38     1     8    97    11  6250000  \n",
       "3    4     1    12    12     0     1    55     7  2000000  \n",
       "4    2     0     4    16     1     4    47     5  6700000  \n",
       "\n",
       "[5 rows x 291 columns]"
      ]
     },
     "execution_count": 3,
     "metadata": {},
     "output_type": "execute_result"
    }
   ],
   "source": [
    "df_train.head()"
   ]
  },
  {
   "cell_type": "markdown",
   "id": "4c8801c7",
   "metadata": {},
   "source": [
    "## Target"
   ]
  },
  {
   "cell_type": "markdown",
   "id": "c283177f",
   "metadata": {},
   "source": [
    "видим скачок таргета для небольшого числа объектов"
   ]
  },
  {
   "cell_type": "code",
   "execution_count": 5,
   "id": "f4aedff1",
   "metadata": {
    "scrolled": false
   },
   "outputs": [
    {
     "data": {
      "text/plain": [
       "[<matplotlib.lines.Line2D at 0x1e82fdc10a0>]"
      ]
     },
     "execution_count": 5,
     "metadata": {},
     "output_type": "execute_result"
    },
    {
     "data": {
      "image/png": "[encoded data removed]",
      "text/plain": [
       "<Figure size 432x288 with 1 Axes>"
      ]
     },
     "metadata": {
      "needs_background": "light"
     },
     "output_type": "display_data"
    }
   ],
   "source": [
    "plt.plot(sorted(df_train['target']))"
   ]
  },
  {
   "cell_type": "code",
   "execution_count": 6,
   "id": "2ce4da93",
   "metadata": {},
   "outputs": [
    {
     "data": {
      "text/plain": [
       "<AxesSubplot:>"
      ]
     },
     "execution_count": 6,
     "metadata": {},
     "output_type": "execute_result"
    },
    {
     "data": {
      "image/png": "[encoded data removed]",
      "text/plain": [
       "<Figure size 432x288 with 1 Axes>"
      ]
     },
     "metadata": {
      "needs_background": "light"
     },
     "output_type": "display_data"
    }
   ],
   "source": [
    "np.log(df_train['target']).hist(bins = 200)"
   ]
  },
  {
   "cell_type": "code",
   "execution_count": 7,
   "id": "3323cad5",
   "metadata": {},
   "outputs": [
    {
     "name": "stdout",
     "output_type": "stream",
     "text": [
      "train_size 24376\n",
      "test_size 6095\n"
     ]
    }
   ],
   "source": [
    "ntrain = df_train.shape[0]\n",
    "ntest = df_test.shape[0]\n",
    "print('train_size',ntrain)\n",
    "print('test_size',ntest)"
   ]
  },
  {
   "cell_type": "code",
   "execution_count": null,
   "id": "8b5786f2",
   "metadata": {},
   "outputs": [],
   "source": [
    "def transform(data):\n",
    "    tfm_data = data.copy()\n",
    "    tfm_data['f1'] = pd.to_datetime(tfm_data['f1'])\n",
    "    tfm_data['f1_year'] = tfm_data['f1'].dt.year\n",
    "    tfm_data['f1_month'] = tfm_data['f1'].dt.month\n",
    "    tfm_data['f1_day'] = tfm_data['f1'].dt.day\n",
    "    tfm_data = tfm_data.drop(columns=['f1'])\n",
    "    \n",
    "    tfm_data = pd.get_dummies(tfm_data, columns=['f11','f29','f33','f34','f35',\n",
    "                                                               'f36','f37','f38','f39','f40','f106','f114','f118'], \n",
    "                                 prefix = ['f11','f29','f33','f34','f35',\n",
    "                                                               'f36','f37','f38','f39','f40','f106','f114','f118'])\n",
    "    tfm_data[\"first\"] = (tfm_data['f12'].apply(lambda x : \n",
    "                               x in ['Poselenie Sosenskoe','Nekrasovka','Poselenie Vnukovskoe','Poselenie Moskovskij'])).apply(int)\n",
    "    tfm_data[\"second\"] = tfm_data['f12'].apply(lambda x : \n",
    "                               x not in ['Poselenie Sosenskoe','Nekrasovka','Poselenie Vnukovskoe','Poselenie Moskovskij']).apply(int)\n",
    "    tfm_data = tfm_data.drop(columns=['f12'])\n",
    "    \n",
    "    rep_map = {'f152': {'excellent': 5, 'good': 4, 'satisfactory': 3, 'poor': 2,'no data': 1}}\n",
    "    tfm_data = tfm_data.replace(rep_map)\n",
    "    return tfm_data\n",
    "    "
   ]
  },
  {
   "cell_type": "code",
   "execution_count": null,
   "id": "11fc66ef",
   "metadata": {},
   "outputs": [],
   "source": [
    "def missing(data):\n",
    "    tfm_data = data.copy()\n",
    "    # много пропусков\n",
    "    tfm_data = tfm_data.drop(columns=['f7'])\n",
    "    tfm_data = tfm_data.drop(columns=['f10'])\n",
    "    tfm_data = tfm_data.drop(columns=['f24'])\n",
    "    tfm_data = tfm_data.drop(columns=['f160'])\n",
    "    tfm_data = tfm_data.drop(columns=['f161'])\n",
    "    tfm_data = tfm_data.drop(columns=['f162'])\n",
    "    \n",
    "    #удалить f6      7650 \n",
    "    #        f8      7650\n",
    "    tfm_data = tfm_data.drop(columns=['f6'])\n",
    "    tfm_data = tfm_data.drop(columns=['f8'])\n",
    "    \n",
    "    tfm_data['f77'] = tfm_data['f77'].fillna(0)\n",
    "    \n",
    "    tfm_data = tfm_data.fillna(tfm_data.median())\n",
    "    \n",
    "    \n",
    "    \n",
    "    return tfm_data\n",
    "\n",
    "    "
   ]
  },
  {
   "cell_type": "code",
   "execution_count": null,
   "id": "049b6458",
   "metadata": {
    "scrolled": true
   },
   "outputs": [],
   "source": [
    "y_train = df_train.target.values\n",
    "train_data = df_train.copy()\n",
    "test_data = df_test.copy()\n",
    "train_data.drop(['target'], axis=1, inplace=True)\n",
    "print(\"train_data size is : {}\".format(train_data.shape))"
   ]
  },
  {
   "cell_type": "code",
   "execution_count": null,
   "id": "1ee06fb1",
   "metadata": {},
   "outputs": [],
   "source": []
  },
  {
   "cell_type": "code",
   "execution_count": null,
   "id": "42390e3e",
   "metadata": {},
   "outputs": [],
   "source": []
  },
  {
   "cell_type": "code",
   "execution_count": null,
   "id": "a9fc6671",
   "metadata": {
    "scrolled": true
   },
   "outputs": [],
   "source": [
    "train_data_na = (train_data.isnull().sum() / len(train_data)) * 100\n",
    "train_data_na = train_data_na.drop(train_data_na[train_data_na ==0].index).sort_values(ascending=False)\n",
    "missing_data = pd.DataFrame({'Missing Ratio' :train_data_na})\n",
    "missing_data"
   ]
  },
  {
   "cell_type": "code",
   "execution_count": null,
   "id": "feaa39fb",
   "metadata": {
    "scrolled": false
   },
   "outputs": [],
   "source": [
    "f, ax = plt.subplots(figsize=(15, 12))\n",
    "plt.xticks(rotation='90')\n",
    "sns.barplot(x=train_data_na.index, y=train_data_na)\n",
    "plt.xlabel('Features', fontsize=15)\n",
    "plt.ylabel('Percent of missing values', fontsize=15)\n",
    "plt.title('Percent missing data by feature', fontsize=15)"
   ]
  },
  {
   "cell_type": "markdown",
   "id": "998cce12",
   "metadata": {},
   "source": [
    "Преобразуем признак ф1 "
   ]
  },
  {
   "cell_type": "code",
   "execution_count": null,
   "id": "8a8c7f26",
   "metadata": {},
   "outputs": [],
   "source": [
    "train_data['f1'] = pd.to_datetime(train_data['f1'])\n",
    "train_data['f1_year'] = train_data['f1'].dt.year\n",
    "train_data['f1_month'] = train_data['f1'].dt.month\n",
    "train_data['f1_day'] = train_data['f1'].dt.day\n",
    "train_data = train_data.drop(columns=['f1'])"
   ]
  },
  {
   "cell_type": "code",
   "execution_count": null,
   "id": "2f6f53cb",
   "metadata": {},
   "outputs": [],
   "source": [
    "train_data.head()"
   ]
  },
  {
   "cell_type": "code",
   "execution_count": null,
   "id": "d0e6207c",
   "metadata": {
    "scrolled": true
   },
   "outputs": [],
   "source": [
    "train_data.dtypes.value_counts()"
   ]
  },
  {
   "cell_type": "markdown",
   "id": "a8e589c6",
   "metadata": {},
   "source": [
    "## object тип"
   ]
  },
  {
   "cell_type": "code",
   "execution_count": null,
   "id": "9f4a271a",
   "metadata": {
    "scrolled": true
   },
   "outputs": [],
   "source": [
    "train_data[train_data.dtypes[train_data.dtypes == object].index]"
   ]
  },
  {
   "cell_type": "code",
   "execution_count": null,
   "id": "171ddc78",
   "metadata": {},
   "outputs": [],
   "source": []
  },
  {
   "cell_type": "code",
   "execution_count": null,
   "id": "3c73759e",
   "metadata": {},
   "outputs": [],
   "source": []
  },
  {
   "cell_type": "code",
   "execution_count": null,
   "id": "bc5dd92b",
   "metadata": {},
   "outputs": [],
   "source": [
    "train_data_tf = transform(train_data)\n",
    "test_data_tf = transform(test_data)"
   ]
  },
  {
   "cell_type": "code",
   "execution_count": null,
   "id": "e0705e9c",
   "metadata": {
    "scrolled": true
   },
   "outputs": [],
   "source": [
    "train_data_tf.shape, test_data_tf.shape"
   ]
  },
  {
   "cell_type": "code",
   "execution_count": null,
   "id": "e0979e80",
   "metadata": {},
   "outputs": [],
   "source": [
    "ftest_data = missing(test_data_tf)\n",
    "ftrain_data = missing(train_data_tf)\n"
   ]
  },
  {
   "cell_type": "code",
   "execution_count": null,
   "id": "a3e8e026",
   "metadata": {},
   "outputs": [],
   "source": []
  },
  {
   "cell_type": "code",
   "execution_count": null,
   "id": "5c21fcf7",
   "metadata": {},
   "outputs": [],
   "source": [
    "def funn(X,y):\n",
    "    X=X.to_numpy()\n",
    "    mean = np.log(y).mean()\n",
    "    std = np.log(y).std()\n",
    "    a = mean - 2*std\n",
    "    b = mean + 2*std\n",
    "    \n",
    "    return X[np.where((np.log(y)<b)&(np.log(y)>a))], y[(np.where((np.log(y)<b)&(np.log(y)>a)))]\n",
    "\n",
    "    \n",
    "    "
   ]
  },
  {
   "cell_type": "code",
   "execution_count": null,
   "id": "1abe57fe",
   "metadata": {},
   "outputs": [],
   "source": [
    "new_t_x, new_t_y =  funn(ftrain_data,y_train)"
   ]
  },
  {
   "cell_type": "code",
   "execution_count": null,
   "id": "109c39c5",
   "metadata": {},
   "outputs": [],
   "source": [
    "from sklearn.impute import SimpleImputer\n",
    "imp = SimpleImputer(strategy=\"median\")\n",
    "result_data = imp.fit_transform(result_data)"
   ]
  },
  {
   "cell_type": "code",
   "execution_count": null,
   "id": "2166dbba",
   "metadata": {},
   "outputs": [],
   "source": [
    "result_data[0]"
   ]
  },
  {
   "cell_type": "code",
   "execution_count": null,
   "id": "3cdb7e85",
   "metadata": {},
   "outputs": [],
   "source": [
    "x_train = result_data[:ntrain]\n",
    "x_test = result_data[:ntest]"
   ]
  },
  {
   "cell_type": "code",
   "execution_count": null,
   "id": "9b9fb1f5",
   "metadata": {
    "scrolled": true
   },
   "outputs": [],
   "source": [
    "print(x_train.shape,x_test.shape, y_train.shape)"
   ]
  },
  {
   "cell_type": "code",
   "execution_count": null,
   "id": "40912590",
   "metadata": {},
   "outputs": [],
   "source": [
    "X_train, X_test, Y_train, Y_test = train_test_split(x_train, y_train, \n",
    "                                                    test_size=0.2, \n",
    "                                                    random_state=0)"
   ]
  },
  {
   "cell_type": "code",
   "execution_count": null,
   "id": "7efcc8ad",
   "metadata": {},
   "outputs": [],
   "source": [
    "print(X_train.shape,X_test.shape)"
   ]
  },
  {
   "cell_type": "code",
   "execution_count": null,
   "id": "1f7e8cac",
   "metadata": {},
   "outputs": [],
   "source": [
    "from sklearn.metrics import mean_squared_log_error\n",
    "from catboost import CatBoostRegressor\n",
    "from xgboost import XGBRegressor\n",
    "import lightgbm as lgb\n",
    "from sklearn.model_selection import cross_val_score\n",
    "\n"
   ]
  },
  {
   "cell_type": "code",
   "execution_count": null,
   "id": "a5e46e30",
   "metadata": {},
   "outputs": [],
   "source": [
    "model = RandomForestRegressor(n_estimators=6, max_depth=2, random_state=0)\n",
    "model.fit(X_train, Y_train)\n",
    "y_pred = model.predict(X_test)\n",
    "#print(model.score(X_train, Y_train), model.score(X_test, Y_test))\n",
    "#print(classification_report(Y_test, model.predict(X_test)))"
   ]
  },
  {
   "cell_type": "code",
   "execution_count": null,
   "id": "ca3ecf06",
   "metadata": {
    "scrolled": true
   },
   "outputs": [],
   "source": [
    "x_train"
   ]
  },
  {
   "cell_type": "code",
   "execution_count": null,
   "id": "3ef8f1b9",
   "metadata": {},
   "outputs": [],
   "source": [
    "y_train.shape"
   ]
  },
  {
   "cell_type": "code",
   "execution_count": null,
   "id": "eb3adee4",
   "metadata": {
    "scrolled": true
   },
   "outputs": [],
   "source": [
    "def funn(X,y):\n",
    "    mean = np.log(y).mean()\n",
    "    std = np.log(y).std()\n",
    "    a = mean - 2*std\n",
    "    b = mean + 2*std\n",
    "    \n",
    "    return X[np.where((np.log(y)<b)&(np.log(y)>a))], y[(np.where((np.log(y)<b)&(np.log(y)>a)))]\n",
    "x_new,y_new = funn(x_train,y_train)\n",
    "    \n",
    "    "
   ]
  },
  {
   "cell_type": "code",
   "execution_count": null,
   "id": "4ee091c3",
   "metadata": {},
   "outputs": [],
   "source": [
    "model = RandomForestRegressor(n_estimators=6, max_depth=2, random_state=0)\n",
    "n_scores = cross_val_score(model, ftrain_data, y_train, cv=10, n_jobs=-1,scoring='neg_mean_squared_log_error')\n",
    "print(n_scores)\n",
    "print('SCORE: %.2f (%.2f)' % (np.mean(n_scores), np.std(n_scores)))"
   ]
  },
  {
   "cell_type": "code",
   "execution_count": null,
   "id": "fcb2de6e",
   "metadata": {},
   "outputs": [],
   "source": [
    "model_cb = CatBoostRegressor()\n",
    "n_scores = cross_val_score(model_cb, ftrain_data, y_train, cv=10, n_jobs=-1,scoring='neg_mean_squared_log_error')\n",
    "print(n_scores)\n",
    "print('SCORE: %.2f (%.2f)' % (np.mean(n_scores), np.std(n_scores)))"
   ]
  },
  {
   "cell_type": "code",
   "execution_count": null,
   "id": "f8d635a5",
   "metadata": {},
   "outputs": [],
   "source": []
  },
  {
   "cell_type": "code",
   "execution_count": null,
   "id": "03c7038b",
   "metadata": {},
   "outputs": [],
   "source": []
  },
  {
   "cell_type": "code",
   "execution_count": null,
   "id": "776ebe9f",
   "metadata": {},
   "outputs": [],
   "source": []
  },
  {
   "cell_type": "code",
   "execution_count": null,
   "id": "859645ba",
   "metadata": {},
   "outputs": [],
   "source": []
  },
  {
   "cell_type": "code",
   "execution_count": null,
   "id": "62516a92",
   "metadata": {},
   "outputs": [],
   "source": []
  },
  {
   "cell_type": "code",
   "execution_count": null,
   "id": "4d9fdda5",
   "metadata": {},
   "outputs": [],
   "source": []
  },
  {
   "cell_type": "code",
   "execution_count": null,
   "id": "b975637d",
   "metadata": {},
   "outputs": [],
   "source": []
  },
  {
   "cell_type": "code",
   "execution_count": null,
   "id": "136592ff",
   "metadata": {},
   "outputs": [],
   "source": []
  },
  {
   "cell_type": "code",
   "execution_count": null,
   "id": "1c5470de",
   "metadata": {},
   "outputs": [],
   "source": []
  },
  {
   "cell_type": "code",
   "execution_count": null,
   "id": "b701da2d",
   "metadata": {},
   "outputs": [],
   "source": [
    "print(mean_squared_log_error(Y_test, y_pred))\n",
    "print(mean_squared_log_error(Y_test, y_pred_cb))\n",
    "print(mean_squared_log_error(Y_test, y_pred_xg))\n",
    "print(mean_squared_log_error(Y_test, y_pred_lg))\n",
    "\n"
   ]
  },
  {
   "cell_type": "code",
   "execution_count": null,
   "id": "96880629",
   "metadata": {
    "scrolled": true
   },
   "outputs": [],
   "source": [
    "plt.plot(Y_test[50:100],'r')\n",
    "plt.plot(y_pred_xg[50:100],'g')\n",
    "plt.plot(y_pred_cb[50:100],'y')\n",
    "plt.plot(y_pred_lg[50:100],'b')\n",
    "\n"
   ]
  },
  {
   "cell_type": "code",
   "execution_count": null,
   "id": "72c1e34e",
   "metadata": {
    "scrolled": true
   },
   "outputs": [],
   "source": [
    "# Initialize data\n",
    "\n",
    "# Initialize CatBoostRegressor\n",
    "model_cb = CatBoostRegressor()\n",
    "# Fit model\n",
    "model_cb.fit(new_t_x, new_t_y)\n",
    "y_pred_cb = model_cb.predict(ftest_data)"
   ]
  },
  {
   "cell_type": "code",
   "execution_count": null,
   "id": "2af3c88c",
   "metadata": {},
   "outputs": [],
   "source": [
    "x_test.shape"
   ]
  },
  {
   "cell_type": "code",
   "execution_count": null,
   "id": "a3121ca9",
   "metadata": {},
   "outputs": [],
   "source": []
  },
  {
   "cell_type": "code",
   "execution_count": null,
   "id": "ba6a7561",
   "metadata": {},
   "outputs": [],
   "source": []
  },
  {
   "cell_type": "code",
   "execution_count": null,
   "id": "9d36d499",
   "metadata": {},
   "outputs": [],
   "source": [
    "\n",
    "# create dataset for lightgbm\n",
    "lgb_train = lgb.Dataset(X_train, Y_train)\n",
    "lgb_eval = lgb.Dataset(X_test, Y_test, reference=lgb_train)\n",
    "\n",
    "# specify your configurations as a dict\n",
    "params = {\n",
    "    'boosting_type': 'gbdt',\n",
    "    'objective': 'regression',\n",
    "    'metric': {'l2', 'l1'},\n",
    "    'num_leaves': 31,\n",
    "    'learning_rate': 0.05,\n",
    "    'feature_fraction': 0.9,\n",
    "    'bagging_fraction': 0.8,\n",
    "    'bagging_freq': 5,\n",
    "    'verbose': 0\n",
    "}\n",
    "\n",
    "print('Starting training...')\n",
    "# train\n",
    "gbm = lgb.train(params,\n",
    "                lgb_train,\n",
    "                num_boost_round=20,\n",
    "                valid_sets=lgb_eval,\n",
    "                early_stopping_rounds=5)\n",
    "\n",
    "\n",
    "print('Starting predicting...')\n",
    "# predict\n",
    "y_pred_lg = gbm.predict(X_test, num_iteration=gbm.best_iteration)\n",
    "# eval\n"
   ]
  },
  {
   "cell_type": "code",
   "execution_count": null,
   "id": "20824f0d",
   "metadata": {},
   "outputs": [],
   "source": [
    "import xgboost as xgb\n",
    "\n",
    "\n",
    "\n",
    "xgb.__version__"
   ]
  },
  {
   "cell_type": "code",
   "execution_count": null,
   "id": "962ec852",
   "metadata": {},
   "outputs": [],
   "source": [
    "model_xg = XGBRegressor()\n",
    "# Fit model\n",
    "model_xg.fit(X_train, Y_train)\n",
    "y_pred_xg = model_xg.predict(X_test)"
   ]
  },
  {
   "cell_type": "code",
   "execution_count": null,
   "id": "9adf0af0",
   "metadata": {},
   "outputs": [],
   "source": [
    "model = XGBRegressor()\n",
    "cv = RepeatedKFold(n_splits=10, n_repeats=3, random_state=1)\n",
    "# evaluate model\n",
    "scores = cross_val_score(model, X, y, scoring='neg_mean_absolute_error', cv=cv, n_jobs=-1)\n",
    "...\n",
    "# force scores to be positive\n",
    "scores = absolute(scores)\n",
    "print('Mean MAE: %.3f (%.3f)' % (scores.mean(), scores.std()) )"
   ]
  },
  {
   "cell_type": "code",
   "execution_count": null,
   "id": "beb3333f",
   "metadata": {},
   "outputs": [],
   "source": [
    "from sklearn.datasets import make_classification"
   ]
  },
  {
   "cell_type": "code",
   "execution_count": null,
   "id": "85b178f0",
   "metadata": {},
   "outputs": [],
   "source": [
    "\n",
    "train_data = lgb.Dataset(X, label=y)\n",
    "param = {'num_leaves': 31, \n",
    "         'objective': 'multiclass', \n",
    "         'num_class': 2, \n",
    "         'metric': ['multi_logloss']}\n",
    "\n",
    "num_round = 10\n",
    "bst = lgb.train(param, train_data, num_boost_round=10)\n",
    "\n",
    "(bst.predict(X).argmax(axis=-1) == y).mean()"
   ]
  },
  {
   "cell_type": "code",
   "execution_count": null,
   "id": "eabf74f4",
   "metadata": {},
   "outputs": [],
   "source": [
    "all_data_dum = pd.get_dummies(all_data)"
   ]
  },
  {
   "cell_type": "code",
   "execution_count": null,
   "id": "8ce9b793",
   "metadata": {},
   "outputs": [],
   "source": [
    "all_data_dum"
   ]
  },
  {
   "cell_type": "code",
   "execution_count": null,
   "id": "7a4de9e6",
   "metadata": {},
   "outputs": [],
   "source": [
    "train = all_data_dum[:ntrain]\n",
    "test = all_data_dum[ntrain:]"
   ]
  },
  {
   "cell_type": "code",
   "execution_count": null,
   "id": "28d13b55",
   "metadata": {
    "scrolled": false
   },
   "outputs": [],
   "source": [
    "from catboost import CatBoostRegressor\n",
    "# Initialize data\n",
    "\n",
    "# Initialize CatBoostRegressor\n",
    "model = CatBoostRegressor()\n",
    "# Fit model\n",
    "model.fit(train, y_train)\n",
    "# Get predictions\n",
    "preds = model.predict(test)"
   ]
  },
  {
   "cell_type": "code",
   "execution_count": null,
   "id": "eae64941",
   "metadata": {
    "scrolled": false
   },
   "outputs": [],
   "source": [
    "plt.plot(sorted(preds))"
   ]
  },
  {
   "cell_type": "code",
   "execution_count": null,
   "id": "fad1dc52",
   "metadata": {},
   "outputs": [],
   "source": [
    "preds = np.expm1(preds)"
   ]
  },
  {
   "cell_type": "code",
   "execution_count": null,
   "id": "75e374b9",
   "metadata": {},
   "outputs": [],
   "source": [
    "import pip"
   ]
  },
  {
   "cell_type": "code",
   "execution_count": null,
   "id": "3d9bbe6c",
   "metadata": {},
   "outputs": [],
   "source": [
    "pip install xgboost"
   ]
  },
  {
   "cell_type": "code",
   "execution_count": null,
   "id": "aa7d0da0",
   "metadata": {},
   "outputs": [],
   "source": [
    "pip install lightgbm"
   ]
  },
  {
   "cell_type": "code",
   "execution_count": null,
   "id": "d8f8216f",
   "metadata": {},
   "outputs": [],
   "source": [
    "from sklearn.ensemble import RandomForestRegressor,  GradientBoostingRegressor"
   ]
  },
  {
   "cell_type": "code",
   "execution_count": null,
   "id": "99ba026b",
   "metadata": {},
   "outputs": [],
   "source": [
    "col = np.array(range(1,len(y_pred_cb)+1))\n",
    "result = np.c_[col,y_pred_cb]\n",
    "print(result)\n",
    "with open(\"sample_sabmission.csv\", \"wb\") as f:\n",
    "    f.write(b'id,prediction\\n')\n",
    "    np.savetxt(f, result, fmt='%i', delimiter=\",\")"
   ]
  }
 ],
 "metadata": {
  "kernelspec": {
   "display_name": "Python 3",
   "language": "python",
   "name": "python3"
  },
  "language_info": {
   "codemirror_mode": {
    "name": "ipython",
    "version": 3
   },
   "file_extension": ".py",
   "mimetype": "text/x-python",
   "name": "python",
   "nbconvert_exporter": "python",
   "pygments_lexer": "ipython3",
   "version": "3.8.8"
  }
 },
 "nbformat": 4,
 "nbformat_minor": 5
}
