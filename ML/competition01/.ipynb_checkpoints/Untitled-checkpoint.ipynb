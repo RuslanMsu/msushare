{
 "cells": [
  {
   "cell_type": "code",
   "execution_count": 164,
   "id": "20a630b7",
   "metadata": {},
   "outputs": [],
   "source": [
    "import numpy as np\n",
    "import matplotlib.pyplot as plt\n",
    "from sklearn.preprocessing import StandardScaler\n",
    "from sklearn.model_selection import train_test_split\n",
    "from sklearn.linear_model import LogisticRegression\n",
    "from sklearn.model_selection import KFold\n",
    "from sklearn.neighbors import KNeighborsClassifier\n",
    "from sklearn.cluster import KMeans\n"
   ]
  },
  {
   "cell_type": "code",
   "execution_count": 120,
   "id": "281b5acb",
   "metadata": {},
   "outputs": [],
   "source": [
    "def load_train_data(fileName):\n",
    "    w = np.genfromtxt(fileName, delimiter=',')\n",
    "    x_train = w[1:,1:-1]\n",
    "    y_train = w[1:,-1].astype(int)\n",
    "    return x_train, y_train\n",
    "    \n",
    "def load_test_data(fileName):\n",
    "    w = np.genfromtxt(fileName, delimiter=',')\n",
    "    x_test = w[1:,1:]\n",
    "    return x_test"
   ]
  },
  {
   "cell_type": "code",
   "execution_count": 121,
   "id": "d3b75b5d",
   "metadata": {},
   "outputs": [],
   "source": [
    "def marg(prob,Y_test):\n",
    "    M = np.array([(j[k] - np.max(np.append(j[:k],j[k+1:])))  for j,k in zip(prob,Y_test)])\n",
    "    ind = np.where(M>0.75)\n",
    "    M = np.array(sorted(M))\n",
    "    c = list(range(len(M)))\n",
    "    plt.plot(c,M, )\n",
    "    plt.hlines(0,0,len(c),color='black')\n",
    "    plt.fill_between(c, M,where = M<0,color='red',alpha=0.5)\n",
    "    plt.fill_between(c, M,where = M>0,color='green',alpha=0.5)\n"
   ]
  },
  {
   "cell_type": "code",
   "execution_count": 182,
   "id": "91bb52b9",
   "metadata": {},
   "outputs": [],
   "source": [
    "\n",
    "def marg_et(prob,Y_test,X_test):\n",
    "    print(Y_test)\n",
    "    M = np.array([(j[k] - np.max(np.append(j[:k],j[k+1:])))  for j,k in zip(prob,Y_test)])\n",
    "    ind = np.where(M>0.5)\n",
    "    etalon_x  = np.copy(X_test[ind])\n",
    "    etalon_y  = np.copy(Y_test[ind])\n",
    "    M = np.array(sorted(M))\n",
    "    c = list(range(len(M)))\n",
    "    plt.plot(c,M, )\n",
    "    plt.hlines(0,0,len(c),color='black')\n",
    "    plt.fill_between(c, M,where = M<0,color='red',alpha=0.5)\n",
    "    plt.fill_between(c, M,where = M>0,color='green',alpha=0.5)\n",
    "    return [etalon_x,etalon_y]"
   ]
  },
  {
   "cell_type": "code",
   "execution_count": 169,
   "id": "4fff713a",
   "metadata": {},
   "outputs": [],
   "source": [
    "def clusters(x_train, y_train):\n",
    "    yy = np.array([],dtype=np.int64)\n",
    "    for i in range(10):\n",
    "        \n",
    "        count = 1000#int(np.unique(y_train, return_counts=True)[1][i]//1.5)\n",
    "        #print(count)\n",
    "        ind_i = np.where(y_train == i)[0]\n",
    "        kmeans = KMeans(n_clusters=count, random_state=0).fit(x_train[ind_i])\n",
    "        if i == 0:\n",
    "            list_clusters = kmeans.cluster_centers_\n",
    "        else:\n",
    "            list_clusters = np.vstack((list_clusters, kmeans.cluster_centers_))\n",
    "        yy =  np.append(yy, np.array([i]*count))\n",
    "        int_array = yy.astype(int)\n",
    "    return list_clusters, int_array\n",
    "    "
   ]
  },
  {
   "cell_type": "code",
   "execution_count": 122,
   "id": "0b1e3d99",
   "metadata": {},
   "outputs": [],
   "source": [
    "x_train, y_train = load_train_data('train.csv')"
   ]
  },
  {
   "cell_type": "code",
   "execution_count": 188,
   "id": "ec80c545",
   "metadata": {},
   "outputs": [],
   "source": [
    "x_test = load_test_data('test.csv')"
   ]
  },
  {
   "cell_type": "code",
   "execution_count": 191,
   "id": "3303bdd6",
   "metadata": {},
   "outputs": [],
   "source": [
    "col_mean = np.nanmean(x_test, axis=0)\n",
    "inds = np.where(np.isnan(x_test))\n",
    "\n",
    "#Place column means in the indices. Align the arrays using take\n",
    "x_test[inds] = np.take(col_mean, inds[1])\n"
   ]
  },
  {
   "cell_type": "code",
   "execution_count": 123,
   "id": "306d6928",
   "metadata": {},
   "outputs": [],
   "source": [
    "col_mean = np.nanmean(x_train, axis=0)\n",
    "inds = np.where(np.isnan(x_train))\n",
    "\n",
    "#Place column means in the indices. Align the arrays using take\n",
    "x_train[inds] = np.take(col_mean, inds[1])\n"
   ]
  },
  {
   "cell_type": "code",
   "execution_count": null,
   "id": "7cac40f3",
   "metadata": {},
   "outputs": [],
   "source": []
  },
  {
   "cell_type": "code",
   "execution_count": 89,
   "id": "f6ac3767",
   "metadata": {
    "scrolled": false
   },
   "outputs": [
    {
     "name": "stdout",
     "output_type": "stream",
     "text": [
      "X_train_norm.shape, y_train.shape:  (50000, 110) (50000,)\n",
      "X_train.shape, Y_train.shape, X_test.shape, Y_test.shape:  (40000, 110) (40000,) (10000, 110) (10000,)\n"
     ]
    }
   ],
   "source": [
    "\n",
    "X_train, X_test, Y_train, Y_test = train_test_split(x_train, y_train, test_size=0.2, random_state=0) \n",
    "print('X_train_norm.shape, y_train.shape: ', x_train.shape, y_train.shape)\n",
    "print('X_train.shape, Y_train.shape, X_test.shape, Y_test.shape: ', X_train.shape, Y_train.shape, X_test.shape, Y_test.shape)"
   ]
  },
  {
   "cell_type": "code",
   "execution_count": 90,
   "id": "2085aea2",
   "metadata": {},
   "outputs": [
    {
     "data": {
      "text/plain": [
       "3"
      ]
     },
     "execution_count": 90,
     "metadata": {},
     "output_type": "execute_result"
    }
   ],
   "source": [
    "kf = KFold(n_splits=3)\n",
    "kf.get_n_splits(X_train)"
   ]
  },
  {
   "cell_type": "code",
   "execution_count": 73,
   "id": "be27ee93",
   "metadata": {},
   "outputs": [
    {
     "data": {
      "text/plain": [
       "(40000, 110)"
      ]
     },
     "execution_count": 73,
     "metadata": {},
     "output_type": "execute_result"
    }
   ],
   "source": [
    "X_train.shape"
   ]
  },
  {
   "cell_type": "code",
   "execution_count": null,
   "id": "1a4e7b42",
   "metadata": {},
   "outputs": [],
   "source": []
  },
  {
   "cell_type": "markdown",
   "id": "abc20cc5",
   "metadata": {},
   "source": [
    "## Logistic Regression.Один против всех"
   ]
  },
  {
   "cell_type": "code",
   "execution_count": 166,
   "id": "2d59c5a7",
   "metadata": {
    "scrolled": false
   },
   "outputs": [
    {
     "name": "stdout",
     "output_type": "stream",
     "text": [
      "Accuracy 0.613875008267137\n"
     ]
    },
    {
     "data": {
      "image/png": "[encoded data removed]",
      "text/plain": [
       "<Figure size 432x288 with 1 Axes>"
      ]
     },
     "metadata": {
      "needs_background": "light"
     },
     "output_type": "display_data"
    }
   ],
   "source": [
    "Accuracy = 0\n",
    "for train_index, test_index in kf.split(X_train):\n",
    "    #print(\"TRAIN:\", train_index, \"TEST:\", test_index)\n",
    "    X_train_v, X_test_v = X_train[train_index], X_train[test_index]\n",
    "    Y_train_v, Y_test_v = Y_train[train_index], Y_train[test_index]\n",
    "    \n",
    "    \n",
    "    scaler = StandardScaler()\n",
    "    scaler.fit(X_train_v)\n",
    "    X_train_v = scaler.transform(X_train_v)\n",
    "    X_test_v = scaler.transform(X_test_v)\n",
    "    \n",
    "    X_train_v, Y_train_v = clusters(X_train_v,Y_train_v)\n",
    "    #print(X_train_v)\n",
    "    models = []\n",
    "    for i in range(0,10):\n",
    "        model = LogisticRegression(random_state=0,max_iter=3000,solver = 'sag')\n",
    "        yy = np.array(Y_train_v==i,dtype = np.int64)\n",
    "        model.fit(X_train_v,yy)\n",
    "        models.append(model)\n",
    "    y_preds = []\n",
    "    for i in range(0,10):\n",
    "        y_pred = models[i].predict_proba(X_test_v)\n",
    "        y_preds.append(y_pred)\n",
    "    y_preds = np.array(y_preds)\n",
    "    res = np.hstack((y_preds[0:10,:,-1:][0],y_preds[0:10,:,-1:][1]))\n",
    "    for i in range(2,10):\n",
    "        res = np.hstack((res,y_preds[0:10,:,-1:][i]))\n",
    "    marg(res,Y_test_v)\n",
    "    amswer = np.argmax(res, axis=1)\n",
    "    #print('Accuracy',np.sum(Y_test_v == amswer)/len(Y_test_v))\n",
    "    Accuracy+=np.sum(Y_test_v == amswer)/len(Y_test_v)\n",
    "print('Accuracy',Accuracy/kf.get_n_splits(X_train))"
   ]
  },
  {
   "cell_type": "code",
   "execution_count": 160,
   "id": "44a8891a",
   "metadata": {},
   "outputs": [
    {
     "name": "stdout",
     "output_type": "stream",
     "text": [
      "Accuracy 0.6818000077270568\n"
     ]
    },
    {
     "data": {
      "image/png": "[encoded data removed]",
      "text/plain": [
       "<Figure size 432x288 with 1 Axes>"
      ]
     },
     "metadata": {
      "needs_background": "light"
     },
     "output_type": "display_data"
    }
   ],
   "source": [
    "Accuracy = 0\n",
    "for train_index, test_index in kf.split(X_train):\n",
    "    #print(\"TRAIN:\", train_index, \"TEST:\", test_index)\n",
    "    X_train_v, X_test_v = X_train[train_index], X_train[test_index]\n",
    "    Y_train_v, Y_test_v = Y_train[train_index], Y_train[test_index]\n",
    "    \n",
    "    clusters\n",
    "\n",
    "    scaler = StandardScaler()\n",
    "    scaler.fit(X_train_v)\n",
    "    X_train_v = scaler.transform(X_train_v)\n",
    "    X_test_v = scaler.transform(X_test_v)\n",
    "    #print(X_train_v)\n",
    "    \n",
    "    model = LogisticRegression(penalty = 'l2',random_state=0,multi_class='multinomial', solver = 'sag')\n",
    "    model.fit(X_train_v,Y_train_v)\n",
    "    amswer = model.predict(X_test_v)\n",
    "    #marg(res,Y_test_v)\n",
    "    #amswer = np.argmax(res, axis=1)\n",
    "    #print('Accuracy',np.sum(Y_test_v == amswer)/len(Y_test_v))\n",
    "    Accuracy+=np.sum(Y_test_v == amswer)/len(Y_test_v)\n",
    "print('Accuracy',Accuracy/kf.get_n_splits(X_train))"
   ]
  },
  {
   "cell_type": "markdown",
   "id": "7149a44d",
   "metadata": {},
   "source": [
    "## KNN"
   ]
  },
  {
   "cell_type": "code",
   "execution_count": 125,
   "id": "6a2c0071",
   "metadata": {},
   "outputs": [],
   "source": [
    "def fun(dist):\n",
    "    ret = np.ones_like(dist)\n",
    "    k = ret.shape[1]\n",
    "    for i in range(k):\n",
    "        ret[:,i] *=(k-i)/k\n",
    "    return ret\n",
    "    "
   ]
  },
  {
   "cell_type": "code",
   "execution_count": 186,
   "id": "5756dba2",
   "metadata": {},
   "outputs": [],
   "source": [
    "model =  KNeighborsClassifier(n_neighbors=25, weights=fun)\n",
    "model.fit(X_train,Y_train)\n",
    "res = model.predict(X_test)\n",
    "Accuracy=np.sum(Y_test == res)/len(Y_test)\n",
    "\n"
   ]
  },
  {
   "cell_type": "code",
   "execution_count": 187,
   "id": "e8bf2b41",
   "metadata": {},
   "outputs": [
    {
     "name": "stdout",
     "output_type": "stream",
     "text": [
      "0.7682\n"
     ]
    }
   ],
   "source": [
    "print(Accuracy)"
   ]
  },
  {
   "cell_type": "code",
   "execution_count": 192,
   "id": "8e749abb",
   "metadata": {},
   "outputs": [
    {
     "name": "stdout",
     "output_type": "stream",
     "text": [
      "[[   0    4]\n",
      " [   1    7]\n",
      " [   2    3]\n",
      " ...\n",
      " [9997    1]\n",
      " [9998    3]\n",
      " [9999    2]]\n"
     ]
    }
   ],
   "source": [
    "model =  KNeighborsClassifier(n_neighbors=25, weights=fun)\n",
    "model.fit(x_train, y_train)\n",
    "res = model.predict(x_test)\n",
    "#print(np.sum(Y_test == y_pred)/len(Y_test))\n",
    "col = np.array(range(0,10000))\n",
    "result = np.c_[col,res]\n",
    "print(result)\n",
    "with open(\"sample_sabmission.csv\", \"wb\") as f:\n",
    "    f.write(b'id,label\\n')\n",
    "    np.savetxt(f, result.astype(int), fmt='%i', delimiter=\",\")"
   ]
  }
 ],
 "metadata": {
  "kernelspec": {
   "display_name": "Python 3",
   "language": "python",
   "name": "python3"
  },
  "language_info": {
   "codemirror_mode": {
    "name": "ipython",
    "version": 3
   },
   "file_extension": ".py",
   "mimetype": "text/x-python",
   "name": "python",
   "nbconvert_exporter": "python",
   "pygments_lexer": "ipython3",
   "version": "3.8.8"
  }
 },
 "nbformat": 4,
 "nbformat_minor": 5
}
