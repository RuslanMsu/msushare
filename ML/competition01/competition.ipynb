{
 "cells": [
  {
   "cell_type": "code",
   "execution_count": 34,
   "id": "a42208f2",
   "metadata": {},
   "outputs": [],
   "source": [
    "import numpy as np\n",
    "import matplotlib.pyplot as plt"
   ]
  },
  {
   "cell_type": "markdown",
   "id": "5627218e",
   "metadata": {},
   "source": [
    "## Load data"
   ]
  },
  {
   "cell_type": "code",
   "execution_count": 35,
   "id": "0fecd656",
   "metadata": {},
   "outputs": [],
   "source": [
    "def load_train_data(fileName):\n",
    "    w = np.genfromtxt(fileName, delimiter=',')\n",
    "    x_train = w[1:,1:-1]\n",
    "    y_train = w[1:,-1].astype(int)\n",
    "    return x_train, y_train\n",
    "    \n",
    "def load_test_data(fileName):\n",
    "    w = np.genfromtxt(fileName, delimiter=',')\n",
    "    x_test = w[1:,1:]\n",
    "    return x_test"
   ]
  },
  {
   "cell_type": "code",
   "execution_count": 36,
   "id": "5cb6a28b",
   "metadata": {},
   "outputs": [],
   "source": [
    "x_train, y_train = load_train_data('train.csv')"
   ]
  },
  {
   "cell_type": "code",
   "execution_count": 37,
   "id": "9c93416d",
   "metadata": {},
   "outputs": [
    {
     "data": {
      "text/plain": [
       "Counter({0: 4971,\n",
       "         5: 4584,\n",
       "         4: 4905,\n",
       "         1: 5450,\n",
       "         3: 5144,\n",
       "         6: 4866,\n",
       "         9: 4916,\n",
       "         2: 5049,\n",
       "         8: 4979,\n",
       "         7: 5136})"
      ]
     },
     "execution_count": 37,
     "metadata": {},
     "output_type": "execute_result"
    }
   ],
   "source": [
    "import collections\n",
    "collections.Counter(y_train)"
   ]
  },
  {
   "cell_type": "code",
   "execution_count": 38,
   "id": "64bf40ec",
   "metadata": {},
   "outputs": [],
   "source": [
    "x_test = load_test_data('test.csv')"
   ]
  },
  {
   "cell_type": "code",
   "execution_count": 39,
   "id": "4659a729",
   "metadata": {
    "scrolled": true
   },
   "outputs": [
    {
     "data": {
      "text/plain": [
       "((50000, 110), (50000,))"
      ]
     },
     "execution_count": 39,
     "metadata": {},
     "output_type": "execute_result"
    }
   ],
   "source": [
    "x_train.shape, y_train.shape"
   ]
  },
  {
   "cell_type": "code",
   "execution_count": 8,
   "id": "89031a0e",
   "metadata": {},
   "outputs": [
    {
     "data": {
      "image/png": "[encoded data removed]",
      "text/plain": [
       "<Figure size 432x288 with 1 Axes>"
      ]
     },
     "metadata": {
      "needs_background": "light"
     },
     "output_type": "display_data"
    }
   ],
   "source": [
    "plt.hist(x_train[:,69],bins='auto') \n",
    "plt.title(\"histogram\") \n",
    "plt.show()"
   ]
  },
  {
   "cell_type": "code",
   "execution_count": null,
   "id": "f529d7e0",
   "metadata": {},
   "outputs": [],
   "source": [
    "cor = np.corrcoef(x_train)"
   ]
  },
  {
   "cell_type": "code",
   "execution_count": null,
   "id": "fb08a647",
   "metadata": {},
   "outputs": [],
   "source": [
    "np.where(cor[7]>0.6)"
   ]
  },
  {
   "cell_type": "markdown",
   "id": "cbab7f8c",
   "metadata": {},
   "source": [
    "## замена пропусков на mean"
   ]
  },
  {
   "cell_type": "code",
   "execution_count": 40,
   "id": "347aaefc",
   "metadata": {},
   "outputs": [],
   "source": [
    "col_mean = np.nanmean(x_train, axis=0)\n",
    "inds = np.where(np.isnan(x_train))\n",
    "\n",
    "#Place column means in the indices. Align the arrays using take\n",
    "x_train[inds] = np.take(col_mean, inds[1])\n"
   ]
  },
  {
   "cell_type": "code",
   "execution_count": 41,
   "id": "57c86bd0",
   "metadata": {},
   "outputs": [
    {
     "data": {
      "text/plain": [
       "array([[  -4.18782175,  -13.97884594, -246.34682666, ...,    3.19031071,\n",
       "         158.66038527,  -83.84856107],\n",
       "       [  24.0948567 ,  -11.57004215,   26.79325158, ...,   -2.7875209 ,\n",
       "          40.60194096,  -36.4625736 ],\n",
       "       [ 129.6267664 ,  153.36104363, -228.57525212, ...,   76.76735155,\n",
       "        -271.18427253,   63.88935008],\n",
       "       ...,\n",
       "       [-159.05880537, -127.40203363, -140.2599599 , ...,  -71.07437772,\n",
       "        -107.46873332,  111.95589156],\n",
       "       [ -27.40781799,   44.82630377,    0.53251789, ...,  -25.95404987,\n",
       "         482.5088313 ,  -74.90914378],\n",
       "       [  88.86940807,  -53.04860481,  -42.41488281, ...,   42.66332095,\n",
       "         443.05899756,   52.74068888]])"
      ]
     },
     "execution_count": 41,
     "metadata": {},
     "output_type": "execute_result"
    }
   ],
   "source": [
    "x_train"
   ]
  },
  {
   "cell_type": "code",
   "execution_count": 11,
   "id": "c9266bae",
   "metadata": {},
   "outputs": [],
   "source": [
    "col_mean = np.nanmean(x_test, axis=0)\n",
    "inds = np.where(np.isnan(x_test))\n",
    "\n",
    "#Place column means in the indices. Align the arrays using take\n",
    "x_test[inds] = np.take(col_mean, inds[1])"
   ]
  },
  {
   "cell_type": "code",
   "execution_count": 43,
   "id": "940fdae9",
   "metadata": {},
   "outputs": [
    {
     "data": {
      "text/plain": [
       "array([[-4.72896195e-02, -1.86321013e-01, -1.79353836e+00, ...,\n",
       "         5.43519520e-02,  3.88821646e-01, -1.11295092e+00],\n",
       "       [ 2.66510597e-01, -1.53968041e-01,  1.90779968e-01, ...,\n",
       "        -4.59929977e-02,  9.96349211e-02, -4.83517956e-01],\n",
       "       [ 1.43740169e+00,  2.06124385e+00, -1.66443076e+00, ...,\n",
       "         1.28942931e+00, -6.64092185e-01,  8.49467008e-01],\n",
       "       ...,\n",
       "       [-1.76560454e+00, -1.70972331e+00, -1.02283450e+00, ...,\n",
       "        -1.19226838e+00, -2.63067414e-01,  1.48793984e+00],\n",
       "       [-3.04918679e-01,  6.03498968e-01,  3.61338435e-16, ...,\n",
       "        -4.34870493e-01,  1.18209545e+00, -9.94207718e-01],\n",
       "       [ 9.85193175e-01, -7.11072269e-01, -3.12005895e-01, ...,\n",
       "         7.16952957e-01,  1.08546223e+00,  7.01378190e-01]])"
      ]
     },
     "execution_count": 43,
     "metadata": {},
     "output_type": "execute_result"
    }
   ],
   "source": [
    "x_train"
   ]
  },
  {
   "cell_type": "markdown",
   "id": "f93dd6fa",
   "metadata": {},
   "source": [
    "## Nearest neighbors imputation"
   ]
  },
  {
   "cell_type": "code",
   "execution_count": 13,
   "id": "ab15f9d5",
   "metadata": {},
   "outputs": [],
   "source": [
    "from sklearn.impute import KNNImputer"
   ]
  },
  {
   "cell_type": "code",
   "execution_count": 14,
   "id": "8bd97626",
   "metadata": {},
   "outputs": [],
   "source": [
    "imputer = KNNImputer(n_neighbors=31, weights=\"distance\")"
   ]
  },
  {
   "cell_type": "code",
   "execution_count": null,
   "id": "99179e6c",
   "metadata": {
    "scrolled": true
   },
   "outputs": [],
   "source": [
    "#x_train_kNN = imputer.fit_transform(x_train)\n",
    "#x_test_kNN = imputer.fit_transform(x_test)"
   ]
  },
  {
   "cell_type": "markdown",
   "id": "6daeb897",
   "metadata": {},
   "source": [
    "## normalize"
   ]
  },
  {
   "cell_type": "code",
   "execution_count": 29,
   "id": "c9c90996",
   "metadata": {},
   "outputs": [],
   "source": [
    "from sklearn.preprocessing import StandardScaler"
   ]
  },
  {
   "cell_type": "code",
   "execution_count": 42,
   "id": "6a0ca584",
   "metadata": {},
   "outputs": [],
   "source": [
    "scaler = StandardScaler()\n",
    "scaler.fit(x_train)\n",
    "x_train = scaler.transform(x_train)"
   ]
  },
  {
   "cell_type": "code",
   "execution_count": null,
   "id": "b35f6f2d",
   "metadata": {},
   "outputs": [],
   "source": [
    "#x_train_nor = (x_train - np.mean(x_train, axis=0))/np.std(x_train, axis=0)"
   ]
  },
  {
   "cell_type": "markdown",
   "id": "bc165bdf",
   "metadata": {},
   "source": [
    "## Разбиение обучающей базы на обучающую и тестовую"
   ]
  },
  {
   "cell_type": "code",
   "execution_count": 44,
   "id": "f06d927b",
   "metadata": {},
   "outputs": [
    {
     "name": "stdout",
     "output_type": "stream",
     "text": [
      "X_train_norm.shape, y_train.shape:  (50000, 110) (50000,)\n",
      "X_train.shape, Y_train.shape, X_test.shape, Y_test.shape:  (40000, 110) (40000,) (10000, 110) (10000,)\n"
     ]
    }
   ],
   "source": [
    "from sklearn.model_selection import train_test_split\n",
    "\n",
    "X_train, X_test, Y_train, Y_test = train_test_split(x_train, y_train, test_size=0.2, random_state=0) \n",
    "print('X_train_norm.shape, y_train.shape: ', x_train.shape, y_train.shape)\n",
    "print('X_train.shape, Y_train.shape, X_test.shape, Y_test.shape: ', X_train.shape, Y_train.shape, X_test.shape, Y_test.shape)"
   ]
  },
  {
   "cell_type": "code",
   "execution_count": 50,
   "id": "203d3170",
   "metadata": {},
   "outputs": [],
   "source": [
    "from sklearn import svm\n",
    "from sklearn.svm import SVC"
   ]
  },
  {
   "cell_type": "code",
   "execution_count": 53,
   "id": "ccf5b6d3",
   "metadata": {},
   "outputs": [
    {
     "name": "stdout",
     "output_type": "stream",
     "text": [
      "Accuracy 0.7157\n"
     ]
    }
   ],
   "source": [
    "mod = SVC(kernel = 'linear')\n",
    "mod.fit(X_train,Y_train)\n",
    "r=mod.predict(X_test)\n",
    "print('Accuracy',np.sum(Y_test == r)/len(Y_test))\n"
   ]
  },
  {
   "cell_type": "code",
   "execution_count": 54,
   "id": "3b3b1c81",
   "metadata": {},
   "outputs": [
    {
     "name": "stdout",
     "output_type": "stream",
     "text": [
      "Accuracy 0.7649\n"
     ]
    }
   ],
   "source": [
    "mod = SVC(kernel = 'poly')\n",
    "mod.fit(X_train,Y_train)\n",
    "r=mod.predict(X_test)\n",
    "print('Accuracy',np.sum(Y_test == r)/len(Y_test))"
   ]
  },
  {
   "cell_type": "code",
   "execution_count": 56,
   "id": "b9f6cfce",
   "metadata": {},
   "outputs": [
    {
     "name": "stdout",
     "output_type": "stream",
     "text": [
      "Accuracy 0.7748\n"
     ]
    }
   ],
   "source": [
    "mod = SVC(kernel = 'rbf')\n",
    "mod.fit(X_train,Y_train)\n",
    "r=mod.predict(X_test)\n",
    "print('Accuracy',np.sum(Y_test == r)/len(Y_test))"
   ]
  },
  {
   "cell_type": "markdown",
   "id": "a574f898",
   "metadata": {},
   "source": [
    "## KNeighborsClassifier"
   ]
  },
  {
   "cell_type": "code",
   "execution_count": 12,
   "id": "82cb88b7",
   "metadata": {},
   "outputs": [],
   "source": [
    "from sklearn.neighbors import KNeighborsClassifier"
   ]
  },
  {
   "cell_type": "code",
   "execution_count": 13,
   "id": "652706c7",
   "metadata": {},
   "outputs": [],
   "source": [
    "def fun(dist):\n",
    "    ret = np.ones_like(dist)\n",
    "    k = ret.shape[1]\n",
    "    for i in range(k):\n",
    "        ret[:,i] *=(k-i)/k\n",
    "    return ret\n",
    "    "
   ]
  },
  {
   "cell_type": "code",
   "execution_count": 14,
   "id": "5b2c3bc0",
   "metadata": {},
   "outputs": [],
   "source": [
    "model_kNN = KNeighborsClassifier(n_neighbors=15, weights=fun)"
   ]
  },
  {
   "cell_type": "markdown",
   "id": "dbe98300",
   "metadata": {},
   "source": [
    "## GaussianNB"
   ]
  },
  {
   "cell_type": "code",
   "execution_count": 15,
   "id": "9db1e681",
   "metadata": {},
   "outputs": [],
   "source": [
    "from sklearn.naive_bayes import GaussianNB"
   ]
  },
  {
   "cell_type": "code",
   "execution_count": 16,
   "id": "51068c8c",
   "metadata": {},
   "outputs": [],
   "source": [
    "nb = GaussianNB()"
   ]
  },
  {
   "cell_type": "markdown",
   "id": "1aada11c",
   "metadata": {},
   "source": [
    "## Logistic Regression"
   ]
  },
  {
   "cell_type": "code",
   "execution_count": 17,
   "id": "7b60cf77",
   "metadata": {},
   "outputs": [],
   "source": [
    "from sklearn.linear_model import LogisticRegression\n"
   ]
  },
  {
   "cell_type": "code",
   "execution_count": 18,
   "id": "d4c7b277",
   "metadata": {},
   "outputs": [],
   "source": [
    "LogReg = LogisticRegression(random_state=42, solver='saga',multi_class='multinomial')\n"
   ]
  },
  {
   "cell_type": "markdown",
   "id": "f3b8bfe2",
   "metadata": {},
   "source": [
    "## Kmeans"
   ]
  },
  {
   "cell_type": "code",
   "execution_count": 19,
   "id": "b47fcec4",
   "metadata": {},
   "outputs": [],
   "source": [
    "from sklearn.cluster import KMeans"
   ]
  },
  {
   "cell_type": "code",
   "execution_count": 20,
   "id": "f0f805cd",
   "metadata": {},
   "outputs": [],
   "source": [
    "def clusters(x_train, y_train):\n",
    "    yy = np.array([],dtype=np.int64)\n",
    "    for i in range(10):\n",
    "        \n",
    "        count = 500#int(np.unique(y_train, return_counts=True)[1][i]//1.5)\n",
    "        #print(count)\n",
    "        ind_i = np.where(y_train == i)[0]\n",
    "        kmeans = KMeans(n_clusters=count, random_state=0).fit(x_train[ind_i])\n",
    "        if i == 0:\n",
    "            list_clusters = kmeans.cluster_centers_\n",
    "        else:\n",
    "            list_clusters = np.vstack((list_clusters, kmeans.cluster_centers_))\n",
    "        yy =  np.append(yy, np.array([i]*count))\n",
    "        int_array = yy.astype(int)\n",
    "    return list_clusters, int_array\n",
    "    "
   ]
  },
  {
   "cell_type": "markdown",
   "id": "07eb8f69",
   "metadata": {},
   "source": [
    "## Отступ для разделяющего классификатора+выбор эталонов из test"
   ]
  },
  {
   "cell_type": "code",
   "execution_count": 21,
   "id": "27e1d57e",
   "metadata": {},
   "outputs": [],
   "source": [
    "\n",
    "def marg(prob,Y_test,X_test):\n",
    "    M = np.array([(j[k] - np.max(np.append(j[:k],j[k+1:])))  for j,k in zip(prob,Y_test)])\n",
    "    ind = np.where(M>0.75)\n",
    "    etalon_x  = np.copy(X_test[ind])\n",
    "    etalon_y  = np.copy(Y_test[ind])\n",
    "    M = np.array(sorted(M))\n",
    "    c = list(range(len(M)))\n",
    "    plt.plot(c,M, )\n",
    "    plt.hlines(0,0,len(c),color='black')\n",
    "    plt.fill_between(c, M,where = M<0,color='red',alpha=0.5)\n",
    "    plt.fill_between(c, M,where = M>0,color='green',alpha=0.5)\n",
    "    return [etalon_x,etalon_y]"
   ]
  },
  {
   "cell_type": "markdown",
   "id": "a5be3259",
   "metadata": {},
   "source": [
    "## KFold"
   ]
  },
  {
   "cell_type": "code",
   "execution_count": 32,
   "id": "0b8ac14b",
   "metadata": {},
   "outputs": [],
   "source": [
    "from sklearn.model_selection import KFold"
   ]
  },
  {
   "cell_type": "code",
   "execution_count": 57,
   "id": "0884e493",
   "metadata": {},
   "outputs": [
    {
     "data": {
      "text/plain": [
       "3"
      ]
     },
     "execution_count": 57,
     "metadata": {},
     "output_type": "execute_result"
    }
   ],
   "source": [
    "kf = KFold(n_splits=3)\n",
    "kf.get_n_splits(X_train)"
   ]
  },
  {
   "cell_type": "markdown",
   "id": "ef719068",
   "metadata": {},
   "source": [
    "## LogisticRegression.Сталкиваем классы между собой."
   ]
  },
  {
   "cell_type": "code",
   "execution_count": 2,
   "id": "9544c8cd",
   "metadata": {
    "scrolled": true
   },
   "outputs": [
    {
     "ename": "NameError",
     "evalue": "name 'kf' is not defined",
     "output_type": "error",
     "traceback": [
      "\u001b[1;31m---------------------------------------------------------------------------\u001b[0m",
      "\u001b[1;31mNameError\u001b[0m                                 Traceback (most recent call last)",
      "\u001b[1;32m<ipython-input-2-7989d8d9f5d7>\u001b[0m in \u001b[0;36m<module>\u001b[1;34m\u001b[0m\n\u001b[0;32m      1\u001b[0m \u001b[0mk\u001b[0m \u001b[1;33m=\u001b[0m \u001b[1;36m0\u001b[0m\u001b[1;33m\u001b[0m\u001b[1;33m\u001b[0m\u001b[0m\n\u001b[1;32m----> 2\u001b[1;33m \u001b[1;32mfor\u001b[0m \u001b[0mtrain_index\u001b[0m\u001b[1;33m,\u001b[0m \u001b[0mtest_index\u001b[0m \u001b[1;32min\u001b[0m \u001b[0mkf\u001b[0m\u001b[1;33m.\u001b[0m\u001b[0msplit\u001b[0m\u001b[1;33m(\u001b[0m\u001b[0mX_train\u001b[0m\u001b[1;33m)\u001b[0m\u001b[1;33m:\u001b[0m\u001b[1;33m\u001b[0m\u001b[1;33m\u001b[0m\u001b[0m\n\u001b[0m\u001b[0;32m      3\u001b[0m     \u001b[0mprint\u001b[0m\u001b[1;33m(\u001b[0m\u001b[1;34m\"TRAIN:\"\u001b[0m\u001b[1;33m,\u001b[0m \u001b[0mtrain_index\u001b[0m\u001b[1;33m,\u001b[0m \u001b[1;34m\"TEST:\"\u001b[0m\u001b[1;33m,\u001b[0m \u001b[0mtest_index\u001b[0m\u001b[1;33m)\u001b[0m\u001b[1;33m\u001b[0m\u001b[1;33m\u001b[0m\u001b[0m\n\u001b[0;32m      4\u001b[0m     \u001b[0mX_train_kNN\u001b[0m\u001b[1;33m,\u001b[0m \u001b[0mX_test_kNN\u001b[0m \u001b[1;33m=\u001b[0m \u001b[0mX_train\u001b[0m\u001b[1;33m[\u001b[0m\u001b[0mtrain_index\u001b[0m\u001b[1;33m]\u001b[0m\u001b[1;33m,\u001b[0m \u001b[0mX_train\u001b[0m\u001b[1;33m[\u001b[0m\u001b[0mtest_index\u001b[0m\u001b[1;33m]\u001b[0m\u001b[1;33m\u001b[0m\u001b[1;33m\u001b[0m\u001b[0m\n\u001b[0;32m      5\u001b[0m     \u001b[0mY_train_kNN\u001b[0m\u001b[1;33m,\u001b[0m \u001b[0mY_test_kNN\u001b[0m \u001b[1;33m=\u001b[0m \u001b[0mY_train\u001b[0m\u001b[1;33m[\u001b[0m\u001b[0mtrain_index\u001b[0m\u001b[1;33m]\u001b[0m\u001b[1;33m,\u001b[0m \u001b[0mY_train\u001b[0m\u001b[1;33m[\u001b[0m\u001b[0mtest_index\u001b[0m\u001b[1;33m]\u001b[0m\u001b[1;33m\u001b[0m\u001b[1;33m\u001b[0m\u001b[0m\n",
      "\u001b[1;31mNameError\u001b[0m: name 'kf' is not defined"
     ]
    }
   ],
   "source": [
    "k = 0\n",
    "for train_index, test_index in kf.split(X_train):\n",
    "    print(\"TRAIN:\", train_index, \"TEST:\", test_index)\n",
    "    X_train_kNN, X_test_kNN = X_train[train_index], X_train[test_index]\n",
    "    Y_train_kNN, Y_test_kNN = Y_train[train_index], Y_train[test_index]\n",
    "    models = []\n",
    "    for i in range(0,10):\n",
    "        model = LogReg = LogisticRegression(penalty = 'l1',random_state=0,max_iter=2000, solver = 'saga')\n",
    "        yy = np.array(Y_train_kNN==i,dtype = np.int64)\n",
    "        model.fit(X_train_kNN,yy)\n",
    "        models.append(model)\n",
    "    y_preds = []\n",
    "    for i in range(0,10):\n",
    "            y_pred = models[i].predict(X_test_kNN)\n",
    "            y_preds.append(y_pred)\n",
    "    rr = []\n",
    "    for i in range(np.array(y_preds).shape[1]):\n",
    "        if len(np.where(np.array(y_preds)[:,i] == 1)[0]) == 0:\n",
    "            rr.append(1)\n",
    "        else :\n",
    "            rr.append(np.where(np.array(y_preds)[:,i] == 1)[0][0])\n",
    "    print('Accuracy',np.sum(Y_test_kNN == np.array(rr))/len(Y_test_kNN))\n",
    "    "
   ]
  },
  {
   "cell_type": "code",
   "execution_count": 27,
   "id": "46c681e0",
   "metadata": {},
   "outputs": [
    {
     "data": {
      "text/plain": [
       "[array([0, 0, 0, ..., 0, 0, 0], dtype=int64),\n",
       " array([0, 0, 0, ..., 0, 0, 0], dtype=int64),\n",
       " array([0, 0, 0, ..., 0, 0, 0], dtype=int64),\n",
       " array([0, 0, 0, ..., 0, 0, 1], dtype=int64),\n",
       " array([0, 0, 0, ..., 0, 0, 0], dtype=int64),\n",
       " array([0, 0, 0, ..., 0, 0, 0], dtype=int64),\n",
       " array([0, 0, 0, ..., 0, 0, 0], dtype=int64),\n",
       " array([0, 0, 0, ..., 0, 0, 0], dtype=int64),\n",
       " array([0, 0, 0, ..., 1, 0, 0], dtype=int64),\n",
       " array([0, 0, 1, ..., 0, 0, 0], dtype=int64)]"
      ]
     },
     "execution_count": 27,
     "metadata": {},
     "output_type": "execute_result"
    }
   ],
   "source": [
    "y_preds"
   ]
  },
  {
   "cell_type": "markdown",
   "id": "5cfb941d",
   "metadata": {},
   "source": [
    "## KNN.LogisticRegression.GaussianNB"
   ]
  },
  {
   "cell_type": "code",
   "execution_count": 59,
   "id": "f544d8a3",
   "metadata": {},
   "outputs": [
    {
     "name": "stdout",
     "output_type": "stream",
     "text": [
      "TRAIN: [13334 13335 13336 ... 39997 39998 39999] TEST: [    0     1     2 ... 13331 13332 13333]\n",
      "Accuracy 0.7540122993850308\n",
      "TRAIN: [    0     1     2 ... 39997 39998 39999] TEST: [13334 13335 13336 ... 26664 26665 26666]\n",
      "Accuracy 0.7559438985974649\n",
      "TRAIN: [    0     1     2 ... 26664 26665 26666] TEST: [26667 26668 26669 ... 39997 39998 39999]\n",
      "Accuracy 0.7582689567239181\n"
     ]
    }
   ],
   "source": [
    "k = 0\n",
    "for train_index, test_index in kf.split(X_train):\n",
    "    print(\"TRAIN:\", train_index, \"TEST:\", test_index)\n",
    "    X_train_kNN, X_test_kNN = X_train[train_index], X_train[test_index]\n",
    "    Y_train_kNN, Y_test_kNN = Y_train[train_index], Y_train[test_index]\n",
    "    \n",
    "    mod = SVC(kernel = 'poly')\n",
    "    mod.fit(X_train_kNN,Y_train_kNN)\n",
    "    r=mod.predict(X_test_kNN)\n",
    "    print('Accuracy',np.sum(Y_test_kNN == r)/len(Y_test_kNN))\n",
    "    \n",
    "#Кластеризация\n",
    "    #x_test_kmeans, y_test_kmeans = clusters(X_train_kNN,Y_train_kNN)\n",
    "\n",
    "    #LogReg.fit(x_test_kmeans,y_test_kmeans)\n",
    "    #y_predLogReg_means = LogReg.predict(X_test_kNN)\n",
    "    #print('LogReg_kmeans',np.sum(Y_test_kNN == y_predLogReg_means)/len(Y_test_kNN))\n",
    "    #marg(LogReg.predict_proba(X_test_kNN),Y_test_kNN)\n",
    "\n",
    "    #model_kNN.fit(x_test_kmeans,y_test_kmeans)\n",
    "    #y_predmodel_kNN_means = model_kNN.predict(X_test_kNN)\n",
    "    #print('model_kNN_kmeans',np.sum(Y_test_kNN == y_predmodel_kNN_means)/len(Y_test_kNN))\n",
    "    #marg(model_kNN.predict_proba(X_test_kNN),Y_test_kNN,'model_kNN')\n",
    "\n",
    "    #SGD.fit(x_test_kmeans,y_test_kmeans)\n",
    "    #y_predSGD = SGD.predict(X_test_kNN)\n",
    "    #print('SGD',np.sum(Y_test_kNN == y_predSGD)/len(Y_test_kNN))\n",
    "    #marg(SGD.predict_proba(X_test_kNN),Y_test_kNN)\n",
    "\n",
    "# Выбор эталонов для knn\n",
    "\n",
    "    #model_kNN =  KNeighborsClassifier(n_neighbors=35, weights='distance')\n",
    "    #model_kNN.fit(X_train_kNN,Y_train_kNN)\n",
    "    #y_predmodel_kNN = model_kNN.predict(X_test_kNN)\n",
    "    #print('model_kNN',np.sum(Y_test_kNN == y_predmodel_kNN)/len(Y_test_kNN))\n",
    "    #if k == 0:\n",
    "    #    etalon_x, etalon_y = marg(model_kNN.predict_proba(X_test_kNN),Y_test_kNN,X_test_kNN)\n",
    "    #else:\n",
    "    #    a,b = marg(model_kNN.predict_proba(X_test_kNN),Y_test_kNN,X_test_kNN)\n",
    "    #    np.vstack((etalon_x,a))\n",
    "    #    np.concatenate([etalon_y,b])\n",
    "    #k+=1\n",
    "    \n",
    "#Обычный LogReg,GaussianNB\n",
    "    #LogReg.fit(X_train_kNN,Y_train_kNN)\n",
    "    #y_predLogReg = LogReg.predict(X_test_kNN)\n",
    "    #print('LogReg',np.sum(Y_test_kNN == y_predLogReg)/len(Y_test_kNN))\n",
    "    #marg(LogReg.predict_proba(X_test_kNN),Y_test_kNN)\n",
    "\n",
    "    #nb.fit(X_train_kNN,Y_train_kNN)\n",
    "    #y_prednb = nb.predict(X_test_kNN)\n",
    "    #print('nb',np.sum(Y_test_kNN == y_prednb)/len(Y_test_kNN))\n",
    "     #marg(model_kNN.predict_proba(X_test_kNN),Y_test_kNN)\n",
    "\n"
   ]
  },
  {
   "cell_type": "markdown",
   "id": "d7f462d2",
   "metadata": {},
   "source": [
    "## Подбор параметра для KNN"
   ]
  },
  {
   "cell_type": "code",
   "execution_count": null,
   "id": "bdec15bf",
   "metadata": {
    "scrolled": false
   },
   "outputs": [],
   "source": [
    "x = []\n",
    "y = []\n",
    "mean = 0\n",
    "for k in range(5,125,10):\n",
    "    model_kNN =  KNeighborsClassifier(n_neighbors=k, weights='distance')\n",
    "    print(k)\n",
    "    x.append(k)\n",
    "    mean = 0\n",
    "    for train_index, test_index in kf.split(X_train):\n",
    "        print(\"TRAIN:\", train_index, \"TEST:\", test_index)\n",
    "        X_train_kNN, X_test_kNN = X_train[train_index], X_train[test_index]\n",
    "        Y_train_kNN, Y_test_kNN = Y_train[train_index], Y_train[test_index]\n",
    "        #print('Y_test_kNN',collections.Counter(Y_test_kNN))\n",
    "        #x_test_kmeans, y_test_kmeans = clusters(X_train_kNN,Y_train_kNN)\n",
    "\n",
    "        \n",
    "        model_kNN.fit(X_train_kNN,Y_train_kNN)\n",
    "        y_predmodel_kNN = model_kNN.predict(X_test_kNN)\n",
    "        print('model_kNN',np.sum(Y_test_kNN != y_predmodel_kNN)/len(Y_test_kNN))\n",
    "        mean+=np.sum(Y_test_kNN != y_predmodel_kNN)/len(Y_test_kNN)\n",
    "        print('mean_i',mean)\n",
    "       \n",
    "    y.append(mean/2)\n",
    "    print(y)\n",
    "\n"
   ]
  },
  {
   "cell_type": "code",
   "execution_count": null,
   "id": "d137ad49",
   "metadata": {},
   "outputs": [],
   "source": [
    "plt.plot(x,y,color='green', marker='o', linestyle='dashed',linewidth=2, markersize=6)"
   ]
  },
  {
   "cell_type": "markdown",
   "id": "aee8a227",
   "metadata": {},
   "source": [
    "## Обучение финальной модели.Я выбрал KNN."
   ]
  },
  {
   "cell_type": "code",
   "execution_count": 46,
   "id": "6d7c94ff",
   "metadata": {},
   "outputs": [],
   "source": [
    "model_kNN = KNeighborsClassifier(n_neighbors=15, weights=fun)"
   ]
  },
  {
   "cell_type": "code",
   "execution_count": 30,
   "id": "45b0b533",
   "metadata": {},
   "outputs": [],
   "source": [
    "model_kNN.fit(x_train, y_train)\n",
    "res = model_kNN.predict(x_test)\n",
    "#print(np.sum(Y_test == y_pred)/len(Y_test))"
   ]
  },
  {
   "cell_type": "markdown",
   "id": "70220a4e",
   "metadata": {},
   "source": [
    "## sample_sabmission"
   ]
  },
  {
   "cell_type": "code",
   "execution_count": 31,
   "id": "828f59e7",
   "metadata": {},
   "outputs": [],
   "source": [
    "col = np.array(range(0,10000))"
   ]
  },
  {
   "cell_type": "code",
   "execution_count": 32,
   "id": "abf41308",
   "metadata": {},
   "outputs": [
    {
     "name": "stdout",
     "output_type": "stream",
     "text": [
      "[[   0    4]\n",
      " [   1    7]\n",
      " [   2    3]\n",
      " ...\n",
      " [9997    1]\n",
      " [9998    3]\n",
      " [9999    2]]\n"
     ]
    }
   ],
   "source": [
    "result = np.c_[col,res]\n",
    "print(result)"
   ]
  },
  {
   "cell_type": "code",
   "execution_count": 33,
   "id": "c3b09c7b",
   "metadata": {},
   "outputs": [],
   "source": [
    "with open(\"sample_sabmission.csv\", \"wb\") as f:\n",
    "    f.write(b'id,label\\n')\n",
    "    np.savetxt(f, result.astype(int), fmt='%i', delimiter=\",\")"
   ]
  }
 ],
 "metadata": {
  "kernelspec": {
   "display_name": "Python 3",
   "language": "python",
   "name": "python3"
  },
  "language_info": {
   "codemirror_mode": {
    "name": "ipython",
    "version": 3
   },
   "file_extension": ".py",
   "mimetype": "text/x-python",
   "name": "python",
   "nbconvert_exporter": "python",
   "pygments_lexer": "ipython3",
   "version": "3.8.8"
  }
 },
 "nbformat": 4,
 "nbformat_minor": 5
}
