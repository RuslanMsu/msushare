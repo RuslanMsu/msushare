{
 "cells": [
  {
   "cell_type": "code",
   "execution_count": 1,
   "id": "87b199f0",
   "metadata": {},
   "outputs": [],
   "source": [
    "import numpy as np\n",
    "import matplotlib.pyplot as plt\n",
    "from sklearn.preprocessing import StandardScaler\n",
    "from sklearn.model_selection import train_test_split\n",
    "from sklearn.linear_model import LogisticRegression\n",
    "from sklearn.model_selection import KFold\n",
    "from sklearn.neighbors import KNeighborsClassifier\n",
    "from sklearn.cluster import KMeans\n"
   ]
  },
  {
   "cell_type": "code",
   "execution_count": 2,
   "id": "edd80d2e",
   "metadata": {},
   "outputs": [],
   "source": [
    "def load_train_data(fileName):\n",
    "    w = np.genfromtxt(fileName, delimiter=',')\n",
    "    x_train = w[1:,1:-1]\n",
    "    y_train = w[1:,-1].astype(int)\n",
    "    return x_train, y_train\n",
    "    \n",
    "def load_test_data(fileName):\n",
    "    w = np.genfromtxt(fileName, delimiter=',')\n",
    "    x_test = w[1:,1:]\n",
    "    return x_test"
   ]
  },
  {
   "cell_type": "code",
   "execution_count": 3,
   "id": "30960fe4",
   "metadata": {},
   "outputs": [],
   "source": [
    "x_train, y_train = load_train_data('train.csv')\n",
    "x_test = load_test_data('test.csv')"
   ]
  },
  {
   "cell_type": "code",
   "execution_count": 4,
   "id": "23883e4c",
   "metadata": {},
   "outputs": [],
   "source": [
    "col_mean = np.nanmean(x_test, axis=0)\n",
    "inds = np.where(np.isnan(x_test))\n",
    "x_test[inds] = np.take(col_mean, inds[1])\n"
   ]
  },
  {
   "cell_type": "code",
   "execution_count": 5,
   "id": "feb5d8a8",
   "metadata": {},
   "outputs": [],
   "source": [
    "col_mean = np.nanmean(x_train, axis=0)\n",
    "inds = np.where(np.isnan(x_train))\n",
    "x_train[inds] = np.take(col_mean, inds[1])\n"
   ]
  },
  {
   "cell_type": "code",
   "execution_count": 6,
   "id": "5cc2ec69",
   "metadata": {},
   "outputs": [],
   "source": [
    "def fun(dist):\n",
    "    ret = np.ones_like(dist)\n",
    "    k = ret.shape[1]\n",
    "    for i in range(k):\n",
    "        ret[:,i] *=(k-i)/k\n",
    "    return ret\n",
    "    "
   ]
  },
  {
   "cell_type": "code",
   "execution_count": 7,
   "id": "4b5e0d73",
   "metadata": {},
   "outputs": [
    {
     "name": "stdout",
     "output_type": "stream",
     "text": [
      "[[   0    4]\n",
      " [   1    7]\n",
      " [   2    3]\n",
      " ...\n",
      " [9997    1]\n",
      " [9998    3]\n",
      " [9999    2]]\n"
     ]
    }
   ],
   "source": [
    "model =  KNeighborsClassifier(n_neighbors=25, weights=fun)\n",
    "model.fit(x_train, y_train)\n",
    "res = model.predict(x_test)\n",
    "#print(np.sum(Y_test == y_pred)/len(Y_test))\n",
    "col = np.array(range(0,10000))\n",
    "result = np.c_[col,res]\n",
    "print(result)\n",
    "with open(\"ostapets_ruslan.csv\", \"wb\") as f:\n",
    "    f.write(b'id,label\\n')\n",
    "    np.savetxt(f, result.astype(int), fmt='%i', delimiter=\",\")"
   ]
  }
 ],
 "metadata": {
  "kernelspec": {
   "display_name": "Python 3",
   "language": "python",
   "name": "python3"
  },
  "language_info": {
   "codemirror_mode": {
    "name": "ipython",
    "version": 3
   },
   "file_extension": ".py",
   "mimetype": "text/x-python",
   "name": "python",
   "nbconvert_exporter": "python",
   "pygments_lexer": "ipython3",
   "version": "3.8.8"
  }
 },
 "nbformat": 4,
 "nbformat_minor": 5
}
