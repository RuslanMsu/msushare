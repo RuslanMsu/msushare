{
 "cells": [
  {
   "cell_type": "code",
   "execution_count": 29,
   "id": "20a630b7",
   "metadata": {},
   "outputs": [],
   "source": [
    "import numpy as np\n",
    "import matplotlib.pyplot as plt\n",
    "from sklearn.preprocessing import StandardScaler\n",
    "from sklearn.model_selection import train_test_split\n",
    "from sklearn.linear_model import LogisticRegression\n",
    "from sklearn.model_selection import KFold\n",
    "from sklearn.neighbors import KNeighborsClassifier\n",
    "from sklearn.cluster import KMeans\n"
   ]
  },
  {
   "cell_type": "code",
   "execution_count": 30,
   "id": "281b5acb",
   "metadata": {},
   "outputs": [],
   "source": [
    "def load_train_data(fileName):\n",
    "    w = np.genfromtxt(fileName, delimiter=',')\n",
    "    x_train = w[1:,1:-1]\n",
    "    y_train = w[1:,-1].astype(int)\n",
    "    return x_train, y_train\n",
    "    \n",
    "def load_test_data(fileName):\n",
    "    w = np.genfromtxt(fileName, delimiter=',')\n",
    "    x_test = w[1:,1:]\n",
    "    return x_test"
   ]
  },
  {
   "cell_type": "code",
   "execution_count": 31,
   "id": "d3b75b5d",
   "metadata": {},
   "outputs": [],
   "source": [
    "def marg(prob,Y_test):\n",
    "    M = np.array([(j[k] - np.max(np.append(j[:k],j[k+1:])))  for j,k in zip(prob,Y_test)])\n",
    "    ind = np.where(M>0.75)\n",
    "    M = np.array(sorted(M))\n",
    "    c = list(range(len(M)))\n",
    "    plt.plot(c,M, )\n",
    "    plt.hlines(0,0,len(c),color='black')\n",
    "    plt.fill_between(c, M,where = M<0,color='red',alpha=0.5)\n",
    "    plt.fill_between(c, M,where = M>0,color='green',alpha=0.5)\n"
   ]
  },
  {
   "cell_type": "code",
   "execution_count": 32,
   "id": "91bb52b9",
   "metadata": {},
   "outputs": [],
   "source": [
    "\n",
    "def marg_et(prob,Y_test,X_test):\n",
    "    print(Y_test)\n",
    "    M = np.array([(j[k] - np.max(np.append(j[:k],j[k+1:])))  for j,k in zip(prob,Y_test)])\n",
    "    ind = np.where(M>0.5)\n",
    "    etalon_x  = np.copy(X_test[ind])\n",
    "    etalon_y  = np.copy(Y_test[ind])\n",
    "    M = np.array(sorted(M))\n",
    "    c = list(range(len(M)))\n",
    "    plt.plot(c,M, )\n",
    "    plt.hlines(0,0,len(c),color='black')\n",
    "    plt.fill_between(c, M,where = M<0,color='red',alpha=0.5)\n",
    "    plt.fill_between(c, M,where = M>0,color='green',alpha=0.5)\n",
    "    return [etalon_x,etalon_y]"
   ]
  },
  {
   "cell_type": "code",
   "execution_count": 33,
   "id": "4fff713a",
   "metadata": {},
   "outputs": [],
   "source": [
    "def clusters(x_train, y_train):\n",
    "    yy = np.array([],dtype=np.int64)\n",
    "    for i in range(10):\n",
    "        \n",
    "        count = 1000#int(np.unique(y_train, return_counts=True)[1][i]//1.5)\n",
    "        #print(count)\n",
    "        ind_i = np.where(y_train == i)[0]\n",
    "        kmeans = KMeans(n_clusters=count, random_state=0).fit(x_train[ind_i])\n",
    "        if i == 0:\n",
    "            list_clusters = kmeans.cluster_centers_\n",
    "        else:\n",
    "            list_clusters = np.vstack((list_clusters, kmeans.cluster_centers_))\n",
    "        yy =  np.append(yy, np.array([i]*count))\n",
    "        int_array = yy.astype(int)\n",
    "    return list_clusters, int_array\n",
    "    "
   ]
  },
  {
   "cell_type": "code",
   "execution_count": 34,
   "id": "0b1e3d99",
   "metadata": {},
   "outputs": [],
   "source": [
    "x_train, y_train = load_train_data('train.csv')"
   ]
  },
  {
   "cell_type": "code",
   "execution_count": 35,
   "id": "ec80c545",
   "metadata": {},
   "outputs": [],
   "source": [
    "x_test = load_test_data('test.csv')"
   ]
  },
  {
   "cell_type": "code",
   "execution_count": 36,
   "id": "3303bdd6",
   "metadata": {},
   "outputs": [],
   "source": [
    "col_mean = np.nanmean(x_test, axis=0)\n",
    "inds = np.where(np.isnan(x_test))\n",
    "\n",
    "#Place column means in the indices. Align the arrays using take\n",
    "x_test[inds] = np.take(col_mean, inds[1])\n"
   ]
  },
  {
   "cell_type": "code",
   "execution_count": 37,
   "id": "306d6928",
   "metadata": {},
   "outputs": [],
   "source": [
    "col_mean = np.nanmean(x_train, axis=0)\n",
    "inds = np.where(np.isnan(x_train))\n",
    "\n",
    "#Place column means in the indices. Align the arrays using take\n",
    "x_train[inds] = np.take(col_mean, inds[1])\n"
   ]
  },
  {
   "cell_type": "code",
   "execution_count": null,
   "id": "7cac40f3",
   "metadata": {},
   "outputs": [],
   "source": []
  },
  {
   "cell_type": "code",
   "execution_count": 38,
   "id": "f6ac3767",
   "metadata": {
    "scrolled": false
   },
   "outputs": [
    {
     "name": "stdout",
     "output_type": "stream",
     "text": [
      "X_train_norm.shape, y_train.shape:  (50000, 110) (50000,)\n",
      "X_train.shape, Y_train.shape, X_test.shape, Y_test.shape:  (40000, 110) (40000,) (10000, 110) (10000,)\n"
     ]
    }
   ],
   "source": [
    "\n",
    "X_train, X_test, Y_train, Y_test = train_test_split(x_train, y_train, test_size=0.2, random_state=0) \n",
    "print('X_train_norm.shape, y_train.shape: ', x_train.shape, y_train.shape)\n",
    "print('X_train.shape, Y_train.shape, X_test.shape, Y_test.shape: ', X_train.shape, Y_train.shape, X_test.shape, Y_test.shape)"
   ]
  },
  {
   "cell_type": "code",
   "execution_count": 39,
   "id": "2085aea2",
   "metadata": {},
   "outputs": [
    {
     "data": {
      "text/plain": [
       "3"
      ]
     },
     "execution_count": 39,
     "metadata": {},
     "output_type": "execute_result"
    }
   ],
   "source": [
    "kf = KFold(n_splits=3)\n",
    "kf.get_n_splits(X_train)"
   ]
  },
  {
   "cell_type": "code",
   "execution_count": null,
   "id": "be27ee93",
   "metadata": {},
   "outputs": [],
   "source": [
    "X_train.shape"
   ]
  },
  {
   "cell_type": "code",
   "execution_count": null,
   "id": "1a4e7b42",
   "metadata": {},
   "outputs": [],
   "source": []
  },
  {
   "cell_type": "markdown",
   "id": "abc20cc5",
   "metadata": {},
   "source": [
    "## Logistic Regression.Один против всех"
   ]
  },
  {
   "cell_type": "code",
   "execution_count": null,
   "id": "2d59c5a7",
   "metadata": {
    "scrolled": false
   },
   "outputs": [],
   "source": [
    "Accuracy = 0\n",
    "for train_index, test_index in kf.split(X_train):\n",
    "    #print(\"TRAIN:\", train_index, \"TEST:\", test_index)\n",
    "    X_train_v, X_test_v = X_train[train_index], X_train[test_index]\n",
    "    Y_train_v, Y_test_v = Y_train[train_index], Y_train[test_index]\n",
    "    \n",
    "    \n",
    "    scaler = StandardScaler()\n",
    "    scaler.fit(X_train_v)\n",
    "    X_train_v = scaler.transform(X_train_v)\n",
    "    X_test_v = scaler.transform(X_test_v)\n",
    "    \n",
    "    X_train_v, Y_train_v = clusters(X_train_v,Y_train_v)\n",
    "    #print(X_train_v)\n",
    "    models = []\n",
    "    for i in range(0,10):\n",
    "        model = LogisticRegression(random_state=0,max_iter=200,solver = 'sag')\n",
    "        yy = np.array(Y_train_v==i,dtype = np.int64)\n",
    "        model.fit(X_train_v,yy)\n",
    "        models.append(model)\n",
    "    y_preds = []\n",
    "    for i in range(0,10):\n",
    "        y_pred = models[i].predict_proba(X_test_v)\n",
    "        y_preds.append(y_pred)\n",
    "    y_preds = np.array(y_preds)\n",
    "    res = np.hstack((y_preds[0:10,:,-1:][0],y_preds[0:10,:,-1:][1]))\n",
    "    for i in range(2,10):\n",
    "        res = np.hstack((res,y_preds[0:10,:,-1:][i]))\n",
    "    marg(res,Y_test_v)\n",
    "    amswer = np.argmax(res, axis=1)\n",
    "    #print('Accuracy',np.sum(Y_test_v == amswer)/len(Y_test_v))\n",
    "    Accuracy+=np.sum(Y_test_v == amswer)/len(Y_test_v)\n",
    "print('Accuracy',Accuracy/kf.get_n_splits(X_train))"
   ]
  },
  {
   "cell_type": "code",
   "execution_count": 56,
   "id": "44a8891a",
   "metadata": {},
   "outputs": [
    {
     "name": "stdout",
     "output_type": "stream",
     "text": [
      "0.6789410529473526\n",
      "1.3580080296217694\n",
      "2.0386500456721706\n",
      "Accuracy 0.6795500152240569\n"
     ]
    }
   ],
   "source": [
    "Accuracy = 0\n",
    "for train_index, test_index in kf.split(X_train):\n",
    "    #print(\"TRAIN:\", train_index, \"TEST:\", test_index)\n",
    "    X_train_v, X_test_v = X_train[train_index], X_train[test_index]\n",
    "    Y_train_v, Y_test_v = Y_train[train_index], Y_train[test_index]\n",
    "    \n",
    "    clusters\n",
    "\n",
    "    #scaler = StandardScaler()\n",
    "    #scaler.fit(X_train_v)\n",
    "    #X_train_v = scaler.transform(X_train_v)\n",
    "    #X_test_v = scaler.transform(X_test_v)\n",
    "    #print(X_train_v)\n",
    "    \n",
    "    model = LogisticRegression(solver=\"sag\", max_iter=1000, random_state=42, multi_class='multinomial')\n",
    "    model.fit(X_train_v,Y_train_v)\n",
    "    amswer = model.predict(X_test_v)\n",
    "    #marg(res,Y_test_v)\n",
    "    #amswer = np.argmax(res, axis=1)\n",
    "    #print('Accuracy',np.sum(Y_test_v == amswer)/len(Y_test_v))\n",
    "    Accuracy+=np.sum(Y_test_v == amswer)/len(Y_test_v)\n",
    "    print(Accuracy)\n",
    "print('Accuracy',Accuracy/kf.get_n_splits(X_train))"
   ]
  },
  {
   "cell_type": "code",
   "execution_count": null,
   "id": "9e8b72e5",
   "metadata": {},
   "outputs": [],
   "source": [
    "Accuracy = 0\n",
    "for train_index, test_index in kf.split(X_train):\n",
    "    #print(\"TRAIN:\", train_index, \"TEST:\", test_index)\n",
    "    X_train_v, X_test_v = X_train[train_index], X_train[test_index]\n",
    "    Y_train_v, Y_test_v = Y_train[train_index], Y_train[test_index]\n",
    "    \n",
    "    \n",
    "    scaler = StandardScaler()\n",
    "    scaler.fit(X_train_v)\n",
    "    X_train_v = scaler.transform(X_train_v)\n",
    "    X_test_v = scaler.transform(X_test_v)\n",
    "    \n",
    "    X_train_v, Y_train_v = clusters(X_train_v,Y_train_v)\n",
    "    #print(X_train_v)\n",
    "    models = []\n",
    "    for i in range(0,10):\n",
    "        model =  Perceptron( random_state=42)\n",
    "        yy = np.array(Y_train_v==i,dtype = np.int64)\n",
    "        model.fit(X_train_v,yy)\n",
    "        models.append(model)\n",
    "    y_preds = []\n",
    "    for i in range(0,10):\n",
    "        y_pred = models[i].predict_proba(X_test_v)\n",
    "        y_preds.append(y_pred)\n",
    "    y_preds = np.array(y_preds)\n",
    "    res = np.hstack((y_preds[0:10,:,-1:][0],y_preds[0:10,:,-1:][1]))\n",
    "    for i in range(2,10):\n",
    "        res = np.hstack((res,y_preds[0:10,:,-1:][i]))\n",
    "    marg(res,Y_test_v)\n",
    "    amswer = np.argmax(res, axis=1)\n",
    "    #print('Accuracy',np.sum(Y_test_v == amswer)/len(Y_test_v))\n",
    "    Accuracy+=np.sum(Y_test_v == amswer)/len(Y_test_v)\n",
    "print('Accuracy',Accuracy/kf.get_n_splits(X_train))"
   ]
  },
  {
   "cell_type": "code",
   "execution_count": 55,
   "id": "4b1652cc",
   "metadata": {},
   "outputs": [
    {
     "name": "stdout",
     "output_type": "stream",
     "text": [
      "0.7692365381730913\n",
      "1.5380057574035721\n",
      "2.3066249728839594\n",
      "Accuracy 0.7688749909613198\n"
     ]
    }
   ],
   "source": [
    "from sklearn.linear_model import Perceptron\n",
    "from sklearn.naive_bayes import GaussianNB\n",
    "from sklearn.linear_model import RidgeClassifier\n",
    "from sklearn.svm import SVC\n",
    "\n",
    "\n",
    "\n",
    "Accuracy = 0\n",
    "for train_index, test_index in kf.split(X_train):\n",
    "    #print(\"TRAIN:\", train_index, \"TEST:\", test_index)\n",
    "    X_train_v, X_test_v = X_train[train_index], X_train[test_index]\n",
    "    Y_train_v, Y_test_v = Y_train[train_index], Y_train[test_index]\n",
    "    \n",
    "\n",
    "    #print(X_train_v)\n",
    "    \n",
    "    model_SVC = SVC(random_state = 42, C=1.0, kernel ='poly',gamma='scale')\n",
    "    model_KNN = KNeighborsClassifier(n_neighbors=25, weights=fun)\n",
    "    model_LR = LogisticRegression(solver=\"sag\", max_iter=1000, random_state=42, multi_class='multinomial')\n",
    "\n",
    "    \n",
    "    model_SVC.fit(X_train_v,Y_train_v)\n",
    "    model_KNN.fit(X_train_v,Y_train_v)\n",
    "    model_LR.fit(X_train_v,Y_train_v)\n",
    "    \n",
    "    amswer_svc = model_SVC.predict(X_test_v)\n",
    "    amswer_knn = model_KNN.predict(X_test_v)\n",
    "    amswer_lr = model_LR.predict(X_test_v)\n",
    "    \n",
    "    amswer = np.vstack((np.vstack((amswer_svc,amswer_knn)),amswer_lr))\n",
    "    amswer = np.array(mostCommon(amswer))\n",
    "    \n",
    "    Accuracy+=np.sum(Y_test_v == amswer)/len(Y_test_v)\n",
    "    print(Accuracy)\n",
    "print('Accuracy',Accuracy/kf.get_n_splits(X_train))\n"
   ]
  },
  {
   "cell_type": "code",
   "execution_count": 46,
   "id": "920c9b13",
   "metadata": {},
   "outputs": [],
   "source": [
    "x = np.array([1,2,3])\n",
    "y = np.array([1,1,3])\n",
    "z = np.array([3,2,3])"
   ]
  },
  {
   "cell_type": "code",
   "execution_count": 47,
   "id": "81d72589",
   "metadata": {},
   "outputs": [],
   "source": [
    "res = np.vstack((np.vstack((x,y)),z))"
   ]
  },
  {
   "cell_type": "code",
   "execution_count": 51,
   "id": "07b74f04",
   "metadata": {},
   "outputs": [],
   "source": [
    "def mostCommon(lst):\n",
    "    return [Counter(col).most_common(1)[0][0] for col in zip(*lst)]"
   ]
  },
  {
   "cell_type": "code",
   "execution_count": 53,
   "id": "50db4f38",
   "metadata": {
    "scrolled": true
   },
   "outputs": [
    {
     "data": {
      "text/plain": [
       "array([1, 2, 3])"
      ]
     },
     "execution_count": 53,
     "metadata": {},
     "output_type": "execute_result"
    }
   ],
   "source": [
    "np.array(mostCommon(res))"
   ]
  },
  {
   "cell_type": "code",
   "execution_count": 50,
   "id": "6fae0199",
   "metadata": {},
   "outputs": [
    {
     "data": {
      "text/plain": [
       "Counter({3: 3})"
      ]
     },
     "execution_count": 50,
     "metadata": {},
     "output_type": "execute_result"
    }
   ],
   "source": [
    "b"
   ]
  },
  {
   "cell_type": "code",
   "execution_count": 27,
   "id": "15293ab7",
   "metadata": {
    "scrolled": true
   },
   "outputs": [],
   "source": [
    "res = np.max(res, axis=0)"
   ]
  },
  {
   "cell_type": "code",
   "execution_count": 28,
   "id": "407d31da",
   "metadata": {},
   "outputs": [
    {
     "data": {
      "text/plain": [
       "array([3, 2, 3])"
      ]
     },
     "execution_count": 28,
     "metadata": {},
     "output_type": "execute_result"
    }
   ],
   "source": [
    "res"
   ]
  },
  {
   "cell_type": "markdown",
   "id": "7149a44d",
   "metadata": {},
   "source": [
    "## KNN"
   ]
  },
  {
   "cell_type": "code",
   "execution_count": 43,
   "id": "6a2c0071",
   "metadata": {},
   "outputs": [],
   "source": [
    "def fun(dist):\n",
    "    ret = np.ones_like(dist)\n",
    "    k = ret.shape[1]\n",
    "    for i in range(k):\n",
    "        ret[:,i] *=(k-i)/k\n",
    "    return ret\n",
    "    "
   ]
  },
  {
   "cell_type": "code",
   "execution_count": null,
   "id": "5756dba2",
   "metadata": {},
   "outputs": [],
   "source": [
    "scaler = StandardScaler()\n",
    "scaler.fit(X_train)\n",
    "X_train_t = scaler.transform(X_train)\n",
    "X_test_t = scaler.transform(X_test)\n",
    "    #print(X_train_v)\n",
    "\n",
    "model =  SVC(random_state = 42, C=1.0, kernel ='poly',gamma='scale')\n",
    "model.fit(X_train_t,Y_train)\n",
    "res = model.predict(X_test_t)\n",
    "Accuracy=np.sum(Y_test == res)/len(Y_test)\n",
    "\n"
   ]
  },
  {
   "cell_type": "code",
   "execution_count": null,
   "id": "e8bf2b41",
   "metadata": {},
   "outputs": [],
   "source": [
    "print(Accuracy)"
   ]
  },
  {
   "cell_type": "code",
   "execution_count": null,
   "id": "624de2d7",
   "metadata": {},
   "outputs": [],
   "source": [
    "c = 1 0.7777"
   ]
  },
  {
   "cell_type": "code",
   "execution_count": null,
   "id": "8e749abb",
   "metadata": {},
   "outputs": [],
   "source": [
    "model =  KNeighborsClassifier(n_neighbors=25, weights=fun)\n",
    "model.fit(x_train, y_train)\n",
    "res = model.predict(x_test)\n",
    "#print(np.sum(Y_test == y_pred)/len(Y_test))\n",
    "col = np.array(range(0,10000))\n",
    "result = np.c_[col,res]\n",
    "print(result)\n",
    "with open(\"sample_sabmission.csv\", \"wb\") as f:\n",
    "    f.write(b'id,label\\n')\n",
    "    np.savetxt(f, result.astype(int), fmt='%i', delimiter=\",\")"
   ]
  }
 ],
 "metadata": {
  "kernelspec": {
   "display_name": "Python 3",
   "language": "python",
   "name": "python3"
  },
  "language_info": {
   "codemirror_mode": {
    "name": "ipython",
    "version": 3
   },
   "file_extension": ".py",
   "mimetype": "text/x-python",
   "name": "python",
   "nbconvert_exporter": "python",
   "pygments_lexer": "ipython3",
   "version": "3.8.8"
  }
 },
 "nbformat": 4,
 "nbformat_minor": 5
}
