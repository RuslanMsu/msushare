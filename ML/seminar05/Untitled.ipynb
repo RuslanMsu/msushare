{
 "cells": [
  {
   "cell_type": "markdown",
   "id": "95a123cc",
   "metadata": {},
   "source": [
    "## data"
   ]
  },
  {
   "cell_type": "code",
   "execution_count": 42,
   "id": "1ae9aca1",
   "metadata": {},
   "outputs": [],
   "source": [
    "import matplotlib.pyplot as plt \n",
    "import numpy as np\n",
    "import sklearn.metrics\n",
    "%matplotlib inline"
   ]
  },
  {
   "cell_type": "code",
   "execution_count": 23,
   "id": "2463c5b3",
   "metadata": {},
   "outputs": [],
   "source": [
    "with open('y_pred.txt') as f:\n",
    "    lines = f.readlines()\n",
    "y_pred = [int(i[:-1]) for i in lines]\n",
    "y_pred = np.array(y_pred)\n",
    "with open('y_true.txt') as f:\n",
    "    lines = f.readlines()\n",
    "y_true = [int(i[:-1]) for i in lines]\n",
    "y_true = np.array(y_true)\n"
   ]
  },
  {
   "cell_type": "code",
   "execution_count": 24,
   "id": "a0dd13f1",
   "metadata": {
    "scrolled": true
   },
   "outputs": [
    {
     "name": "stdout",
     "output_type": "stream",
     "text": [
      "y_pred [ 1 -1 -1  1 -1  1 -1  1 -1  1]\n",
      "y_true [-1 -1  1  1 -1 -1 -1  1  1 -1]\n"
     ]
    }
   ],
   "source": [
    "print('y_pred',y_pred)\n",
    "print('y_true',y_true)"
   ]
  },
  {
   "cell_type": "code",
   "execution_count": 32,
   "id": "4ae75dee",
   "metadata": {},
   "outputs": [
    {
     "data": {
      "text/plain": [
       "(array([0, 3, 5, 7, 9], dtype=int64),)"
      ]
     },
     "execution_count": 32,
     "metadata": {},
     "output_type": "execute_result"
    }
   ],
   "source": [
    "ind_poz = np.where(y_pred == 1)\n",
    "ind_poz"
   ]
  },
  {
   "cell_type": "code",
   "execution_count": 33,
   "id": "74eb94a5",
   "metadata": {},
   "outputs": [
    {
     "data": {
      "text/plain": [
       "2"
      ]
     },
     "execution_count": 33,
     "metadata": {},
     "output_type": "execute_result"
    }
   ],
   "source": [
    "np.sum(y_true[np.where(y_pred == 1)]==1)"
   ]
  },
  {
   "cell_type": "code",
   "execution_count": 35,
   "id": "57471a94",
   "metadata": {},
   "outputs": [],
   "source": [
    "tp = np.sum(y_true[np.where(y_pred == 1)]==1)\n",
    "tn = np.sum(y_true[np.where(y_pred == -1)]==-1)\n",
    "fp = np.sum(y_true[np.where(y_pred == 1)]==-1)\n",
    "fn = np.sum(y_true[np.where(y_pred == -1)]==1)"
   ]
  },
  {
   "cell_type": "code",
   "execution_count": 36,
   "id": "57fd04d0",
   "metadata": {},
   "outputs": [
    {
     "name": "stdout",
     "output_type": "stream",
     "text": [
      "tp 2\n",
      "tn 3\n",
      "fp 3\n",
      "fn 2\n"
     ]
    }
   ],
   "source": [
    "print('tp',tp)\n",
    "print('tn',tn)\n",
    "print('fp',fp)\n",
    "print('fn',fn)\n"
   ]
  },
  {
   "cell_type": "markdown",
   "id": "d9e208d1",
   "metadata": {},
   "source": [
    "## accuracy"
   ]
  },
  {
   "cell_type": "code",
   "execution_count": 37,
   "id": "8a2ee855",
   "metadata": {
    "scrolled": false
   },
   "outputs": [
    {
     "name": "stdout",
     "output_type": "stream",
     "text": [
      "acc 0.5\n"
     ]
    }
   ],
   "source": [
    "acc = (tp+tn)/(tp+tn+fp+fn)\n",
    "print('acc',acc)\n"
   ]
  },
  {
   "cell_type": "code",
   "execution_count": 38,
   "id": "67acdb2e",
   "metadata": {},
   "outputs": [],
   "source": [
    "from sklearn.metrics import accuracy_score"
   ]
  },
  {
   "cell_type": "code",
   "execution_count": 39,
   "id": "d17e3b96",
   "metadata": {},
   "outputs": [
    {
     "data": {
      "text/plain": [
       "0.5"
      ]
     },
     "execution_count": 39,
     "metadata": {},
     "output_type": "execute_result"
    }
   ],
   "source": [
    "accuracy_score(y_true, y_pred)"
   ]
  },
  {
   "cell_type": "code",
   "execution_count": null,
   "id": "f70ce684",
   "metadata": {},
   "outputs": [],
   "source": []
  },
  {
   "cell_type": "markdown",
   "id": "e118d723",
   "metadata": {},
   "source": [
    "##  False Positive Rate"
   ]
  },
  {
   "cell_type": "code",
   "execution_count": 40,
   "id": "efde3ec1",
   "metadata": {},
   "outputs": [
    {
     "name": "stdout",
     "output_type": "stream",
     "text": [
      "0.5\n"
     ]
    }
   ],
   "source": [
    "fpr = fp/np.sum(y_true==-1)\n",
    "print(fpr)"
   ]
  },
  {
   "cell_type": "markdown",
   "id": "28c8c246",
   "metadata": {},
   "source": [
    "##  True Positive Rate"
   ]
  },
  {
   "cell_type": "code",
   "execution_count": 41,
   "id": "00e59d02",
   "metadata": {
    "scrolled": true
   },
   "outputs": [
    {
     "name": "stdout",
     "output_type": "stream",
     "text": [
      "0.5\n"
     ]
    }
   ],
   "source": [
    "tpr = tp/np.sum(y_true==1)\n",
    "print(fpr)"
   ]
  },
  {
   "cell_type": "code",
   "execution_count": null,
   "id": "01ffabc0",
   "metadata": {},
   "outputs": [],
   "source": []
  },
  {
   "cell_type": "markdown",
   "id": "262dafdc",
   "metadata": {},
   "source": [
    "## True Negative Rate"
   ]
  },
  {
   "cell_type": "code",
   "execution_count": 46,
   "id": "b4e4d62e",
   "metadata": {},
   "outputs": [
    {
     "name": "stdout",
     "output_type": "stream",
     "text": [
      "0.5\n"
     ]
    }
   ],
   "source": [
    "tnr = tn/np.sum(y_true==-1)\n",
    "print(tnr)"
   ]
  },
  {
   "cell_type": "markdown",
   "id": "ccb86e03",
   "metadata": {},
   "source": [
    "## False Negative Rate"
   ]
  },
  {
   "cell_type": "code",
   "execution_count": 45,
   "id": "95144b75",
   "metadata": {},
   "outputs": [
    {
     "name": "stdout",
     "output_type": "stream",
     "text": [
      "0.5\n"
     ]
    }
   ],
   "source": [
    "fnr = fn/np.sum(y_true==1)\n",
    "print(fpr)"
   ]
  },
  {
   "cell_type": "markdown",
   "id": "c76930f5",
   "metadata": {},
   "source": [
    "## Precision"
   ]
  },
  {
   "cell_type": "code",
   "execution_count": 47,
   "id": "c7d5f296",
   "metadata": {},
   "outputs": [
    {
     "data": {
      "text/plain": [
       "0.4"
      ]
     },
     "execution_count": 47,
     "metadata": {},
     "output_type": "execute_result"
    }
   ],
   "source": [
    "pre = tp/(tp+fp)\n",
    "pre"
   ]
  },
  {
   "cell_type": "markdown",
   "id": "08e76041",
   "metadata": {},
   "source": [
    "## Recall"
   ]
  },
  {
   "cell_type": "code",
   "execution_count": 48,
   "id": "da2b9011",
   "metadata": {},
   "outputs": [
    {
     "data": {
      "text/plain": [
       "0.5"
      ]
     },
     "execution_count": 48,
     "metadata": {},
     "output_type": "execute_result"
    }
   ],
   "source": [
    "rec = tp/(tp +fn)\n",
    "rec"
   ]
  },
  {
   "cell_type": "code",
   "execution_count": 49,
   "id": "c93f7a53",
   "metadata": {},
   "outputs": [
    {
     "data": {
      "text/plain": [
       "0.4444444444444445"
      ]
     },
     "execution_count": 49,
     "metadata": {},
     "output_type": "execute_result"
    }
   ],
   "source": [
    "f = 2*pre*rec/(pre + rec)\n",
    "f"
   ]
  },
  {
   "cell_type": "markdown",
   "id": "bdfb2208",
   "metadata": {},
   "source": [
    "## F-1 Score"
   ]
  },
  {
   "cell_type": "code",
   "execution_count": 51,
   "id": "3a36b81f",
   "metadata": {},
   "outputs": [],
   "source": [
    "import csv  \n",
    "header = ['acc', 'tpr', 'fpr', 'tnr','fnr','prec','rec','f1']\n",
    "data = [acc,tpr,fpr,tnr,fnr,pre,rec,f]\n",
    "\n",
    "with open('countries.csv', 'w', encoding='UTF8') as f:\n",
    "    writer = csv.writer(f)\n",
    "\n",
    "    # write the header\n",
    "    writer.writerow(header)\n",
    "\n",
    "    # write the data\n",
    "    writer.writerow(data)"
   ]
  }
 ],
 "metadata": {
  "kernelspec": {
   "display_name": "Python 3",
   "language": "python",
   "name": "python3"
  },
  "language_info": {
   "codemirror_mode": {
    "name": "ipython",
    "version": 3
   },
   "file_extension": ".py",
   "mimetype": "text/x-python",
   "name": "python",
   "nbconvert_exporter": "python",
   "pygments_lexer": "ipython3",
   "version": "3.8.8"
  }
 },
 "nbformat": 4,
 "nbformat_minor": 5
}
