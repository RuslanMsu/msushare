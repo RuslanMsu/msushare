{
  "nbformat": 4,
  "nbformat_minor": 0,
  "metadata": {
    "colab": {
      "name": "Untitled0.ipynb",
      "provenance": [],
      "collapsed_sections": []
    },
    "kernelspec": {
      "name": "python3",
      "display_name": "Python 3"
    },
    "language_info": {
      "name": "python"
    }
  },
  "cells": [
    {
      "cell_type": "markdown",
      "source": [
        "Импорт библиотек"
      ],
      "metadata": {
        "id": "ejUUihJxWWRd"
      }
    },
    {
      "cell_type": "code",
      "source": [
        "import numpy as np\n",
        "import matplotlib.pyplot as plt\n",
        "import scipy.stats as sts\n",
        "%matplotlib inline"
      ],
      "metadata": {
        "id": "oqDg-Ga3WEJN"
      },
      "execution_count": 17,
      "outputs": []
    },
    {
      "cell_type": "markdown",
      "source": [
        "Зададим случайную величину, имеющую экспоненциальное распределение и выведем ее характеристики - мат. ожидание и дисперсию. Параметр масштаба scale = 1/(lambda)\n"
      ],
      "metadata": {
        "id": "91SyI4SSWcfl"
      }
    },
    {
      "cell_type": "code",
      "source": [
        "exponential_rv = sts.expon(scale = 1.5)\n",
        "m_exp, v_exp = exponential_rv.stats()\n",
        "print('mean = %s, variance = %s' % (m_exp, v_exp))"
      ],
      "metadata": {
        "colab": {
          "base_uri": "https://localhost:8080/"
        },
        "id": "CJffxj8eWFqx",
        "outputId": "97135f62-6e17-4403-d52b-c8acc7d8bf58"
      },
      "execution_count": 18,
      "outputs": [
        {
          "output_type": "stream",
          "name": "stdout",
          "text": [
            "mean = 1.5, variance = 2.25\n"
          ]
        }
      ]
    },
    {
      "cell_type": "markdown",
      "source": [
        "Подготовим данные для построения графиков: выборку случайной величины размера 1000 и значения фукции плотности вероятности на отрезке [0,8]"
      ],
      "metadata": {
        "id": "WeNDgp0vWnn3"
      }
    },
    {
      "cell_type": "code",
      "source": [
        "r_val = exponential_rv.rvs(size=1000)\n",
        "x = np.linspace(0,8,200)\n",
        "pdf = exponential_rv.pdf(x)"
      ],
      "metadata": {
        "id": "mzEWG65RWGwA"
      },
      "execution_count": 19,
      "outputs": []
    },
    {
      "cell_type": "markdown",
      "source": [
        "Внимание! Параметр normed=True в последней версии библиотеки matplotlib.pyplot устарел и вместо него используется параметр density=True\n",
        "\n",
        "Построим графики плотности вероятности и гистограмму распределения выборки случайной величины"
      ],
      "metadata": {
        "id": "YT8EJpwwWqHR"
      }
    },
    {
      "cell_type": "code",
      "source": [
        "plt.plot(x, pdf, label = 'Exp pdf')\n",
        "plt.hist(r_val, density = True, label = 'Exp hist')\n",
        "plt.legend()\n",
        "plt.ylabel('$Exp(x)$')\n",
        "plt.xlabel('$x$')"
      ],
      "metadata": {
        "colab": {
          "base_uri": "https://localhost:8080/",
          "height": 300
        },
        "id": "ShtYxrfRWJl1",
        "outputId": "d627c9b4-58ec-4ca0-fafa-8c21eb729f8d"
      },
      "execution_count": 20,
      "outputs": [
        {
          "output_type": "execute_result",
          "data": {
            "text/plain": [
              "Text(0.5, 0, '$x$')"
            ]
          },
          "metadata": {},
          "execution_count": 20
        },
        {
          "output_type": "display_data",
          "data": {
            "image/png": "[encoded data removed]",
            "text/plain": [
              "<Figure size 432x288 with 1 Axes>"
            ]
          },
          "metadata": {
            "needs_background": "light"
          }
        }
      ]
    },
    {
      "cell_type": "markdown",
      "source": [
        "Сформируем массивы размера 1000 выборочных средних для выборок размера 5, 10, 50\n"
      ],
      "metadata": {
        "id": "1VSGbAIfWwa7"
      }
    },
    {
      "cell_type": "code",
      "source": [
        "sm_5 = [np.mean(exponential_rv.rvs(size=5)) for i in np.arange(1, 1000)]\n",
        "sm_10 = [np.mean(exponential_rv.rvs(size=10)) for i in np.arange(1, 1000)]\n",
        "sm_50 = [np.mean(exponential_rv.rvs(size=50)) for i in np.arange(1, 1000)]"
      ],
      "metadata": {
        "id": "8CFiXDjAWyjZ"
      },
      "execution_count": 21,
      "outputs": []
    },
    {
      "cell_type": "markdown",
      "source": [
        "Определим параметры нормальных распределений по теоретическим значениям мат. ожидания и дисперсии исходной случайной величины.\n",
        "Данные нормальные рапределения будут аппроксимировать распределение выборочных средних для выборок размера 5, 10, 50.\n",
        "Выведем значения параметров нормальных распределений"
      ],
      "metadata": {
        "id": "jWAqNZ3RWzx1"
      }
    },
    {
      "cell_type": "code",
      "source": [
        "mu = m_exp\n",
        "sigma = np.sqrt(v_exp/5)\n",
        "norm_rv_5 = sts.norm(loc=mu, scale=sigma)\n",
        "print('Normal distribution parameters for sample size = 5:\\n mu = %s, sigma = %s' % (mu, sigma))"
      ],
      "metadata": {
        "colab": {
          "base_uri": "https://localhost:8080/"
        },
        "id": "HXvrZs34W1xk",
        "outputId": "91737c60-6bfa-4b8b-fffd-8989d7f6e3dc"
      },
      "execution_count": 22,
      "outputs": [
        {
          "output_type": "stream",
          "name": "stdout",
          "text": [
            "Normal distribution parameters for sample size = 5:\n",
            " mu = 1.5, sigma = 0.6708203932499369\n"
          ]
        }
      ]
    },
    {
      "cell_type": "code",
      "source": [
        "mu = m_exp\n",
        "sigma = np.sqrt(v_exp/10)\n",
        "norm_rv_10 = sts.norm(loc=mu, scale=sigma)\n",
        "print('Normal distribution parameters for sample size = 10:\\n mu = %s, sigma = %s' % (mu, sigma))"
      ],
      "metadata": {
        "colab": {
          "base_uri": "https://localhost:8080/"
        },
        "id": "8DoAqfNoW3at",
        "outputId": "944c177f-f536-48d0-91e4-8dd7c676c08c"
      },
      "execution_count": 23,
      "outputs": [
        {
          "output_type": "stream",
          "name": "stdout",
          "text": [
            "Normal distribution parameters for sample size = 10:\n",
            " mu = 1.5, sigma = 0.4743416490252569\n"
          ]
        }
      ]
    },
    {
      "cell_type": "code",
      "source": [
        "mu = m_exp\n",
        "sigma = np.sqrt(v_exp/50)\n",
        "norm_rv_50 = sts.norm(loc=mu, scale=sigma)\n",
        "print('Normal distribution parameters for sample size = 50:\\n mu = %s, sigma = %s' % (mu, sigma))"
      ],
      "metadata": {
        "colab": {
          "base_uri": "https://localhost:8080/"
        },
        "id": "kBirLOtpW4qV",
        "outputId": "b8ae0f40-3ccd-4e15-f456-12addb0e277d"
      },
      "execution_count": 24,
      "outputs": [
        {
          "output_type": "stream",
          "name": "stdout",
          "text": [
            "Normal distribution parameters for sample size = 50:\n",
            " mu = 1.5, sigma = 0.21213203435596426\n"
          ]
        }
      ]
    },
    {
      "cell_type": "markdown",
      "source": [
        "Подготовим данные для построения графиков: значения фукций плотностей вероятности нормальных распределений на отрезке [0,4]"
      ],
      "metadata": {
        "id": "SFmn3bniW5-O"
      }
    },
    {
      "cell_type": "code",
      "source": [
        "x = np.linspace(0,4,100)\n",
        "pdf_5 = norm_rv_5.pdf(x)\n",
        "pdf_10 = norm_rv_10.pdf(x)\n",
        "pdf_50 = norm_rv_50.pdf(x)"
      ],
      "metadata": {
        "id": "ZjM33dNdW7Xc"
      },
      "execution_count": 25,
      "outputs": []
    },
    {
      "cell_type": "markdown",
      "source": [
        "Построим графики плотностей вероятности и гистограмму распределения выборочных средних для выборок размера 5, 10, 50"
      ],
      "metadata": {
        "id": "WaEjiqc1W8hm"
      }
    },
    {
      "cell_type": "code",
      "source": [
        "plt.plot(x, pdf_5, label = 'normal distribution')\n",
        "plt.hist(sm_5, density = True, label = 'sample mean distribution')\n",
        "plt.title('Comparing distributions for n = 5')\n",
        "plt.grid(True)\n",
        "plt.ylabel('$f(mean)$')\n",
        "plt.xlabel('$mean$')"
      ],
      "metadata": {
        "colab": {
          "base_uri": "https://localhost:8080/",
          "height": 312
        },
        "id": "IoDuI4PuW96f",
        "outputId": "f09ef0be-c93f-4b37-865d-5c471b93014c"
      },
      "execution_count": 26,
      "outputs": [
        {
          "output_type": "execute_result",
          "data": {
            "text/plain": [
              "Text(0.5, 0, '$mean$')"
            ]
          },
          "metadata": {},
          "execution_count": 26
        },
        {
          "output_type": "display_data",
          "data": {
            "image/png": "[encoded data removed]",
            "text/plain": [
              "<Figure size 432x288 with 1 Axes>"
            ]
          },
          "metadata": {
            "needs_background": "light"
          }
        }
      ]
    },
    {
      "cell_type": "code",
      "source": [
        "plt.plot(x, pdf_10, label = 'normal distribution')\n",
        "plt.hist(sm_10, density = True, label = 'sample mean distribution')\n",
        "plt.title('Comparing distributions for n = 10')\n",
        "plt.grid(True)\n",
        "plt.ylabel('$f(mean)$')\n",
        "plt.xlabel('$mean$')"
      ],
      "metadata": {
        "colab": {
          "base_uri": "https://localhost:8080/",
          "height": 312
        },
        "id": "XmEY-D4qW_cJ",
        "outputId": "4fb2ec31-eef2-49ca-ce61-903c995d60c9"
      },
      "execution_count": 27,
      "outputs": [
        {
          "output_type": "execute_result",
          "data": {
            "text/plain": [
              "Text(0.5, 0, '$mean$')"
            ]
          },
          "metadata": {},
          "execution_count": 27
        },
        {
          "output_type": "display_data",
          "data": {
            "image/png": "[encoded data removed]",
            "text/plain": [
              "<Figure size 432x288 with 1 Axes>"
            ]
          },
          "metadata": {
            "needs_background": "light"
          }
        }
      ]
    },
    {
      "cell_type": "code",
      "source": [
        "plt.plot(x, pdf_50, label = 'normal distribution')\n",
        "plt.hist(sm_50, density = True, label = 'sample mean distribution')\n",
        "plt.title('Comparing distributions for n = 50')\n",
        "plt.grid(True)\n",
        "plt.ylabel('$f(mean)$')\n",
        "plt.xlabel('$mean$')"
      ],
      "metadata": {
        "colab": {
          "base_uri": "https://localhost:8080/",
          "height": 312
        },
        "id": "vSPcC_WUXAvQ",
        "outputId": "ddeb5eaa-7048-46ad-f777-2e346475a676"
      },
      "execution_count": 28,
      "outputs": [
        {
          "output_type": "execute_result",
          "data": {
            "text/plain": [
              "Text(0.5, 0, '$mean$')"
            ]
          },
          "metadata": {},
          "execution_count": 28
        },
        {
          "output_type": "display_data",
          "data": {
            "image/png": "[encoded data removed]",
            "text/plain": [
              "<Figure size 432x288 with 1 Axes>"
            ]
          },
          "metadata": {
            "needs_background": "light"
          }
        }
      ]
    },
    {
      "cell_type": "markdown",
      "source": [
        "Выводы:\n",
        "\n",
        "С ростом объема выборки для подсчета выборочных средних точность приближения рапределения выборочных средних к нормальному распределению увеличивается\n",
        "Также распределение выборочных средних становится более гладким и сужается"
      ],
      "metadata": {
        "id": "XOvbyyOCXCeh"
      }
    }
  ]
}