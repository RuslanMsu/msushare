{
 "cells": [
  {
   "cell_type": "code",
   "execution_count": 21,
   "id": "fbc82023",
   "metadata": {},
   "outputs": [],
   "source": [
    "import numpy as np\n",
    "import matplotlib.pyplot as plt\n",
    "import pandas as pn\n"
   ]
  },
  {
   "cell_type": "code",
   "execution_count": 22,
   "id": "8574c37d",
   "metadata": {},
   "outputs": [],
   "source": [
    "data = pn.read_csv('titanic.csv', index_col=\"PassengerId\")"
   ]
  },
  {
   "cell_type": "code",
   "execution_count": 66,
   "id": "aa09dc74",
   "metadata": {
    "scrolled": true
   },
   "outputs": [
    {
     "data": {
      "text/html": [
       "<div>\n",
       "<style scoped>\n",
       "    .dataframe tbody tr th:only-of-type {\n",
       "        vertical-align: middle;\n",
       "    }\n",
       "\n",
       "    .dataframe tbody tr th {\n",
       "        vertical-align: top;\n",
       "    }\n",
       "\n",
       "    .dataframe thead th {\n",
       "        text-align: right;\n",
       "    }\n",
       "</style>\n",
       "<table border=\"1\" class=\"dataframe\">\n",
       "  <thead>\n",
       "    <tr style=\"text-align: right;\">\n",
       "      <th></th>\n",
       "      <th>Survived</th>\n",
       "      <th>Pclass</th>\n",
       "      <th>Name</th>\n",
       "      <th>Sex</th>\n",
       "      <th>Age</th>\n",
       "      <th>SibSp</th>\n",
       "      <th>Parch</th>\n",
       "      <th>Ticket</th>\n",
       "      <th>Fare</th>\n",
       "      <th>Cabin</th>\n",
       "      <th>Embarked</th>\n",
       "    </tr>\n",
       "    <tr>\n",
       "      <th>PassengerId</th>\n",
       "      <th></th>\n",
       "      <th></th>\n",
       "      <th></th>\n",
       "      <th></th>\n",
       "      <th></th>\n",
       "      <th></th>\n",
       "      <th></th>\n",
       "      <th></th>\n",
       "      <th></th>\n",
       "      <th></th>\n",
       "      <th></th>\n",
       "    </tr>\n",
       "  </thead>\n",
       "  <tbody>\n",
       "    <tr>\n",
       "      <th>1</th>\n",
       "      <td>0</td>\n",
       "      <td>3</td>\n",
       "      <td>Braund, Mr. Owen Harris</td>\n",
       "      <td>male</td>\n",
       "      <td>22.0</td>\n",
       "      <td>1</td>\n",
       "      <td>0</td>\n",
       "      <td>A/5 21171</td>\n",
       "      <td>7.2500</td>\n",
       "      <td>NaN</td>\n",
       "      <td>S</td>\n",
       "    </tr>\n",
       "    <tr>\n",
       "      <th>2</th>\n",
       "      <td>1</td>\n",
       "      <td>1</td>\n",
       "      <td>Cumings, Mrs. John Bradley (Florence Briggs Th...</td>\n",
       "      <td>female</td>\n",
       "      <td>38.0</td>\n",
       "      <td>1</td>\n",
       "      <td>0</td>\n",
       "      <td>PC 17599</td>\n",
       "      <td>71.2833</td>\n",
       "      <td>C85</td>\n",
       "      <td>C</td>\n",
       "    </tr>\n",
       "    <tr>\n",
       "      <th>3</th>\n",
       "      <td>1</td>\n",
       "      <td>3</td>\n",
       "      <td>Heikkinen, Miss. Laina</td>\n",
       "      <td>female</td>\n",
       "      <td>26.0</td>\n",
       "      <td>0</td>\n",
       "      <td>0</td>\n",
       "      <td>STON/O2. 3101282</td>\n",
       "      <td>7.9250</td>\n",
       "      <td>NaN</td>\n",
       "      <td>S</td>\n",
       "    </tr>\n",
       "    <tr>\n",
       "      <th>4</th>\n",
       "      <td>1</td>\n",
       "      <td>1</td>\n",
       "      <td>Futrelle, Mrs. Jacques Heath (Lily May Peel)</td>\n",
       "      <td>female</td>\n",
       "      <td>35.0</td>\n",
       "      <td>1</td>\n",
       "      <td>0</td>\n",
       "      <td>113803</td>\n",
       "      <td>53.1000</td>\n",
       "      <td>C123</td>\n",
       "      <td>S</td>\n",
       "    </tr>\n",
       "    <tr>\n",
       "      <th>5</th>\n",
       "      <td>0</td>\n",
       "      <td>3</td>\n",
       "      <td>Allen, Mr. William Henry</td>\n",
       "      <td>male</td>\n",
       "      <td>35.0</td>\n",
       "      <td>0</td>\n",
       "      <td>0</td>\n",
       "      <td>373450</td>\n",
       "      <td>8.0500</td>\n",
       "      <td>NaN</td>\n",
       "      <td>S</td>\n",
       "    </tr>\n",
       "  </tbody>\n",
       "</table>\n",
       "</div>"
      ],
      "text/plain": [
       "             Survived  Pclass  \\\n",
       "PassengerId                     \n",
       "1                   0       3   \n",
       "2                   1       1   \n",
       "3                   1       3   \n",
       "4                   1       1   \n",
       "5                   0       3   \n",
       "\n",
       "                                                          Name     Sex   Age  \\\n",
       "PassengerId                                                                    \n",
       "1                                      Braund, Mr. Owen Harris    male  22.0   \n",
       "2            Cumings, Mrs. John Bradley (Florence Briggs Th...  female  38.0   \n",
       "3                                       Heikkinen, Miss. Laina  female  26.0   \n",
       "4                 Futrelle, Mrs. Jacques Heath (Lily May Peel)  female  35.0   \n",
       "5                                     Allen, Mr. William Henry    male  35.0   \n",
       "\n",
       "             SibSp  Parch            Ticket     Fare Cabin Embarked  \n",
       "PassengerId                                                          \n",
       "1                1      0         A/5 21171   7.2500   NaN        S  \n",
       "2                1      0          PC 17599  71.2833   C85        C  \n",
       "3                0      0  STON/O2. 3101282   7.9250   NaN        S  \n",
       "4                1      0            113803  53.1000  C123        S  \n",
       "5                0      0            373450   8.0500   NaN        S  "
      ]
     },
     "execution_count": 66,
     "metadata": {},
     "output_type": "execute_result"
    }
   ],
   "source": [
    "data.head()"
   ]
  },
  {
   "cell_type": "markdown",
   "id": "c1a211fb",
   "metadata": {},
   "source": [
    "### 1\n",
    "Какое количество мужчин и женщин ехало на корабле? В качестве\n",
    "ответа приведите два числа через пробел."
   ]
  },
  {
   "cell_type": "code",
   "execution_count": 55,
   "id": "5f57c594",
   "metadata": {},
   "outputs": [
    {
     "name": "stdout",
     "output_type": "stream",
     "text": [
      "female =  314\n",
      "male =  577\n"
     ]
    }
   ],
   "source": [
    "male = data['Sex'].value_counts()['male']\n",
    "female = data['Sex'].value_counts().female\n",
    "print('female = ',female)\n",
    "print('male = ',male)"
   ]
  },
  {
   "cell_type": "markdown",
   "id": "0470fd9f",
   "metadata": {},
   "source": [
    "### 2\n",
    "Какой части пассажиров удалось выжить? \n",
    "Посчитайте долю выживших пассажиров. \n",
    "Ответ приведите в процентах (число в интервале от 0 до 100, знак процента не нужен), округлив до двух знаков."
   ]
  },
  {
   "cell_type": "code",
   "execution_count": 101,
   "id": "b4ef0216",
   "metadata": {},
   "outputs": [
    {
     "data": {
      "text/plain": [
       "38.38"
      ]
     },
     "execution_count": 101,
     "metadata": {},
     "output_type": "execute_result"
    }
   ],
   "source": [
    "ser = (data['Survived'].value_counts(normalize=True)[1])*100\n",
    "ser.round(2)"
   ]
  },
  {
   "cell_type": "markdown",
   "id": "c4d53425",
   "metadata": {},
   "source": [
    "### 3\n",
    "Какую долю пассажиры первого класса составляли среди всех пассажиров? Ответ приведите в процентах (число в интервале от 0 до\n",
    "100, знак процента не нужен), округлив до двух знаков.\n"
   ]
  },
  {
   "cell_type": "code",
   "execution_count": 87,
   "id": "e227a672",
   "metadata": {},
   "outputs": [
    {
     "data": {
      "text/plain": [
       "3    0.551066\n",
       "1    0.242424\n",
       "2    0.206510\n",
       "Name: Pclass, dtype: float64"
      ]
     },
     "execution_count": 87,
     "metadata": {},
     "output_type": "execute_result"
    }
   ],
   "source": [
    "d = data['Pclass'].value_counts(normalize=True)\n",
    "d\n"
   ]
  },
  {
   "cell_type": "code",
   "execution_count": 88,
   "id": "c6e2228b",
   "metadata": {
    "scrolled": true
   },
   "outputs": [
    {
     "data": {
      "text/plain": [
       "0.24"
      ]
     },
     "execution_count": 88,
     "metadata": {},
     "output_type": "execute_result"
    }
   ],
   "source": [
    "((data['Pclass'] == 1).sum()/len(data)).round(2)"
   ]
  },
  {
   "cell_type": "markdown",
   "id": "089d149a",
   "metadata": {},
   "source": [
    "### 4\n",
    " Какого возраста были пассажиры? Посчитайте среднее и медиану возраста пассажиров. Посчитайте среднее и медиану возраста\n",
    "пассажиров. В качестве ответа приведите два числа через пробел."
   ]
  },
  {
   "cell_type": "code",
   "execution_count": 129,
   "id": "eaf1d5a5",
   "metadata": {
    "scrolled": true
   },
   "outputs": [
    {
     "data": {
      "text/plain": [
       "29.7"
      ]
     },
     "execution_count": 129,
     "metadata": {},
     "output_type": "execute_result"
    }
   ],
   "source": [
    "round(data['Age'].mean(),2)"
   ]
  },
  {
   "cell_type": "code",
   "execution_count": 130,
   "id": "67abe63f",
   "metadata": {},
   "outputs": [
    {
     "data": {
      "text/plain": [
       "28.0"
      ]
     },
     "execution_count": 130,
     "metadata": {},
     "output_type": "execute_result"
    }
   ],
   "source": [
    "\n",
    "round(data['Age'].median(),2)"
   ]
  },
  {
   "cell_type": "markdown",
   "id": "1d703ece",
   "metadata": {},
   "source": [
    "### 5\n",
    "\n",
    "Коррелируют ли число братьев/сестер/супругов с числом родителей/детей? Посчитайте корреляцию Пирсона между признаками SibSp и Parch."
   ]
  },
  {
   "cell_type": "code",
   "execution_count": 164,
   "id": "b4322788",
   "metadata": {},
   "outputs": [
    {
     "data": {
      "text/plain": [
       "0.41483769862015624"
      ]
     },
     "execution_count": 164,
     "metadata": {},
     "output_type": "execute_result"
    }
   ],
   "source": [
    "data.corr(method='pearson')['SibSp']['Parch']"
   ]
  },
  {
   "cell_type": "markdown",
   "id": "46f9d395",
   "metadata": {},
   "source": [
    "### 6\n",
    "Какое самое популярное женское имя на корабле? Извлеките из\n",
    "полного имени пассажира (колонка Name) его личное имя (First\n",
    "Name). Это задание — типичный пример того, с чем сталкивается специалист по анализу данных. Данные очень разнородные и\n",
    "шумные, но из них требуется извлечь необходимую информацию.\n",
    "Попробуйте вручную разобрать несколько значений столбца Name\n",
    "и выработать правило для извлечения имен, а также разделения\n",
    "их на женские и мужские"
   ]
  },
  {
   "cell_type": "code",
   "execution_count": 336,
   "id": "d8c1ada3",
   "metadata": {},
   "outputs": [
    {
     "data": {
      "text/plain": [
       "PassengerId\n",
       "2      Cumings, Mrs. John Bradley (Florence Briggs Th...\n",
       "3                                 Heikkinen, Miss. Laina\n",
       "4           Futrelle, Mrs. Jacques Heath (Lily May Peel)\n",
       "9      Johnson, Mrs. Oscar W (Elisabeth Vilhelmina Berg)\n",
       "10                   Nasser, Mrs. Nicholas (Adele Achem)\n",
       "                             ...                        \n",
       "881         Shelley, Mrs. William (Imanita Parrish Hall)\n",
       "883                         Dahlberg, Miss. Gerda Ulrika\n",
       "886                 Rice, Mrs. William (Margaret Norton)\n",
       "888                         Graham, Miss. Margaret Edith\n",
       "889             Johnston, Miss. Catherine Helen \"Carrie\"\n",
       "Name: Name, Length: 314, dtype: object"
      ]
     },
     "execution_count": 336,
     "metadata": {},
     "output_type": "execute_result"
    }
   ],
   "source": [
    "names = data.loc[(data['Sex'] == 'female')]['Name']\n",
    "names\n",
    "\n",
    "   "
   ]
  },
  {
   "cell_type": "code",
   "execution_count": 330,
   "id": "8060d1c7",
   "metadata": {},
   "outputs": [
    {
     "data": {
      "text/plain": [
       "308"
      ]
     },
     "execution_count": 330,
     "metadata": {},
     "output_type": "execute_result"
    }
   ],
   "source": [
    "name = list()\n",
    "for i in names:\n",
    "    if 'Miss.' in i:\n",
    "        ind = i.index(\"Miss.\")\n",
    "        name.append( i[ind+1])\n",
    "    else:\n",
    "        for c in i:\n",
    "            if c[0] == '(':\n",
    "                name.append(c)\n",
    "                \n",
    "new = list()\n",
    "for i in name:\n",
    "    if '(' or ')' in i:\n",
    "        i = i.replace('(', '')\n",
    "        i = i.replace(')', '')\n",
    "    new.append(i)\n"
   ]
  },
  {
   "cell_type": "code",
   "execution_count": null,
   "id": "f758a027",
   "metadata": {},
   "outputs": [],
   "source": [
    "'Miss. Name'"
   ]
  },
  {
   "cell_type": "code",
   "execution_count": 349,
   "id": "456a56f8",
   "metadata": {},
   "outputs": [],
   "source": [
    "def get_name(full_name):\n",
    "    miss_ind = full_name.find('Miss.')\n",
    "    name = ''\n",
    "    \n",
    "    if miss_ind != -1:\n",
    "        name = full_name[miss_ind + 6:].split(' ')[0]\n",
    "    else:\n",
    "        bracket_ind = full_name.find('(')\n",
    "        \n",
    "        if bracket_ind != -1:\n",
    "            name = full_name[bracket_ind+1:].split(' ')[0].replace(')', '')\n",
    "    \n",
    "    return name"
   ]
  },
  {
   "cell_type": "code",
   "execution_count": 375,
   "id": "bdcd6df3",
   "metadata": {},
   "outputs": [
    {
     "data": {
      "text/plain": [
       "Anna         15\n",
       "Mary         14\n",
       "Elizabeth    11\n",
       "Margaret     10\n",
       "              7\n",
       "             ..\n",
       "Manca         1\n",
       "Miriam        1\n",
       "Hildur        1\n",
       "Delia         1\n",
       "Emma          1\n",
       "Name: true_name, Length: 175, dtype: int64"
      ]
     },
     "execution_count": 375,
     "metadata": {},
     "output_type": "execute_result"
    }
   ],
   "source": [
    "women = data[data['Sex'] == 'female'][['Name']]\n",
    "women['true_name'] = women['Name'].apply(get_name)\n",
    "women['true_name'].value_counts(ascending=False)"
   ]
  },
  {
   "cell_type": "code",
   "execution_count": 333,
   "id": "ee9598ba",
   "metadata": {},
   "outputs": [
    {
     "data": {
      "text/plain": [
       "Anna         15\n",
       "Mary         14\n",
       "Elizabeth    11\n",
       "Margaret     10\n",
       "Alice         6\n",
       "             ..\n",
       "Eva           1\n",
       "Eugenie       1\n",
       "Esther        1\n",
       "Erna          1\n",
       "Wendla        1\n",
       "Length: 173, dtype: int64"
      ]
     },
     "execution_count": 333,
     "metadata": {},
     "output_type": "execute_result"
    }
   ],
   "source": [
    "new_f = pn.DataFrame(new)\n",
    "new_f.value_counts()"
   ]
  }
 ],
 "metadata": {
  "kernelspec": {
   "display_name": "Python 3",
   "language": "python",
   "name": "python3"
  },
  "language_info": {
   "codemirror_mode": {
    "name": "ipython",
    "version": 3
   },
   "file_extension": ".py",
   "mimetype": "text/x-python",
   "name": "python",
   "nbconvert_exporter": "python",
   "pygments_lexer": "ipython3",
   "version": "3.8.8"
  }
 },
 "nbformat": 4,
 "nbformat_minor": 5
}
